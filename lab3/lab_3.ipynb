{
  "cells": [
    {
      "cell_type": "markdown",
      "metadata": {
        "id": "8OTv6guxAXhg"
      },
      "source": [
        "# Sieci neuronowe"
      ]
    },
    {
      "cell_type": "markdown",
      "metadata": {
        "id": "YAN_lctRAXhi"
      },
      "source": [
        "## Wstęp\n",
        "\n",
        "Celem laboratorium jest zapoznanie się z podstawami sieci neuronowych oraz uczeniem głębokim (*deep learning*). Zapoznasz się na nim z następującymi tematami:\n",
        "- treningiem prostych sieci neuronowych, w szczególności z:\n",
        "  - regresją liniową w sieciach neuronowych\n",
        "  - optymalizacją funkcji kosztu\n",
        "  - algorytmem spadku wzdłuż gradientu\n",
        "  - siecią typu Multilayer Perceptron (MLP)\n",
        "- frameworkiem PyTorch, w szczególności z:\n",
        "  - ładowaniem danych\n",
        "  - preprocessingiem danych\n",
        "  - pisaniem pętli treningowej i walidacyjnej\n",
        "  - walidacją modeli\n",
        "- architekturą i hiperaprametrami sieci MLP, w szczególności z:\n",
        "  - warstwami gęstymi (w pełni połączonymi)\n",
        "  - funkcjami aktywacji\n",
        "  - regularyzacją: L2, dropout"
      ]
    },
    {
      "cell_type": "markdown",
      "metadata": {
        "id": "yhl7Sl_xAXhj"
      },
      "source": [
        "## Wykorzystywane biblioteki\n",
        "\n",
        "Zaczniemy od pisania ręcznie prostych sieci w bibliotece Numpy, służącej do obliczeń numerycznych na CPU. Później przejdziemy do wykorzystywania frameworka PyTorch, służącego do obliczeń numerycznych na CPU, GPU oraz automatycznego różniczkowania, wykorzystywanego głównie do treningu sieci neuronowych.\n",
        "\n",
        "Wykorzystamy PyTorcha ze względu na popularność, łatwość instalacji i użycia, oraz dużą kontrolę nad niskopoziomowymi aspektami budowy i treningu sieci neuronowych. Framework ten został stworzony do zastosowań badawczych i naukowych, ale ze względu na wygodę użycia stał się bardzo popularny także w przemyśle. W szczególności całkowicie zdominował przetwarzanie języka naturalnego (NLP) oraz uczenie na grafach.\n",
        "\n",
        "Pierwszy duży framework do deep learningu, oraz obecnie najpopularniejszy, to TensorFlow, wraz z wysokopoziomową nakładką Keras. Są jednak szanse, że Google (autorzy) będzie go powoli porzucać na rzecz ich nowego frameworka JAX ([dyskusja](https://www.reddit.com/r/MachineLearning/comments/vfl57t/d_google_quietly_moving_its_products_from/), [artykuł Business Insidera](https://www.businessinsider.com/facebook-pytorch-beat-google-tensorflow-jax-meta-ai-2022-6?IR=T)), który jest bardzo świeżym, ale ciekawym narzędziem.\n",
        "\n",
        "Trzecia, ale znacznie mniej popularna od powyższych opcja to Apache MXNet."
      ]
    },
    {
      "cell_type": "markdown",
      "metadata": {
        "id": "JXNj-mYtAXhj"
      },
      "source": [
        "## Konfiguracja własnego komputera\n",
        "\n",
        "Jeżeli korzystasz z własnego komputera, to musisz zainstalować trochę więcej bibliotek (Google Colab ma je już zainstalowane).\n",
        "\n",
        "Jeżeli nie masz GPU lub nie chcesz z niego korzystać, to wystarczy znaleźć odpowiednią komendę CPU [na stronie PyTorcha](https://pytorch.org/get-started/locally/). Dla Anacondy odpowiednia komenda została podana poniżej, dla pip'a znajdź ją na stronie.\n",
        "\n",
        "Jeżeli chcesz korzystać ze wsparcia GPU (na tym laboratorium nie będzie potrzebne, na kolejnych może przyspieszyć nieco obliczenia), to musi być to odpowiednio nowa karta NVidii, mająca CUDA compatibility ([lista](https://developer.nvidia.com/cuda-gpus)). Poza PyTorchem będzie potrzebne narzędzie NVidia CUDA w wersji 11.6 lub 11.7. Instalacja na Windowsie jest bardzo prosta (wystarczy ściągnąć plik EXE i zainstalować jak każdy inny program). Instalacja na Linuxie jest trudna i można względnie łatwo zepsuć sobie system, ale jeżeli chcesz spróbować, to [ten tutorial](https://www.youtube.com/results?search_query=nvidia+cuda+install+ubuntu+20.04) jest bardzo dobry."
      ]
    },
    {
      "cell_type": "code",
      "execution_count": 69,
      "metadata": {
        "colab": {
          "base_uri": "https://localhost:8080/"
        },
        "id": "DfWLPdiOAXhk",
        "outputId": "b03ebc8b-e4bf-4521-ec71-242464233279"
      },
      "outputs": [
        {
          "output_type": "stream",
          "name": "stdout",
          "text": [
            "/bin/bash: line 1: conda: command not found\n"
          ]
        }
      ],
      "source": [
        "# for conda users\n",
        "!conda install -y matplotlib pandas pytorch torchvision -c pytorch -c conda-forge"
      ]
    },
    {
      "cell_type": "markdown",
      "metadata": {
        "id": "Othm3C2lLAsj"
      },
      "source": [
        "## Wprowadzenie\n",
        "\n",
        "Zanim zaczniemy naszą przygodę z sieciami neuronowymi, przyjrzyjmy się prostemu przykładowi regresji liniowej na syntetycznych danych:"
      ]
    },
    {
      "cell_type": "code",
      "execution_count": 70,
      "metadata": {
        "id": "rnJsfxbnLAsj"
      },
      "outputs": [],
      "source": [
        "from typing import Tuple, Dict\n",
        "\n",
        "import numpy as np\n",
        "import matplotlib.pyplot as plt"
      ]
    },
    {
      "cell_type": "code",
      "execution_count": 71,
      "metadata": {
        "colab": {
          "base_uri": "https://localhost:8080/",
          "height": 447
        },
        "id": "EaYpEXzBLAsl",
        "outputId": "b1a9a9cb-4e20-4613-e904-42138b394839"
      },
      "outputs": [
        {
          "output_type": "execute_result",
          "data": {
            "text/plain": [
              "<matplotlib.collections.PathCollection at 0x7d19dc126380>"
            ]
          },
          "metadata": {},
          "execution_count": 71
        },
        {
          "output_type": "display_data",
          "data": {
            "text/plain": [
              "<Figure size 640x480 with 1 Axes>"
            ],
            "image/png": "[encoded data removed]"
          },
          "metadata": {}
        }
      ],
      "source": [
        "np.random.seed(0)\n",
        "\n",
        "x = np.linspace(0, 1, 100)\n",
        "y = x + np.random.normal(scale=0.1, size=x.shape)\n",
        "\n",
        "plt.scatter(x, y)"
      ]
    },
    {
      "cell_type": "markdown",
      "metadata": {
        "id": "PEM_-yKELAsl"
      },
      "source": [
        "W przeciwieństwie do laboratorium 1, tym razem będziemy chcieli rozwiązać ten problem własnoręcznie, bez użycia wysokopoziomowego interfejsu Scikit-learn'a. W tym celu musimy sobie przypomnieć sformułowanie naszego **problemu optymalizacyjnego (optimization problem)**.\n",
        "\n",
        "W przypadku prostej regresji liniowej (1 zmienna) mamy model postaci $\\hat{y} = \\alpha x + \\beta$, z dwoma parametrami, których będziemy się uczyć. Miarą niedopasowania modelu o danych parametrach jest **funkcja kosztu (cost function)**, nazywana też funkcją celu. Najczęściej używa się **błędu średniokwadratowego (mean squared error, MSE)**:\n",
        "$$\\large\n",
        "MSE = \\frac{1}{N} \\sum_{i}^{N} (y - \\hat{y})^2\n",
        "$$\n",
        "\n",
        "Od jakich $\\alpha$ i $\\beta$ zacząć? W najprostszym wypadku wystarczy po prostu je wylosować jako niewielkie liczby zmiennoprzecinkowe.\n",
        "\n",
        "#### Zadanie 1 (0.5 punkt)\n",
        "\n",
        "Uzupełnij kod funkcji `mse`, obliczającej błąd średniokwadratowy. Wykorzystaj Numpy'a w celu wektoryzacji obliczeń dla wydajności."
      ]
    },
    {
      "cell_type": "code",
      "execution_count": 72,
      "metadata": {
        "id": "RaA7Q46TLAsm"
      },
      "outputs": [],
      "source": [
        "def mse(y: np.ndarray, y_hat: np.ndarray) -> float:\n",
        "    return ((y - y_hat) ** 2).mean()\n"
      ]
    },
    {
      "cell_type": "code",
      "execution_count": 73,
      "metadata": {
        "colab": {
          "base_uri": "https://localhost:8080/",
          "height": 465
        },
        "id": "qSGfamGbLAsm",
        "outputId": "41608c9e-7b2a-471e-fb24-755b74ebf32a"
      },
      "outputs": [
        {
          "output_type": "stream",
          "name": "stdout",
          "text": [
            "MSE: 0.133\n"
          ]
        },
        {
          "output_type": "execute_result",
          "data": {
            "text/plain": [
              "[<matplotlib.lines.Line2D at 0x7d19dc1d0880>]"
            ]
          },
          "metadata": {},
          "execution_count": 73
        },
        {
          "output_type": "display_data",
          "data": {
            "text/plain": [
              "<Figure size 640x480 with 1 Axes>"
            ],
            "image/png": "[encoded data removed]"
          },
          "metadata": {}
        }
      ],
      "source": [
        "a = np.random.rand()\n",
        "b = np.random.rand()\n",
        "print(f\"MSE: {mse(y, a * x + b):.3f}\")\n",
        "\n",
        "plt.scatter(x, y)\n",
        "plt.plot(x, a * x + b, color=\"g\", linewidth=4)"
      ]
    },
    {
      "cell_type": "markdown",
      "metadata": {
        "id": "Y--E9Mp9LAsn"
      },
      "source": [
        "Losowe parametry radzą sobie nie najlepiej. Jak lepiej dopasować naszą prostą do danych? Zawsze możemy starać się wyprowadzić rozwiązanie analitycznie, i w tym wypadku nawet nam się uda. Jest to jednak szczególny i dość rzadki przypadek, a w szczególności nie będzie to możliwe w większych sieciach neuronowych.\n",
        "\n",
        "Potrzebna nam będzie **metoda optymalizacji (optimization method)**, dającą wartości parametrów minimalizujące dowolną różniczkowalną funkcję kosztu. Zdecydowanie najpopularniejszy jest tutaj **spadek wzdłuż gradientu (gradient descent)**.\n",
        "\n",
        "Metoda ta wywodzi się z prostych obserwacji, które tutaj przedstawimy. Bardziej szczegółowe rozwinięcie dla zainteresowanych: [sekcja 4.3 \"Deep Learning Book\"](https://www.deeplearningbook.org/contents/numerical.html), [ten praktyczny kurs](https://cs231n.github.io/optimization-1/), [analiza oryginalnej publikacji Cauchy'ego](https://www.math.uni-bielefeld.de/documenta/vol-ismp/40_lemarechal-claude.pdf) (oryginał w języku francuskim).\n",
        "\n",
        "Pochodna jest dokładnie równa granicy funkcji. Dla małego $\\epsilon$ można ją przybliżyć jako:\n",
        "$$\\large\n",
        "\\frac{f(x)}{dx} \\approx \\frac{f(x+\\epsilon) - f(x)}{\\epsilon}\n",
        "$$\n",
        "\n",
        "Przyglądając się temu równaniu widzimy, że:\n",
        "* dla funkcji rosnącej ($f(x+\\epsilon) > f(x)$) wyrażenie $\\frac{f(x)}{dx}$ będzie miało znak dodatni\n",
        "* dla funkcji malejącej ($f(x+\\epsilon) < f(x)$) wyrażenie $\\frac{f(x)}{dx}$ będzie miało znak ujemny\n",
        "\n",
        "Widzimy więc, że potrafimy wskazać kierunek zmniejszenia wartości funkcji, patrząc na znak pochodnej. Zaobserwowano także, że amplituda wartości w $\\frac{f(x)}{dx}$ jest tym większa, im dalej jesteśmy od minimum (maximum). Pochodna wyznacza więc, w jakim kierunku funkcja najszybciej rośnie, zaś przeciwny zwrot to ten, w którym funkcja najszybciej spada.\n",
        "\n",
        "Stosując powyższe do optymalizacji, mamy:\n",
        "$$\\large\n",
        "x_{t+1} = x_{t} -  \\alpha * \\frac{f(x)}{dx}\n",
        "$$\n",
        "\n",
        "$\\alpha$ to niewielka wartość (rzędu zwykle $10^{-5}$ - $10^{-2}$), wprowadzona, aby trzymać się założenia o małej zmianie parametrów ($\\epsilon$). Nazywa się ją **stałą uczącą (learning rate)** i jest zwykle najważniejszym hiperparametrem podczas nauki sieci.\n",
        "\n",
        "Metoda ta zakłada, że używamy całego zbioru danych do aktualizacji parametrów w każdym kroku, co nazywa się po prostu GD (od *gradient descent*) albo *full batch GD*. Wtedy każdy krok optymalizacji nazywa się **epoką (epoch)**.\n",
        "\n",
        "Im większa stała ucząca, tym większe nasze kroki podczas minimalizacji. Możemy więc uczyć szybciej, ale istnieje ryzyko, że będziemy \"przeskakiwać\" minima. Mniejsza stała ucząca to wolniejszy, ale dokładniejszy trening. Jednak nie zawsze ona pozwala osiągnąć lepsze wyniki, bo może okazać się, że utkniemy w minimum lokalnym. Można także zmieniać stałą uczącą podczas treningu, co nazywa się **learning rate scheduling (LR scheduling)**. Obrazowo:\n",
        "\n",
        "![learning_rate](http://www.bdhammel.com/assets/learning-rate/lr-types.png)"
      ]
    },
    {
      "cell_type": "markdown",
      "metadata": {
        "id": "496qEjkVLAso"
      },
      "source": [
        "![interactive LR](http://cdn-images-1.medium.com/max/640/1*eeIvlwkMNG1wSmj3FR6M2g.gif)"
      ]
    },
    {
      "cell_type": "markdown",
      "metadata": {
        "id": "RYkyAHKzLAsp"
      },
      "source": [
        "Policzmy więc pochodną dla naszej funkcji kosztu MSE. Pochodną liczymy po parametrach naszego modelu, bo to właśnie ich chcemy dopasować tak, żeby koszt był jak najmniejszy:\n",
        "\n",
        "$$\\large\n",
        "MSE = \\frac{1}{N} \\sum_{i}^{N} (y_i - \\hat{y_i})^2\n",
        "$$\n",
        "\n",
        "W powyższym wzorze tylko $y_i$ jest zależny od $a$ oraz $b$. Możemy wykorzystać tu regułę łańcuchową (*chain rule*) i policzyć pochodne po naszych parametrach w sposób następujący:\n",
        "\n",
        "$$\\large\n",
        "\\frac{\\text{d} MSE}{\\text{d} a} = \\frac{1}{N} \\sum_{i}^{N} \\frac{\\text{d} (y_i - \\hat{y_i})^2}{\\text{d} \\hat{y_i}} \\frac{\\text{d} \\hat{y_i}}{\\text{d} a}\n",
        "$$\n",
        "\n",
        "$$\\large\n",
        "\\frac{\\text{d} MSE}{\\text{d} b} = \\frac{1}{N} \\sum_{i}^{N} \\frac{\\text{d} (y_i - \\hat{y_i})^2}{\\text{d} \\hat{y_i}} \\frac{\\text{d} \\hat{y_i}}{\\text{d} b}\n",
        "$$\n",
        "\n",
        "Policzmy te pochodne po kolei:\n",
        "\n",
        "$$\\large\n",
        "\\frac{\\text{d} (y_i - \\hat{y_i})^2}{\\text{d} \\hat{y_i}} = -2 \\cdot (y_i - \\hat{y_i})\n",
        "$$\n",
        "\n",
        "$$\\large\n",
        "\\frac{\\text{d} \\hat{y_i}}{\\text{d} a} = x_i\n",
        "$$\n",
        "\n",
        "$$\\large\n",
        "\\frac{\\text{d} \\hat{y_i}}{\\text{d} b} = 1\n",
        "$$\n",
        "\n",
        "Łącząc powyższe wyniki dostaniemy:\n",
        "\n",
        "$$\\large\n",
        "\\frac{\\text{d} MSE}{\\text{d} a} = \\frac{-2}{N} \\sum_{i}^{N} (y_i - \\hat{y_i}) \\cdot {x_i}\n",
        "$$\n",
        "\n",
        "$$\\large\n",
        "\\frac{\\text{d} MSE}{\\text{d} b} = \\frac{-2}{N} \\sum_{i}^{N} (y_i - \\hat{y_i})\n",
        "$$\n",
        "\n",
        "Aktualizacja parametrów wygląda tak:\n",
        "\n",
        "$$\\large\n",
        "a' = a - \\alpha * \\left( \\frac{-2}{N} \\sum_{i=1}^N (y_i - \\hat{y}_i) \\cdot x_i \\right)\n",
        "$$\n",
        "$$\\large\n",
        "b' = b - \\alpha * \\left( \\frac{-2}{N} \\sum_{i=1}^N (y_i - \\hat{y}_i) \\right)\n",
        "$$\n",
        "\n",
        "Liczymy więc pochodną funkcji kosztu, a potem za pomocą reguły łańcuchowej \"cofamy się\", dochodząc do tego, jak każdy z parametrów wpływa na błąd i w jaki sposób powinniśmy go zmienić. Nazywa się to **propagacją wsteczną (backpropagation)** i jest podstawowym mechanizmem umożliwiającym naukę sieci neuronowych za pomocą spadku wzdłuż gradientu. Więcej możesz o tym przeczytać [tutaj](https://cs231n.github.io/optimization-2/)."
      ]
    },
    {
      "cell_type": "markdown",
      "metadata": {
        "id": "PvmugUsjAXhm"
      },
      "source": [
        "\n",
        "#### Zadanie 2 (1.0 punkt)\n",
        "\n",
        "Zaimplementuj funkcję realizującą jedną epokę treningową. Zauważ, że `x` oraz `y` są wektorami. Oblicz predykcję przy aktualnych parametrach oraz zaktualizuj je zgodnie z powyższymi wzorami."
      ]
    },
    {
      "cell_type": "code",
      "execution_count": 74,
      "metadata": {
        "id": "4qbdWOSULAsp"
      },
      "outputs": [],
      "source": [
        "def optimize(\n",
        "    x: np.ndarray, y: np.ndarray, a: float, b: float, learning_rate: float = 0.1\n",
        "):\n",
        "    y_hat = a * x + b\n",
        "    errors = y - y_hat\n",
        "\n",
        "    a_grad = -2 * np.sum(errors * x) / len(x)\n",
        "    b_grad = -2 * np.sum(errors) / len(x)\n",
        "\n",
        "    a -= learning_rate * a_grad\n",
        "    b -= learning_rate * b_grad\n",
        "    return a, b\n",
        "\n",
        "\n"
      ]
    },
    {
      "cell_type": "code",
      "execution_count": 75,
      "metadata": {
        "colab": {
          "base_uri": "https://localhost:8080/"
        },
        "id": "eG5Dqj9CAXhn",
        "outputId": "de8682ed-ff46-4459-9aa2-fbf8c0ec33a4"
      },
      "outputs": [
        {
          "output_type": "stream",
          "name": "stdout",
          "text": [
            "step 0 loss:  0.1330225119404028\n",
            "step 100 loss:  0.012673197778527677\n",
            "step 200 loss:  0.010257153540857817\n",
            "step 300 loss:  0.0100948037549359\n",
            "step 400 loss:  0.010083894412889118\n",
            "step 500 loss:  0.010083161342973332\n",
            "step 600 loss:  0.010083112083219709\n",
            "step 700 loss:  0.010083108773135261\n",
            "step 800 loss:  0.010083108550709076\n",
            "step 900 loss:  0.01008310853576281\n",
            "final loss: 0.010083108534760455\n"
          ]
        }
      ],
      "source": [
        "for i in range(1000):\n",
        "    loss = mse(y, a * x + b)\n",
        "    a, b = optimize(x, y, a, b)\n",
        "    if i % 100 == 0:\n",
        "        print(f\"step {i} loss: \", loss)\n",
        "\n",
        "print(\"final loss:\", loss)"
      ]
    },
    {
      "cell_type": "code",
      "execution_count": 76,
      "metadata": {
        "colab": {
          "base_uri": "https://localhost:8080/",
          "height": 447
        },
        "id": "xOgRcPC1LAsq",
        "outputId": "f4a35717-f147-4fa5-aa47-72bae10dd9a1",
        "scrolled": false
      },
      "outputs": [
        {
          "output_type": "execute_result",
          "data": {
            "text/plain": [
              "[<matplotlib.lines.Line2D at 0x7d19ddc9da50>]"
            ]
          },
          "metadata": {},
          "execution_count": 76
        },
        {
          "output_type": "display_data",
          "data": {
            "text/plain": [
              "<Figure size 640x480 with 1 Axes>"
            ],
            "image/png": "[encoded data removed]"
          },
          "metadata": {}
        }
      ],
      "source": [
        "plt.scatter(x, y)\n",
        "plt.plot(x, a * x + b, color=\"g\", linewidth=4)"
      ]
    },
    {
      "cell_type": "markdown",
      "metadata": {
        "id": "vOr2fWYpLAsq"
      },
      "source": [
        "Udało ci się wytrenować swoją pierwszą sieć neuronową. Czemu? Otóż neuron to po prostu wektor parametrów, a zwykle robimy iloczyn skalarny tych parametrów z wejściem. Dodatkowo na wyjście nakłada się **funkcję aktywacji (activation function)**, która przekształca wyjście. Tutaj takiej nie było, a właściwie była to po prostu funkcja identyczności.\n",
        "\n",
        "Oczywiście w praktyce korzystamy z odpowiedniego frameworka, który w szczególności:\n",
        "- ułatwia budowanie sieci, np. ma gotowe klasy dla warstw neuronów\n",
        "- ma zaimplementowane funkcje kosztu oraz ich pochodne\n",
        "- sam różniczkuje ze względu na odpowiednie parametry i aktualizuje je odpowiednio podczas treningu\n"
      ]
    },
    {
      "cell_type": "markdown",
      "metadata": {
        "id": "NJBYJabuLAsr"
      },
      "source": [
        "## Wprowadzenie do PyTorcha"
      ]
    },
    {
      "cell_type": "markdown",
      "metadata": {
        "id": "EB-99XqhLAsr"
      },
      "source": [
        "PyTorch to w gruncie rzeczy narzędzie do algebry liniowej z [automatycznym rożniczkowaniem](https://pytorch.org/tutorials/beginner/blitz/autograd_tutorial.html), z możliwością przyspieszenia obliczeń z pomocą GPU. Na tych fundamentach zbudowany jest pełny framework do uczenia głębokiego. Można spotkać się ze stwierdzenie, że PyTorch to NumPy + GPU + opcjonalne różniczkowanie, co jest całkiem celne. Plus można łatwo debugować printem :)\n",
        "\n",
        "PyTorch używa dynamicznego grafu obliczeń, który sami definiujemy w kodzie. Takie podejście jest bardzo wygodne, elastyczne i pozwala na łatwe eksperymentowanie. Odbywa się to potencjalnie kosztem wydajności, ponieważ pozostawia kwestię optymalizacji programiście. Więcej na ten temat dla zainteresowanych na końcu laboratorium.\n",
        "\n",
        "Samo API PyTorcha bardzo przypomina Numpy'a, a podstawowym obiektem jest `Tensor`, klasa reprezentująca tensory dowolnego wymiaru. Dodatkowo niektóre tensory będą miały automatycznie obliczony gradient. Co ważne, tensor jest na pewnym urządzeniu, CPU lub GPU, a przenosić między nimi trzeba explicite.\n",
        "\n",
        "Najważniejsze moduły:\n",
        "- `torch` - podstawowe klasy oraz funkcje, np. `Tensor`, `from_numpy()`\n",
        "- `torch.nn` - klasy związane z sieciami neuronowymi, np. `Linear`, `Sigmoid`\n",
        "- `torch.optim` - wszystko związane z optymalizacją, głównie spadkiem wzdłuż gradientu"
      ]
    },
    {
      "cell_type": "code",
      "execution_count": 77,
      "metadata": {
        "id": "FwuIt8S-LAss"
      },
      "outputs": [],
      "source": [
        "import torch\n",
        "import torch.nn as nn\n",
        "import torch.optim as optim"
      ]
    },
    {
      "cell_type": "code",
      "execution_count": 78,
      "metadata": {
        "colab": {
          "base_uri": "https://localhost:8080/"
        },
        "id": "bfCiUFXULAss",
        "outputId": "1ab3839f-0d6c-41bf-d443-6903137879eb"
      },
      "outputs": [
        {
          "output_type": "stream",
          "name": "stdout",
          "text": [
            "tensor([1.1550, 1.4791, 1.3089, 1.3959, 1.2850, 1.3791, 1.4127, 1.7782, 1.6062,\n",
            "        1.4942])\n",
            "tensor([0.1550, 0.4791, 0.3089, 0.3959, 0.2850, 0.3791, 0.4127, 0.7782, 0.6062,\n",
            "        0.4942])\n",
            "tensor(4.2941)\n"
          ]
        }
      ],
      "source": [
        "ones = torch.ones(10)\n",
        "noise = torch.ones(10) * torch.rand(10)\n",
        "\n",
        "# elementwise sum\n",
        "print(ones + noise)\n",
        "\n",
        "# elementwise multiplication\n",
        "print(ones * noise)\n",
        "\n",
        "# dot product\n",
        "print(ones @ noise)"
      ]
    },
    {
      "cell_type": "code",
      "execution_count": 79,
      "metadata": {
        "id": "ynNd_kD0LAst"
      },
      "outputs": [],
      "source": [
        "# beware - shares memory with original Numpy array!\n",
        "# very fast, but modifications are visible to original variable\n",
        "x = torch.from_numpy(x)\n",
        "y = torch.from_numpy(y)"
      ]
    },
    {
      "cell_type": "markdown",
      "metadata": {
        "id": "W9kkxczELAsu"
      },
      "source": [
        "\n",
        "\n",
        "```\n",
        "# Sformatowano jako kod\n",
        "```\n",
        "\n",
        "Jeżeli dla stworzonych przez nas tensorów chcemy śledzić operacje i obliczać gradient, to musimy oznaczyć `requires_grad=True`."
      ]
    },
    {
      "cell_type": "code",
      "execution_count": 80,
      "metadata": {
        "colab": {
          "base_uri": "https://localhost:8080/"
        },
        "id": "8HtZL-KfLAsu",
        "outputId": "640c2bc0-a5fb-42ca-b1da-c98b95c37a8e"
      },
      "outputs": [
        {
          "output_type": "execute_result",
          "data": {
            "text/plain": [
              "(tensor([0.8759], requires_grad=True), tensor([0.9920], requires_grad=True))"
            ]
          },
          "metadata": {},
          "execution_count": 80
        }
      ],
      "source": [
        "a = torch.rand(1, requires_grad=True)\n",
        "b = torch.rand(1, requires_grad=True)\n",
        "a, b"
      ]
    },
    {
      "cell_type": "markdown",
      "metadata": {
        "id": "Nl1guWZ_LAsv"
      },
      "source": [
        "PyTorch zawiera większość powszechnie używanych funkcji kosztu, np. MSE. Mogą być one używane na 2 sposoby, z czego pierwszy jest popularniejszy:\n",
        "- jako klasy wywoływalne z modułu `torch.nn`\n",
        "- jako funkcje z modułu `torch.nn.functional`\n",
        "\n",
        "Po wykonaniu poniższego kodu widzimy, że zwraca on nam tensor z dodatkowymi atrybutami. Co ważne, jest to skalar (0-wymiarowy tensor), bo potrzebujemy zwyczajnej liczby do obliczania propagacji wstecznych (pochodnych czątkowych)."
      ]
    },
    {
      "cell_type": "code",
      "execution_count": 81,
      "metadata": {
        "colab": {
          "base_uri": "https://localhost:8080/"
        },
        "id": "7axkltsBAXho",
        "outputId": "64c48d12-a750-4ca4-94b8-6385157ba880"
      },
      "outputs": [
        {
          "output_type": "execute_result",
          "data": {
            "text/plain": [
              "tensor(0.8646, dtype=torch.float64, grad_fn=<MseLossBackward0>)"
            ]
          },
          "metadata": {},
          "execution_count": 81
        }
      ],
      "source": [
        "mse = nn.MSELoss()\n",
        "mse(y, a * x + b)"
      ]
    },
    {
      "cell_type": "markdown",
      "metadata": {
        "id": "vS35r49nLAsw"
      },
      "source": [
        "Atrybutu `grad_fn` nie używamy wprost, bo korzysta z niego w środku PyTorch, ale widać, że tensor jest \"świadomy\", że liczy się na nim pochodną. Możemy natomiast skorzystać z atrybutu `grad`, który zawiera faktyczny gradient. Zanim go jednak dostaniemy, to trzeba powiedzieć PyTorchowi, żeby policzył gradient. Służy do tego metoda `.backward()`, wywoływana na obiekcie zwracanym przez funkcję kosztu."
      ]
    },
    {
      "cell_type": "code",
      "execution_count": 82,
      "metadata": {
        "id": "Qb7l6Xg1LAsx"
      },
      "outputs": [],
      "source": [
        "loss = mse(y, a * x + b)\n",
        "loss.backward()"
      ]
    },
    {
      "cell_type": "code",
      "execution_count": 83,
      "metadata": {
        "colab": {
          "base_uri": "https://localhost:8080/"
        },
        "id": "6LfQbLVoLAsx",
        "outputId": "78dc068f-1a5d-445b-ffeb-41390ec13849"
      },
      "outputs": [
        {
          "output_type": "stream",
          "name": "stdout",
          "text": [
            "tensor([0.9080])\n"
          ]
        }
      ],
      "source": [
        "print(a.grad)"
      ]
    },
    {
      "cell_type": "markdown",
      "metadata": {
        "id": "Kdf1iweELAsy"
      },
      "source": [
        "Ważne jest, że PyTorch nie liczy za każdym razem nowego gradientu, tylko dodaje go do istniejącego, czyli go akumuluje. Jest to przydatne w niektórych sieciach neuronowych, ale zazwyczaj trzeba go zerować. Jeżeli tego nie zrobimy, to dostaniemy coraz większe gradienty.\n",
        "\n",
        "Do zerowania służy metoda `.zero_()`. W PyTorchu wszystkie metody modyfikujące tensor w miejscu mają `_` na końcu nazwy. Jest to dość niskopoziomowa operacja dla pojedynczych tensorów - zobaczymy za chwilę, jak to robić łatwiej dla całej sieci."
      ]
    },
    {
      "cell_type": "code",
      "execution_count": 84,
      "metadata": {
        "colab": {
          "base_uri": "https://localhost:8080/"
        },
        "id": "DiCQZKJsLAsy",
        "outputId": "be239c4b-e029-4e8a-fd63-3bb0c90752ba"
      },
      "outputs": [
        {
          "output_type": "execute_result",
          "data": {
            "text/plain": [
              "tensor([1.8160])"
            ]
          },
          "metadata": {},
          "execution_count": 84
        }
      ],
      "source": [
        "loss = mse(y, a * x + b)\n",
        "loss.backward()\n",
        "a.grad"
      ]
    },
    {
      "cell_type": "markdown",
      "metadata": {
        "id": "xNC3Ag8uLAsz"
      },
      "source": [
        "Zobaczmy, jak wyglądałaby regresja liniowa, ale napisana w PyTorchu. Jest to oczywiście bardzo niskopoziomowa implementacja - za chwilę zobaczymy, jak to wygląda w praktyce."
      ]
    },
    {
      "cell_type": "code",
      "execution_count": 85,
      "metadata": {
        "colab": {
          "base_uri": "https://localhost:8080/"
        },
        "id": "AKnxyeboLAsz",
        "outputId": "98feaf27-ad29-46dc-ae9b-8da39d83d494"
      },
      "outputs": [
        {
          "output_type": "stream",
          "name": "stdout",
          "text": [
            "step 0 loss:  tensor(0.8646, dtype=torch.float64, grad_fn=<MseLossBackward0>)\n",
            "step 100 loss:  tensor(0.0113, dtype=torch.float64, grad_fn=<MseLossBackward0>)\n",
            "step 200 loss:  tensor(0.0102, dtype=torch.float64, grad_fn=<MseLossBackward0>)\n",
            "step 300 loss:  tensor(0.0101, dtype=torch.float64, grad_fn=<MseLossBackward0>)\n",
            "step 400 loss:  tensor(0.0101, dtype=torch.float64, grad_fn=<MseLossBackward0>)\n",
            "step 500 loss:  tensor(0.0101, dtype=torch.float64, grad_fn=<MseLossBackward0>)\n",
            "step 600 loss:  tensor(0.0101, dtype=torch.float64, grad_fn=<MseLossBackward0>)\n",
            "step 700 loss:  tensor(0.0101, dtype=torch.float64, grad_fn=<MseLossBackward0>)\n",
            "step 800 loss:  tensor(0.0101, dtype=torch.float64, grad_fn=<MseLossBackward0>)\n",
            "step 900 loss:  tensor(0.0101, dtype=torch.float64, grad_fn=<MseLossBackward0>)\n",
            "final loss: tensor(0.0101, dtype=torch.float64, grad_fn=<MseLossBackward0>)\n"
          ]
        }
      ],
      "source": [
        "learning_rate = 0.1\n",
        "for i in range(1000):\n",
        "    loss = mse(y, a * x + b)\n",
        "\n",
        "    # compute gradients\n",
        "    loss.backward()\n",
        "\n",
        "    # update parameters\n",
        "    a.data -= learning_rate * a.grad\n",
        "    b.data -= learning_rate * b.grad\n",
        "\n",
        "    # zero gradients\n",
        "    a.grad.data.zero_()\n",
        "    b.grad.data.zero_()\n",
        "\n",
        "    if i % 100 == 0:\n",
        "        print(f\"step {i} loss: \", loss)\n",
        "\n",
        "print(\"final loss:\", loss)"
      ]
    },
    {
      "cell_type": "markdown",
      "metadata": {
        "id": "2DXNVhshmmI-"
      },
      "source": [
        "Trening modeli w PyTorchu jest dosyć schematyczny i najczęściej rozdziela się go na kilka bloków, dających razem **pętlę uczącą (training loop)**, powtarzaną w każdej epoce:\n",
        "1. Forward pass - obliczenie predykcji sieci\n",
        "2. Loss calculation\n",
        "3. Backpropagation - obliczenie pochodnych oraz zerowanie gradientów\n",
        "4. Optimalization - aktualizacja wag\n",
        "5. Other - ewaluacja na zbiorze walidacyjnym, logging etc."
      ]
    },
    {
      "cell_type": "code",
      "execution_count": 86,
      "metadata": {
        "colab": {
          "base_uri": "https://localhost:8080/"
        },
        "id": "2etpw7TNLAs0",
        "outputId": "7c390a08-bdfc-4fd8-9893-9d6c2a14ceae",
        "scrolled": true
      },
      "outputs": [
        {
          "output_type": "stream",
          "name": "stdout",
          "text": [
            "step 0 loss: 0.0878\n",
            "step 100 loss: 0.0149\n",
            "step 200 loss: 0.0104\n",
            "step 300 loss: 0.0101\n",
            "step 400 loss: 0.0101\n",
            "step 500 loss: 0.0101\n",
            "step 600 loss: 0.0101\n",
            "step 700 loss: 0.0101\n",
            "step 800 loss: 0.0101\n",
            "step 900 loss: 0.0101\n",
            "final loss: tensor(0.0101, dtype=torch.float64, grad_fn=<MseLossBackward0>)\n"
          ]
        }
      ],
      "source": [
        "# initialization\n",
        "learning_rate = 0.1\n",
        "a = torch.rand(1, requires_grad=True)\n",
        "b = torch.rand(1, requires_grad=True)\n",
        "optimizer = torch.optim.SGD([a, b], lr=learning_rate)\n",
        "best_loss = float(\"inf\")\n",
        "\n",
        "# training loop in each epoch\n",
        "for i in range(1000):\n",
        "    # forward pass\n",
        "    y_hat = a * x + b\n",
        "\n",
        "    # loss calculation\n",
        "    loss = mse(y, y_hat)\n",
        "\n",
        "    # backpropagation\n",
        "    loss.backward()\n",
        "\n",
        "    # optimization\n",
        "    optimizer.step()\n",
        "    optimizer.zero_grad()  # zeroes all gradients - very convenient!\n",
        "\n",
        "    if i % 100 == 0:\n",
        "        if loss < best_loss:\n",
        "            best_model = (a.clone(), b.clone())\n",
        "            best_loss = loss\n",
        "        print(f\"step {i} loss: {loss.item():.4f}\")\n",
        "\n",
        "print(\"final loss:\", loss)"
      ]
    },
    {
      "cell_type": "markdown",
      "metadata": {
        "id": "LbZra6dGAXhq"
      },
      "source": [
        "Przejdziemy teraz do budowy sieci neuronowej do klasyfikacji. Typowo implementuje się ją po prostu jako sieć dla regresji, ale zwracającą tyle wyników, ile mamy klas, a potem aplikuje się na tym funkcję sigmoidalną (2 klasy) lub softmax (>2 klasy). W przypadku klasyfikacji binarnej zwraca się czasem tylko 1 wartość, przepuszczaną przez sigmoidę - wtedy wyjście z sieci to prawdopodobieństwo klasy pozytywnej.\n",
        "\n",
        "Funkcją kosztu zwykle jest **entropia krzyżowa (cross-entropy)**, stosowana też w klasycznej regresji logistycznej. Co ważne, sieci neuronowe, nawet tak proste, uczą się szybciej i stabilniej, gdy dane na wejściu (a przynajmniej zmienne numeryczne) są **ustandaryzowane (standardized)**. Operacja ta polega na odjęciu średniej i podzieleniu przez odchylenie standardowe (tzw. *Z-score transformation*).\n",
        "\n",
        "**Uwaga - PyTorch wymaga tensora klas będącego liczbami zmiennoprzecinkowymi!**"
      ]
    },
    {
      "cell_type": "markdown",
      "metadata": {
        "id": "MH2ClyYGAXhq"
      },
      "source": [
        "## Zbiór danych"
      ]
    },
    {
      "cell_type": "markdown",
      "metadata": {
        "id": "Jj1VBh6XAXhu"
      },
      "source": [
        "Na tym laboratorium wykorzystamy zbiór [Adult Census](https://archive.ics.uci.edu/ml/datasets/adult). Dotyczy on przewidywania na podstawie danych demograficznych, czy dany człowiek zarabia powyżej 50 tysięcy dolarów rocznie, czy też mniej. Jest to cenna informacja np. przy planowaniu kampanii marketingowych. Jak możesz się domyślić, zbiór pochodzi z czasów, kiedy inflacja była dużo niższa :)\n",
        "\n",
        "Poniżej znajduje się kod do ściągnięcia i preprocessingu zbioru. Nie musisz go dokładnie analizować."
      ]
    },
    {
      "cell_type": "code",
      "execution_count": 87,
      "metadata": {
        "colab": {
          "base_uri": "https://localhost:8080/"
        },
        "id": "4DNsaZAnLAs0",
        "outputId": "34d3fec1-fc88-4b42-9ef8-1e8b72abcbf0",
        "scrolled": true
      },
      "outputs": [
        {
          "output_type": "stream",
          "name": "stdout",
          "text": [
            "--2023-11-24 13:50:57--  https://archive.ics.uci.edu/ml/machine-learning-databases/adult/adult.data\n",
            "Resolving archive.ics.uci.edu (archive.ics.uci.edu)... 128.195.10.252\n",
            "Connecting to archive.ics.uci.edu (archive.ics.uci.edu)|128.195.10.252|:443... connected.\n",
            "HTTP request sent, awaiting response... 200 OK\n",
            "Length: unspecified\n",
            "Saving to: ‘adult.data.2’\n",
            "\n",
            "adult.data.2            [  <=>               ]   3.79M  9.51MB/s    in 0.4s    \n",
            "\n",
            "2023-11-24 13:50:57 (9.51 MB/s) - ‘adult.data.2’ saved [3974305]\n",
            "\n"
          ]
        }
      ],
      "source": [
        "!wget https://archive.ics.uci.edu/ml/machine-learning-databases/adult/adult.data"
      ]
    },
    {
      "cell_type": "code",
      "execution_count": 88,
      "metadata": {
        "colab": {
          "base_uri": "https://localhost:8080/"
        },
        "id": "0ni9kWScAXhu",
        "outputId": "7b3bea3a-658f-48e4-cec2-3d6fabd0e37f"
      },
      "outputs": [
        {
          "output_type": "execute_result",
          "data": {
            "text/plain": [
              "array([' <=50K', ' >50K'], dtype=object)"
            ]
          },
          "metadata": {},
          "execution_count": 88
        }
      ],
      "source": [
        "import pandas as pd\n",
        "\n",
        "\n",
        "columns = [\n",
        "    \"age\",\n",
        "    \"workclass\",\n",
        "    \"fnlwgt\",\n",
        "    \"education\",\n",
        "    \"education-num\",\n",
        "    \"marital-status\",\n",
        "    \"occupation\",\n",
        "    \"relationship\",\n",
        "    \"race\",\n",
        "    \"sex\",\n",
        "    \"capital-gain\",\n",
        "    \"capital-loss\",\n",
        "    \"hours-per-week\",\n",
        "    \"native-country\",\n",
        "    \"wage\"\n",
        "]\n",
        "\n",
        "\"\"\"\n",
        "age: continuous.\n",
        "workclass: Private, Self-emp-not-inc, Self-emp-inc, Federal-gov, Local-gov, State-gov, Without-pay, Never-worked.\n",
        "fnlwgt: continuous.\n",
        "education: Bachelors, Some-college, 11th, HS-grad, Prof-school, Assoc-acdm, Assoc-voc, 9th, 7th-8th, 12th, Masters, 1st-4th, 10th, Doctorate, 5th-6th, Preschool.\n",
        "education-num: continuous.\n",
        "marital-status: Married-civ-spouse, Divorced, Never-married, Separated, Widowed, Married-spouse-absent, Married-AF-spouse.\n",
        "occupation: Tech-support, Craft-repair, Other-service, Sales, Exec-managerial, Prof-specialty, Handlers-cleaners, Machine-op-inspct, Adm-clerical, Farming-fishing, Transport-moving, Priv-house-serv, Protective-serv, Armed-Forces.\n",
        "relationship: Wife, Own-child, Husband, Not-in-family, Other-relative, Unmarried.\n",
        "race: White, Asian-Pac-Islander, Amer-Indian-Eskimo, Other, Black.\n",
        "sex: Female, Male.\n",
        "capital-gain: continuous.\n",
        "capital-loss: continuous.\n",
        "hours-per-week: continuous.\n",
        "native-country: United-States, Cambodia, England, Puerto-Rico, Canada, Germany, Outlying-US(Guam-USVI-etc), India, Japan, Greece, South, China, Cuba, Iran, Honduras, Philippines, Italy, Poland, Jamaica, Vietnam, Mexico, Portugal, Ireland, France, Dominican-Republic, Laos, Ecuador, Taiwan, Haiti, Columbia, Hungary, Guatemala, Nicaragua, Scotland, Thailand, Yugoslavia, El-Salvador, Trinadad&Tobago, Peru, Hong, Holand-Netherlands.\n",
        "\"\"\"\n",
        "\n",
        "df = pd.read_csv(\"adult.data\", header=None, names=columns)\n",
        "df.wage.unique()"
      ]
    },
    {
      "cell_type": "code",
      "execution_count": 89,
      "metadata": {
        "id": "Sdr_Ii2QAXhu"
      },
      "outputs": [],
      "source": [
        "# attribution: https://www.kaggle.com/code/royshih23/topic7-classification-in-python\n",
        "df['education'].replace('Preschool', 'dropout',inplace=True)\n",
        "df['education'].replace('10th', 'dropout',inplace=True)\n",
        "df['education'].replace('11th', 'dropout',inplace=True)\n",
        "df['education'].replace('12th', 'dropout',inplace=True)\n",
        "df['education'].replace('1st-4th', 'dropout',inplace=True)\n",
        "df['education'].replace('5th-6th', 'dropout',inplace=True)\n",
        "df['education'].replace('7th-8th', 'dropout',inplace=True)\n",
        "df['education'].replace('9th', 'dropout',inplace=True)\n",
        "df['education'].replace('HS-Grad', 'HighGrad',inplace=True)\n",
        "df['education'].replace('HS-grad', 'HighGrad',inplace=True)\n",
        "df['education'].replace('Some-college', 'CommunityCollege',inplace=True)\n",
        "df['education'].replace('Assoc-acdm', 'CommunityCollege',inplace=True)\n",
        "df['education'].replace('Assoc-voc', 'CommunityCollege',inplace=True)\n",
        "df['education'].replace('Bachelors', 'Bachelors',inplace=True)\n",
        "df['education'].replace('Masters', 'Masters',inplace=True)\n",
        "df['education'].replace('Prof-school', 'Masters',inplace=True)\n",
        "df['education'].replace('Doctorate', 'Doctorate',inplace=True)\n",
        "\n",
        "df['marital-status'].replace('Never-married', 'NotMarried',inplace=True)\n",
        "df['marital-status'].replace(['Married-AF-spouse'], 'Married',inplace=True)\n",
        "df['marital-status'].replace(['Married-civ-spouse'], 'Married',inplace=True)\n",
        "df['marital-status'].replace(['Married-spouse-absent'], 'NotMarried',inplace=True)\n",
        "df['marital-status'].replace(['Separated'], 'Separated',inplace=True)\n",
        "df['marital-status'].replace(['Divorced'], 'Separated',inplace=True)\n",
        "df['marital-status'].replace(['Widowed'], 'Widowed',inplace=True)"
      ]
    },
    {
      "cell_type": "code",
      "execution_count": 90,
      "metadata": {
        "colab": {
          "base_uri": "https://localhost:8080/"
        },
        "id": "LiOxs_6mLAs1",
        "outputId": "9f7c6999-4da2-4b30-9355-fb75e364f641",
        "scrolled": true
      },
      "outputs": [
        {
          "output_type": "stream",
          "name": "stderr",
          "text": [
            "/usr/local/lib/python3.10/dist-packages/sklearn/preprocessing/_encoders.py:868: FutureWarning: `sparse` was renamed to `sparse_output` in version 1.2 and will be removed in 1.4. `sparse_output` is ignored unless you leave `sparse` to its default value.\n",
            "  warnings.warn(\n"
          ]
        },
        {
          "output_type": "execute_result",
          "data": {
            "text/plain": [
              "((20838, 108), (20838,))"
            ]
          },
          "metadata": {},
          "execution_count": 90
        }
      ],
      "source": [
        "from sklearn.model_selection import train_test_split\n",
        "from sklearn.preprocessing import MinMaxScaler, OneHotEncoder, StandardScaler\n",
        "\n",
        "\n",
        "X = df.copy()\n",
        "y = (X.pop(\"wage\") == ' >50K').astype(int).values\n",
        "\n",
        "train_valid_size = 0.2\n",
        "\n",
        "X_train, X_test, y_train, y_test = train_test_split(\n",
        "    X, y,\n",
        "    test_size=train_valid_size,\n",
        "    random_state=0,\n",
        "    shuffle=True,\n",
        "    stratify=y\n",
        ")\n",
        "X_train, X_valid, y_train, y_valid = train_test_split(\n",
        "    X_train, y_train,\n",
        "    test_size=train_valid_size,\n",
        "    random_state=0,\n",
        "    shuffle=True,\n",
        "    stratify=y_train\n",
        ")\n",
        "\n",
        "continuous_cols = ['age', 'fnlwgt', 'education-num', 'capital-gain', 'capital-loss', 'hours-per-week']\n",
        "continuous_X_train = X_train[continuous_cols]\n",
        "categorical_X_train = X_train.loc[:, ~X_train.columns.isin(continuous_cols)]\n",
        "\n",
        "continuous_X_valid = X_valid[continuous_cols]\n",
        "categorical_X_valid = X_valid.loc[:, ~X_valid.columns.isin(continuous_cols)]\n",
        "\n",
        "continuous_X_test = X_test[continuous_cols]\n",
        "categorical_X_test = X_test.loc[:, ~X_test.columns.isin(continuous_cols)]\n",
        "\n",
        "categorical_encoder = OneHotEncoder(sparse=False, handle_unknown='ignore')\n",
        "continuous_scaler = StandardScaler() #MinMaxScaler(feature_range=(-1, 1))\n",
        "\n",
        "categorical_encoder.fit(categorical_X_train)\n",
        "continuous_scaler.fit(continuous_X_train)\n",
        "\n",
        "continuous_X_train = continuous_scaler.transform(continuous_X_train)\n",
        "continuous_X_valid = continuous_scaler.transform(continuous_X_valid)\n",
        "continuous_X_test = continuous_scaler.transform(continuous_X_test)\n",
        "\n",
        "categorical_X_train = categorical_encoder.transform(categorical_X_train)\n",
        "categorical_X_valid = categorical_encoder.transform(categorical_X_valid)\n",
        "categorical_X_test = categorical_encoder.transform(categorical_X_test)\n",
        "\n",
        "X_train = np.concatenate([continuous_X_train, categorical_X_train], axis=1)\n",
        "X_valid = np.concatenate([continuous_X_valid, categorical_X_valid], axis=1)\n",
        "X_test = np.concatenate([continuous_X_test, categorical_X_test], axis=1)\n",
        "\n",
        "X_train.shape, y_train.shape"
      ]
    },
    {
      "cell_type": "markdown",
      "metadata": {
        "id": "w2eZ3qy-AXhv"
      },
      "source": [
        "Uwaga co do typów - PyTorchu wszystko w sieci neuronowej musi być typu `float32`. W szczególności trzeba uważać na konwersje z Numpy'a, który używa domyślnie typu `float64`. Może ci się przydać metoda `.float()`.\n",
        "\n",
        "Uwaga co do kształtów wyjścia - wejścia do `nn.BCELoss` muszą być tego samego kształtu. Może ci się przydać metoda `.squeeze()` lub `.unsqueeze()`."
      ]
    },
    {
      "cell_type": "code",
      "execution_count": 91,
      "metadata": {
        "id": "qfRA3xEoLAs1"
      },
      "outputs": [],
      "source": [
        "X_train = torch.from_numpy(X_train).float()\n",
        "y_train = torch.from_numpy(y_train).float().unsqueeze(-1)\n",
        "\n",
        "X_valid = torch.from_numpy(X_valid).float()\n",
        "y_valid = torch.from_numpy(y_valid).float().unsqueeze(-1)\n",
        "\n",
        "X_test = torch.from_numpy(X_test).float()\n",
        "y_test = torch.from_numpy(y_test).float().unsqueeze(-1)"
      ]
    },
    {
      "cell_type": "markdown",
      "metadata": {
        "id": "1ho9a2SBAXhv"
      },
      "source": [
        "*Podobnie:* jak w laboratorium 2, mamy tu do czynienia z klasyfikacją niezbalansowaną:"
      ]
    },
    {
      "cell_type": "code",
      "execution_count": 92,
      "metadata": {
        "colab": {
          "base_uri": "https://localhost:8080/",
          "height": 452
        },
        "id": "ZygMQ7O6AXhv",
        "outputId": "d4a41e85-bfd0-4b9d-aa77-ca3eb844df29"
      },
      "outputs": [
        {
          "output_type": "display_data",
          "data": {
            "text/plain": [
              "<Figure size 640x480 with 1 Axes>"
            ],
            "image/png": "[encoded data removed]"
          },
          "metadata": {}
        }
      ],
      "source": [
        "import matplotlib.pyplot as plt\n",
        "\n",
        "y_pos_perc = 100 * y_train.sum().item() / len(y_train)\n",
        "y_neg_perc = 100 - y_pos_perc\n",
        "\n",
        "plt.title(\"Class percentages\")\n",
        "plt.bar([\"<50k\", \">=50k\"], [y_neg_perc, y_pos_perc])\n",
        "plt.show()"
      ]
    },
    {
      "cell_type": "markdown",
      "metadata": {
        "id": "_1FdqB9sAXhv"
      },
      "source": [
        "\n",
        "\n",
        "```\n",
        "# Sformatowano jako kod\n",
        "```\n",
        "\n",
        "W związku z powyższym będziemy używać odpowiednich metryk, czyli AUROC, precyzji i czułości."
      ]
    },
    {
      "cell_type": "markdown",
      "metadata": {
        "id": "XLexWff-LAs0"
      },
      "source": [
        "#### Zadanie 3 (1.0 punkt)\n",
        "\n",
        "Zaimplementuj regresję logistyczną dla tego zbioru danych, używając PyTorcha. Dane wejściowe zostały dla ciebie przygotowane w komórkach poniżej.\n",
        "\n",
        "Sama sieć składa się z 2 elementów:\n",
        "- warstwa liniowa `nn.Linear`, przekształcająca wektor wejściowy na 1 wyjście - logit\n",
        "- aktywacja sigmoidalna `nn.Sigmoid`, przekształcająca logit na prawdopodobieństwo klasy pozytywnej\n",
        "\n",
        "Użyj binarnej entropii krzyżowej `nn.BCELoss` jako funkcji kosztu. Użyj optymalizatora SGD ze stałą uczącą `1e-3`. Trenuj przez 3000 epok. Pamiętaj, aby przekazać do optymalizatora `torch.optim.SGD` parametry sieci (metoda `.parameters()`). Dopisz logowanie kosztu raz na 100 epok."
      ]
    },
    {
      "cell_type": "code",
      "execution_count": 93,
      "metadata": {
        "colab": {
          "base_uri": "https://localhost:8080/"
        },
        "id": "NbABKz5-LAs2",
        "outputId": "d2e7dba1-9410-4d98-fc42-e13e4e1ac04c",
        "scrolled": true
      },
      "outputs": [
        {
          "output_type": "stream",
          "name": "stdout",
          "text": [
            "Epoch 1/3000, Loss: 0.6847\n",
            "Epoch 101/3000, Loss: 0.6570\n",
            "Epoch 201/3000, Loss: 0.6334\n",
            "Epoch 301/3000, Loss: 0.6131\n",
            "Epoch 401/3000, Loss: 0.5955\n",
            "Epoch 501/3000, Loss: 0.5802\n",
            "Epoch 601/3000, Loss: 0.5668\n",
            "Epoch 701/3000, Loss: 0.5548\n",
            "Epoch 801/3000, Loss: 0.5442\n",
            "Epoch 901/3000, Loss: 0.5346\n",
            "Epoch 1001/3000, Loss: 0.5259\n",
            "Epoch 1101/3000, Loss: 0.5181\n",
            "Epoch 1201/3000, Loss: 0.5108\n",
            "Epoch 1301/3000, Loss: 0.5042\n",
            "Epoch 1401/3000, Loss: 0.4981\n",
            "Epoch 1501/3000, Loss: 0.4924\n",
            "Epoch 1601/3000, Loss: 0.4872\n",
            "Epoch 1701/3000, Loss: 0.4822\n",
            "Epoch 1801/3000, Loss: 0.4776\n",
            "Epoch 1901/3000, Loss: 0.4733\n",
            "Epoch 2001/3000, Loss: 0.4692\n",
            "Epoch 2101/3000, Loss: 0.4654\n",
            "Epoch 2201/3000, Loss: 0.4618\n",
            "Epoch 2301/3000, Loss: 0.4584\n",
            "Epoch 2401/3000, Loss: 0.4551\n",
            "Epoch 2501/3000, Loss: 0.4520\n",
            "Epoch 2601/3000, Loss: 0.4491\n",
            "Epoch 2701/3000, Loss: 0.4463\n",
            "Epoch 2801/3000, Loss: 0.4436\n",
            "Epoch 2901/3000, Loss: 0.4411\n",
            "Final loss: 0.4387\n"
          ]
        }
      ],
      "source": [
        "learning_rate = 1e-3\n",
        "\n",
        "model = nn.Linear(X_train.shape[1], 1)\n",
        "activation = nn.Sigmoid()\n",
        "optimizer = optim.SGD(model.parameters(), lr=learning_rate)\n",
        "loss_fn = nn.BCELoss()\n",
        "\n",
        "for i in range(3000):\n",
        "    y_pred = model(X_train)\n",
        "    y_actv = activation(y_pred)\n",
        "\n",
        "    loss = loss_fn(y_actv, y_train)\n",
        "\n",
        "    optimizer.zero_grad()\n",
        "    loss.backward()\n",
        "    optimizer.step()\n",
        "\n",
        "    if i % 100 == 0:\n",
        "        print(f'Epoch {i+1}/3000, Loss: {loss.item():.4f}')\n",
        "\n",
        "print(f\"Final loss: {loss:.4f}\")"
      ]
    },
    {
      "cell_type": "markdown",
      "metadata": {
        "id": "py3vO3deAXhw"
      },
      "source": [
        "Teraz trzeba sprawdzić, jak poszło naszej sieci. W PyTorchu sieć pracuje zawsze w jednym z dwóch trybów: treningowym lub ewaluacyjnym (predykcyjnym). Ten drugi wyłącza niektóre mechanizmy, które są używane tylko podczas treningu, w szczególności regularyzację dropout. Do przełączania służą metody modelu `.train()` i `.eval()`.\n",
        "\n",
        "Dodatkowo podczas liczenia predykcji dobrze jest wyłączyć liczenie gradientów, bo nie będą potrzebne, a oszczędza to czas i pamięć. Używa się do tego menadżera kontekstu `with torch.no_grad():`."
      ]
    },
    {
      "cell_type": "code",
      "execution_count": 94,
      "metadata": {
        "colab": {
          "base_uri": "https://localhost:8080/"
        },
        "id": "zH37zDX4LAs2",
        "outputId": "7705172d-e375-4ab6-ca8b-0c2cf6c2e372",
        "scrolled": true
      },
      "outputs": [
        {
          "output_type": "stream",
          "name": "stdout",
          "text": [
            "AUROC: 85.82%\n"
          ]
        }
      ],
      "source": [
        "from sklearn.metrics import precision_recall_curve, precision_recall_fscore_support, roc_auc_score\n",
        "\n",
        "\n",
        "model.eval()\n",
        "with torch.no_grad():\n",
        "    y_score = activation(model(X_test))\n",
        "\n",
        "auroc = roc_auc_score(y_test, y_score)\n",
        "print(f\"AUROC: {100 * auroc:.2f}%\")"
      ]
    },
    {
      "cell_type": "markdown",
      "metadata": {
        "id": "n_5X5H71AXhw"
      },
      "source": [
        "Jest to całkiem dobry wynik, a może być jeszcze lepszy. Sprawdźmy dla pewności jeszcze inne metryki: precyzję, recall oraz F1-score. Dodatkowo narysujemy krzywą precision-recall, czyli jak zmieniają się te metryki w zależności od przyjętego progu (threshold) prawdopodobieństwa, powyżej którego przyjmujemy klasę pozytywną. Taką krzywą należy rysować na zbiorze walidacyjnym, bo później chcemy wykorzystać tę informację do doboru progu, a nie chcemy mieć wycieku danych testowych (data leakage).\n",
        "\n",
        "Poniżej zaimplementowano także funkcję `get_optimal_threshold()`, która sprawdza, dla którego progu uzyskujemy maksymalny F1-score, i zwraca indeks oraz wartość optymalnego progu. Przyda ci się ona w dalszej części laboratorium."
      ]
    },
    {
      "cell_type": "code",
      "execution_count": 95,
      "metadata": {
        "id": "mIzWVr9kAXhw"
      },
      "outputs": [],
      "source": [
        "from sklearn.metrics import PrecisionRecallDisplay\n",
        "\n",
        "\n",
        "def get_optimal_threshold(\n",
        "    precisions: np.array,\n",
        "    recalls: np.array,\n",
        "    thresholds: np.array\n",
        ") -> Tuple[int, float]:\n",
        "\n",
        "    numerator = 2 * precisions * recalls\n",
        "    denominator = precisions + recalls\n",
        "    f1_scores = np.divide(numerator, denominator, out=np.zeros_like(numerator), where=denominator != 0)\n",
        "\n",
        "    optimal_idx = np.argmax(f1_scores)\n",
        "    optimal_threshold = thresholds[optimal_idx]\n",
        "\n",
        "    return optimal_idx, optimal_threshold\n",
        "\n",
        "\n",
        "def plot_precision_recall_curve(y_true, y_pred_score) -> None:\n",
        "    precisions, recalls, thresholds = precision_recall_curve(y_true, y_pred_score)\n",
        "    optimal_idx, optimal_threshold = get_optimal_threshold(precisions, recalls, thresholds)\n",
        "\n",
        "    disp = PrecisionRecallDisplay(precisions, recalls)\n",
        "    disp.plot()\n",
        "    plt.title(f\"Precision-recall curve (opt. thresh.: {optimal_threshold:.4f})\")\n",
        "    plt.axvline(recalls[optimal_idx], color=\"green\", linestyle=\"-.\")\n",
        "    plt.axhline(precisions[optimal_idx], color=\"green\", linestyle=\"-.\")\n",
        "    plt.show()\n"
      ]
    },
    {
      "cell_type": "code",
      "execution_count": 66,
      "metadata": {
        "colab": {
          "base_uri": "https://localhost:8080/",
          "height": 472
        },
        "id": "EJg57h7rAXhx",
        "outputId": "2e7f0605-1c58-487a-c183-0623f0aa0487"
      },
      "outputs": [
        {
          "output_type": "display_data",
          "data": {
            "text/plain": [
              "<Figure size 640x480 with 1 Axes>"
            ],
            "image/png": "[encoded data removed]"
          },
          "metadata": {}
        }
      ],
      "source": [
        "model.eval()\n",
        "with torch.no_grad():\n",
        "    y_pred_valid_score = activation(model(X_valid))\n",
        "\n",
        "plot_precision_recall_curve(y_valid, y_pred_valid_score)"
      ]
    },
    {
      "cell_type": "markdown",
      "metadata": {
        "id": "vfQPIUQ_LAs2"
      },
      "source": [
        "Jak widać, chociaż AUROC jest wysokie, to dla optymalnego F1-score recall nie jest zbyt wysoki, a precyzja jest już dość niska. Być może wynik uda się poprawić, używając modelu o większej pojemności - pełnej, głębokiej sieci neuronowej."
      ]
    },
    {
      "cell_type": "markdown",
      "metadata": {
        "id": "V6-2Kd8-AXhx"
      },
      "source": [
        "## Sieci neuronowe"
      ]
    },
    {
      "cell_type": "markdown",
      "metadata": {
        "id": "YP298w6Cq7T6"
      },
      "source": [
        "Wszystko zaczęło się od inspirowanych biologią [sztucznych neuronów](https://en.wikipedia.org/wiki/Artificial_neuron), których próbowano użyć do symulacji mózgu. Naukowcy szybko odeszli od tego podejścia (sam problem modelowania okazał się też znacznie trudniejszy, niż sądzono), zamiast tego używając neuronów jako jednostek reprezentującą dowolną funkcję parametryczną $f(x, \\Theta)$. Każdy neuron jest zatem bardzo elastyczny, bo jedyne wymagania to funkcja różniczkowalna, a mamy do tego wektor parametrów $\\Theta$.\n",
        "\n",
        "W praktyce najczęściej można spotkać się z kilkoma rodzinami sieci neuronowych:\n",
        "1. Perceptrony wielowarstwowe (*MultiLayer Perceptron*, MLP) - najbardziej podobne do powyższego opisu, niezbędne do klasyfikacji i regresji\n",
        "2. Konwolucyjne (*Convolutional Neural Networks*, CNNs) - do przetwarzania danych z zależnościami przestrzennymi, np. obrazów czy dźwięku\n",
        "3. Rekurencyjne (*Recurrent Neural Networks*, RNNs) - do przetwarzania danych z zależnościami sekwencyjnymi, np. szeregi czasowe, oraz kiedyś do języka naturalnego\n",
        "4. Transformacyjne (*Transformers*), oparte o mechanizm atencji (*attention*) - do przetwarzania języka naturalnego (NLP), z którego wyparły RNNs, a coraz częściej także do wszelkich innych danych, np. obrazów, dźwięku\n",
        "5. Grafowe (*Graph Neural Networks*, GNNS) - do przetwarzania grafów\n",
        "\n",
        "Na tym laboratorium skupimy się na najprostszej architekturze, czyli MLP. Jest ona powszechnie łączona z wszelkimi innymi architekturami, bo pozwala dokonywać klasyfikacji i regresji. Przykładowo, klasyfikacja obrazów to zwykle CNN + MLP, klasyfikacja tekstów to transformer + MLP, a regresja na grafach to GNN + MLP.\n",
        "\n",
        "Dodatkowo, pomimo prostoty MLP są bardzo potężne - udowodniono, że perceptrony (ich powszechna nazwa) są [uniwersalnym aproksymatorem](https://www.sciencedirect.com/science/article/abs/pii/0893608089900208), będącym w stanie przybliżyć dowolną funkcję z odpowiednio małym błędem, zakładając wystarczającą wielkość warstw sieci. Szczególne ich wersje potrafią nawet [reprezentować drzewa decyzyjne](https://www.youtube.com/watch?v=_okxGdHM5b8).\n",
        "\n",
        "Dla zainteresowanych polecamy [doskonałą książkę \"Dive into Deep Learning\", z implementacjami w PyTorchu](https://d2l.ai/chapter_multilayer-perceptrons/index.html), [klasyczną książkę \"Deep Learning Book\"](https://www.deeplearningbook.org/contents/mlp.html), oraz [ten filmik](https://www.youtube.com/watch?v=BFHrIxKcLjA), jeśli zastanawiałeś/-aś się, czemu używamy deep learning, a nie naprzykład (wide?) learning. (aka. czemu staramy się budować głębokie sieci, a nie płytkie za to szerokie)"
      ]
    },
    {
      "cell_type": "markdown",
      "metadata": {
        "id": "S_ZjoGBU5upj"
      },
      "source": [
        "### Sieci MLP\n",
        "\n",
        "Dla przypomnienia, na wejściu mamy punkty ze zbioru treningowego, czyli $d$-wymiarowe wektory. W klasyfikacji chcemy znaleźć granicę decyzyjną, czyli krzywą, która oddzieli od siebie klasy. W wejściowej przestrzeni może być to trudne, bo chmury punktów z poszczególnych klas mogą być ze sobą dość pomieszane. Pamiętajmy też, że regresja logistyczna jest klasyfikatorem liniowym, czyli w danej przestrzeni potrafi oddzielić punkty tylko linią prostą.\n",
        "\n",
        "Sieć MLP składa się z warstw. Każda z nich dokonuje nieliniowego przekształcenia przestrzeni (można o tym myśleć jak o składaniu przestrzeni jakąś prostą/łamaną), tak, aby w finalnej przestrzeni nasze punkty były możliwie liniowo separowalne. Wtedy ostatnia warstwa z sigmoidą będzie potrafiła je rozdzielić od siebie.\n",
        "\n",
        "![1_x-3NGQv0pRIab8xDT-f_Hg.png](attachment:1_x-3NGQv0pRIab8xDT-f_Hg.png)\n",
        "\n",
        "Poszczególne neurony składają się z iloczynu skalarnego wejść z wagami neuronu, oraz nieliniowej funkcji aktywacji. W PyTorchu są to osobne obiekty - `nn.Linear` oraz np. `nn.Sigmoid`. Funkcja aktywacji przyjmuje wynik iloczynu skalarnego i przekształca go, aby sprawdzić, jak mocno reaguje neuron na dane wejście. Musi być nieliniowa z dwóch powodów. Po pierwsze, tylko nieliniowe przekształcenia są na tyle potężne, żeby umożliwić liniową separację danych w ostatniej warstwie. Po drugie, liniowe przekształcenia zwyczajnie nie działają. Aby zrozumieć czemu, trzeba zobaczyć, co matematycznie oznacza sieć MLP.\n",
        "\n",
        "![perceptron](https://www.saedsayad.com/images/Perceptron_bkp_1.png)\n",
        "\n",
        "Zapisane matematycznie MLP to:\n",
        "\n",
        "$\\large\n",
        "h_1 = f_1(x) \\\\\n",
        "h_2 = f_2(h_1) \\\\\n",
        "h_3 = f_3(h_2) \\\\\n",
        "... \\\\\n",
        "h_n = f_n(h_{n-1})\n",
        "$\n",
        "\n",
        "gdzie $x$ to wejście $f_i$ to funkcja aktywacji $i$-tej warstwy, a $h_i$ to wyjście $i$-tej warstwy, nazywane **ukrytą reprezentacją (hidden representation)**, lub *latent representation*. Nazwa bierze się z tego, że w środku sieci wyciągamy cechy i wzorce w danych, które nie są widoczne na pierwszy rzut oka na wejściu.\n",
        "\n",
        "Załóżmy, że uczymy się na danych $x$ o jednym wymiarze (dla uproszczenia wzorów) oraz nie mamy funkcji aktywacji, czyli wykorzystujemy tak naprawdę aktywację liniową $f(x) = x$. Zobaczmy jak będą wyglądać dane przechodząc przez kolejne warstwy:\n",
        "\n",
        "$\\large\n",
        "h_1 = f_1(xw_1) = xw_1 \\\\\n",
        "h_2 = f_2(h_1w_2) = xw_1w_2 \\\\\n",
        "... \\\\\n",
        "h_n = f_n(h_{n-1}w_n) = xw_1w_2...w_n\n",
        "$\n",
        "\n",
        "gdzie $w_i$ to jest parametr $i$-tej warstwy sieci, $x$ to są dane (w naszym przypadku jedna liczba) wejściowa, a $h_i$ to wyjście $i$-tej warstwy.\n",
        "\n",
        "Jak widać, taka sieć o $n$ warstwach jest równoważna sieci o jednej warstwie z parametrem $w = w_1w_2...w_n$. Wynika to z tego, że złożenie funkcji liniowych jest także funkcją liniową - patrz notatki z algebry :)\n",
        "\n",
        "Jeżeli natomiast użyjemy nieliniowej funkcji aktywacji, często oznaczanej jako $\\sigma$, to wszystko będzie działać. Co ważne, ostatnia warstwa, dająca wyjście sieci, ma zwykle inną aktywację od warstw wewnątrz sieci, bo też ma inne zadanie - zwrócić wartość dla klasyfikacji lub regresji. Na wyjściu korzysta się z funkcji liniowej (regresja), sigmoidalnej (klasyfikacja binarna) lub softmax (klasyfikacja wieloklasowa).\n",
        "\n",
        "Wewnątrz sieci używano kiedyś sigmoidy oraz tangensa hiperbolicznego `tanh`, ale okazało się to nieefektywne przy uczeniu głębokich sieci o wielu warstwach. Nowoczesne sieci korzystają zwykle z funkcji ReLU (*rectified linear unit*), która jest zaskakująco prosta: $ReLU(x) = \\max(0, x)$. Okazało się, że bardzo dobrze nadaje się do treningu nawet bardzo głębokich sieci neuronowych. Nowsze funkcje aktywacji są głównie modyfikacjami ReLU.\n",
        "\n",
        "![relu](https://www.nomidl.com/wp-content/uploads/2022/04/image-10.png)"
      ]
    },
    {
      "cell_type": "markdown",
      "metadata": {
        "id": "SQoozXPcAXhy"
      },
      "source": [
        "### MLP w PyTorchu\n",
        "\n",
        "Warstwę neuronów w MLP nazywa się warstwą gęstą (*dense layer*) lub warstwą w pełni połączoną (*fully-connected layer*), i taki opis oznacza zwykle same neurony oraz funkcję aktywacji. PyTorch, jak już widzieliśmy, definiuje osobno transformację liniową oraz aktywację, a więc jedna warstwa składa się de facto z 2 obiektów, wywoływanych jeden po drugim. Inne frameworki, szczególnie wysokopoziomowe (np. Keras) łączą to często w jeden obiekt.\n",
        "\n",
        "MLP składa się zatem z sekwencji obiektów, które potem wywołuje się jeden po drugim, gdzie wyjście poprzedniego to wejście kolejnego. Ale nie można tutaj używać Pythonowych list! Z perspektywy PyTorcha to wtedy niezależne obiekty i nie zostanie wtedy przekazany między nimi gradient. Trzeba tutaj skorzystać z `nn.Sequential`, aby tworzyć taki pipeline.\n",
        "\n",
        "Rozmiary wejścia i wyjścia dla każdej warstwy trzeba w PyTorchu podawać explicite. Jest to po pierwsze edukacyjne, a po drugie często ułatwia wnioskowanie o działaniu sieci oraz jej debugowanie - mamy jasno podane, czego oczekujemy. Niektóre frameworki (np. Keras) obliczają to automatycznie.\n",
        "\n",
        "Co ważne, ostatnia warstwa zwykle nie ma funkcji aktywacji. Wynika to z tego, że obliczanie wielu funkcji kosztu (np. entropii krzyżowej) na aktywacjach jest często niestabilne numerycznie. Z tego powodu PyTorch oferuje funkcje kosztu zawierające w środku aktywację dla ostatniej warstwy, a ich implementacje są stabilne numerycznie. Przykładowo, `nn.BCELoss` przyjmuje wejście z zaaplikowanymi już aktywacjami, ale może skutkować under/overflow, natomiast `nn.BCEWithLogitsLoss` przyjmuje wejście bez aktywacji, a w środku ma specjalną implementację łączącą binarną entropię krzyżową z aktywacją sigmoidalną. Oczywiście w związku z tym aby dokonać potem predykcji w praktyce, trzeba pamiętać o użyciu funkcji aktywacji. Często korzysta się przy tym z funkcji z modułu `torch.nn.functional`, które są w tym wypadku nieco wygodniejsze od klas wywoływalnych z `torch.nn`.\n",
        "\n",
        "Całe sieci w PyTorchu tworzy się jako klasy dziedziczące po `nn.Module`. Co ważne, obiekty, z których tworzymy sieć, np. `nn.Linear`, także dziedziczą po tej klasie. Pozwala to na bardzo modułową budowę kodu, zgodną z zasadami OOP. W konstruktorze najpierw trzeba zawsze wywołać konstruktor rodzica - `super().__init__()`, a później tworzy się potrzebne obiekty i zapisuje jako atrybuty. Każdy atrybut dziedziczący po `nn.Module` lub `nn.Parameter` jest uważany za taki, który zawiera parametry sieci, a więc przy wywołaniu metody `parameters()` - parametry z tych atrybutów pojawią się w liście wszystkich parametrów. Musimy też zdefiniować metodę `forward()`, która przyjmuje tensor `x` i zwraca wynik. Typowo ta metoda po prostu używa obiektów zdefiniowanych w konstruktorze.\n",
        "\n",
        "\n",
        "**UWAGA: nigdy w normalnych warunkach się nie woła metody `forward` ręcznie**"
      ]
    },
    {
      "cell_type": "markdown",
      "metadata": {
        "id": "J8niDgExAMDO"
      },
      "source": [
        "#### Zadanie 4 (0.5 punktu)\n",
        "\n",
        "Uzupełnij implementację 3-warstwowej sieci MLP. Użyj rozmiarów:\n",
        "* pierwsza warstwa: input_size x 256\n",
        "* druga warstwa: 256 x 128\n",
        "* trzecia warstwa: 128 x 1\n",
        "\n",
        "Użyj funkcji aktywacji ReLU.\n",
        "\n",
        "Przydatne klasy:\n",
        "- `nn.Sequential`\n",
        "- `nn.Linear`\n",
        "- `nn.ReLU`"
      ]
    },
    {
      "cell_type": "code",
      "execution_count": 96,
      "metadata": {
        "id": "EDORaUryAXhy"
      },
      "outputs": [],
      "source": [
        "from torch import sigmoid\n",
        "\n",
        "\n",
        "class MLP(nn.Module):\n",
        "    def __init__(self, input_size: int):\n",
        "        super().__init__()\n",
        "        self.network = nn.Sequential(\n",
        "            nn.Linear(input_size, 256),\n",
        "            nn.ReLU(),\n",
        "            nn.Linear(256, 128),\n",
        "            nn.ReLU(),\n",
        "            nn.Linear(128, 1)\n",
        "        )\n",
        "\n",
        "    def forward(self, x):\n",
        "        return self.network(x)\n",
        "\n",
        "    def predict_proba(self, x):\n",
        "        return sigmoid(self(x))\n",
        "\n",
        "    def predict(self, x, threshold: float = 0.5):\n",
        "        y_pred_score = self.predict_proba(x)\n",
        "        return (y_pred_score > threshold).to(torch.int32)\n"
      ]
    },
    {
      "cell_type": "code",
      "execution_count": 97,
      "metadata": {
        "colab": {
          "base_uri": "https://localhost:8080/"
        },
        "id": "yhRBvQybAXhy",
        "outputId": "51b93b2c-1290-42cb-cff2-18178bfb3912"
      },
      "outputs": [
        {
          "output_type": "stream",
          "name": "stdout",
          "text": [
            "Epoch 0 train loss: 0.7174\n",
            "Epoch 200 train loss: 0.6914\n",
            "Epoch 400 train loss: 0.6696\n",
            "Epoch 600 train loss: 0.6510\n",
            "Epoch 800 train loss: 0.6347\n",
            "Epoch 1000 train loss: 0.6205\n",
            "Epoch 1200 train loss: 0.6078\n",
            "Epoch 1400 train loss: 0.5965\n",
            "Epoch 1600 train loss: 0.5864\n",
            "Epoch 1800 train loss: 0.5774\n",
            "final loss: 0.5693\n"
          ]
        }
      ],
      "source": [
        "learning_rate = 1e-3\n",
        "model = MLP(input_size=X_train.shape[1])\n",
        "optimizer = torch.optim.SGD(model.parameters(), lr=learning_rate)\n",
        "\n",
        "# note that we are using loss function with sigmoid built in\n",
        "loss_fn = torch.nn.BCEWithLogitsLoss()\n",
        "num_epochs = 2000\n",
        "evaluation_steps = 200\n",
        "\n",
        "for i in range(num_epochs):\n",
        "    y_pred = model(X_train)\n",
        "    loss = loss_fn(y_pred, y_train)\n",
        "    loss.backward()\n",
        "\n",
        "    optimizer.step()\n",
        "    optimizer.zero_grad()\n",
        "\n",
        "    if i % evaluation_steps == 0:\n",
        "        print(f\"Epoch {i} train loss: {loss.item():.4f}\")\n",
        "\n",
        "print(f\"final loss: {loss.item():.4f}\")"
      ]
    },
    {
      "cell_type": "code",
      "execution_count": 98,
      "metadata": {
        "colab": {
          "base_uri": "https://localhost:8080/",
          "height": 489
        },
        "id": "LP5GSup24dXU",
        "outputId": "6ef2dbd9-0ae9-4f8b-d5ee-cbf6ee426ecd"
      },
      "outputs": [
        {
          "output_type": "stream",
          "name": "stdout",
          "text": [
            "AUROC: 76.34%\n"
          ]
        },
        {
          "output_type": "display_data",
          "data": {
            "text/plain": [
              "<Figure size 640x480 with 1 Axes>"
            ],
            "image/png": "[encoded data removed]"
          },
          "metadata": {}
        }
      ],
      "source": [
        "model.eval()\n",
        "with torch.no_grad():\n",
        "    # positive class probabilities\n",
        "    y_pred_valid_score = model.predict_proba(X_valid)\n",
        "    y_pred_test_score = model.predict_proba(X_test)\n",
        "\n",
        "auroc = roc_auc_score(y_test, y_pred_test_score)\n",
        "print(f\"AUROC: {100 * auroc:.2f}%\")\n",
        "\n",
        "plot_precision_recall_curve(y_valid, y_pred_valid_score)"
      ]
    },
    {
      "cell_type": "markdown",
      "metadata": {
        "id": "0LJD5OT8AXhz"
      },
      "source": [
        "AUROC jest podobne, a precision i recall spadły - wypadamy wręcz gorzej od regresji liniowej! Skoro dodaliśmy więcej warstw, to może pojemność modelu jest teraz za duża i trzeba by go zregularyzować?\n",
        "\n",
        "Sieci neuronowe bardzo łatwo przeuczają, bo są bardzo elastycznymi i pojemnymi modelami. Dlatego mają wiele różnych rodzajów regularyzacji, których używa się razem. Co ciekawe, udowodniono eksperymentalnie, że zbyt duże sieci z mocną regularyzacją działają lepiej niż mniejsze sieci, odpowiedniego rozmiaru, za to ze słabszą regularyzacją.\n",
        "\n",
        "Pierwszy rodzaj regularyzacji to znana nam już **regularyzacja L2**, czyli penalizacja zbyt dużych wag. W kontekście sieci neuronowych nazywa się też ją czasem *weight decay*. W PyTorchu dodaje się ją jako argument do optymalizatora.\n",
        "\n",
        "Regularyzacja specyficzna dla sieci neuronowych to **dropout**. Polega on na losowym wyłączaniu zadanego procenta neuronów podczas treningu. Pomimo prostoty okazała się niesamowicie skuteczna, szczególnie w treningu bardzo głębokich sieci. Co ważne, jest to mechanizm używany tylko podczas treningu - w trakcie predykcji za pomocą sieci wyłącza się ten mechanizm i dokonuje normalnie predykcji całą siecią. Podejście to można potraktować jak ensemble learning, podobny do lasów losowych - wyłączając losowe części sieci, w każdej iteracji trenujemy nieco inną sieć, co odpowiada uśrednianiu predykcji różnych algorytmów. Typowo stosuje się dość mocny dropout, rzędu 25-50%. W PyTorchu implementuje go warstwa `nn.Dropout`, aplikowana zazwyczaj po funkcji aktywacji.\n",
        "\n",
        "Ostatni, a być może najważniejszy rodzaj regularyzacji to **wczesny stop (early stopping)**. W każdym kroku mocniej dostosowujemy terenową sieć do zbioru treningowego, a więc zbyt długi trening będzie skutkował przeuczeniem. W metodzie wczesnego stopu używamy wydzielonego zbioru walidacyjnego (pojedynczego, metoda holdout), sprawdzając co określoną liczbę epok wynik na tym zbiorze. Jeżeli nie uzyskamy wyniku lepszego od najlepszego dotychczas uzyskanego przez określoną liczbę epok, to przerywamy trening. Okres, przez który czekamy na uzyskanie lepszego wyniku, to cierpliwość (*patience*). Im mniejsze, tym mocniejszy jest ten rodzaj regularyzacji, ale trzeba z tym uważać, bo łatwo jest przesadzić i zbyt szybko przerywać trening. Niektóre implementacje uwzględniają tzw. *grace period*, czyli gwarantowaną minimalną liczbę epok, przez którą będziemy trenować sieć, niezależnie od wybranej cierpliwości.\n",
        "\n",
        "Dodatkowo ryzyko przeuczenia można zmniejszyć, używając mniejszej stałej uczącej."
      ]
    },
    {
      "cell_type": "markdown",
      "metadata": {
        "id": "mavaSZr0AXhz"
      },
      "source": [
        "#### Zadanie 5 (1.5 punktu)\n",
        "\n",
        "Zaimplementuj funkcję `evaluate_model()`, obliczającą metryki na zbiorze testowym:\n",
        "- wartość funkcji kosztu (loss)\n",
        "- AUROC\n",
        "- optymalny próg\n",
        "- F1-score przy optymalnym progu\n",
        "- precyzję oraz recall dla optymalnego progu\n",
        "\n",
        "Jeżeli podana jest wartość argumentu `threshold`, to użyj jej do zamiany prawdopodobieństw na twarde predykcje. W przeciwnym razie użyj funkcji `get_optimal_threshold` i oblicz optymalną wartość progu.\n",
        "\n",
        "Pamiętaj o przełączeniu modelu w tryb ewaluacji oraz o wyłączeniu obliczania gradientów."
      ]
    },
    {
      "cell_type": "code",
      "execution_count": 110,
      "metadata": {
        "id": "T39Y0dLJAXhz"
      },
      "outputs": [],
      "source": [
        "from typing import Optional\n",
        "\n",
        "from sklearn.metrics import precision_score, recall_score, f1_score\n",
        "from torch import sigmoid\n",
        "\n",
        "\n",
        "def evaluate_model(\n",
        "    model: nn.Module,\n",
        "    X: torch.Tensor,\n",
        "    y: torch.Tensor,\n",
        "    loss_fn: nn.Module,\n",
        "    threshold: Optional[float]= None\n",
        ") -> Dict[str, float]:\n",
        "\n",
        "    model.eval()\n",
        "    with torch.no_grad():\n",
        "        y_pred = model.predict_proba(X)\n",
        "        loss_val = loss_fn(y_pred, y)\n",
        "\n",
        "    auroc = roc_auc_score(y, y_pred)\n",
        "\n",
        "    if not threshold:\n",
        "        prec, recalls, thresholds = precision_recall_curve(y, y_pred)\n",
        "        _, optimal_threshold = get_optimal_threshold(prec, recalls, thresholds)\n",
        "        threshold = optimal_threshold\n",
        "\n",
        "    y_pred = torch.where(y_pred > threshold, 1, 0)\n",
        "\n",
        "    fone_score = f1_score(y, y_pred)\n",
        "    prec_score = precision_score(y, y_pred)\n",
        "    recl_score = recall_score(y, y_pred)\n",
        "\n",
        "    return {\n",
        "        \"loss_value\":      loss_val,\n",
        "        \"auroc\":           auroc,\n",
        "        \"threshold\":       threshold,\n",
        "        \"f1_score\" :       fone_score,\n",
        "        \"precision_score\": prec_score,\n",
        "        \"recall_score\" :   recl_score\n",
        "    }"
      ]
    },
    {
      "cell_type": "markdown",
      "metadata": {
        "id": "ohm65S1NAXhz"
      },
      "source": [
        "#### Zadanie 6 (0.5 punktu)\n",
        "\n",
        "Zaimplementuj 3-warstwową sieć MLP z dropout (50%). Rozmiary warstw ukrytych mają wynosić 256 i 128."
      ]
    },
    {
      "cell_type": "code",
      "execution_count": 111,
      "metadata": {
        "id": "BrkrcOH-AXhz"
      },
      "outputs": [],
      "source": [
        "class RegularizedMLP(nn.Module):\n",
        "    def __init__(self, input_size: int, dropout_p: float = 0.5):\n",
        "        super().__init__()\n",
        "        self.network = nn.Sequential(\n",
        "            nn.Linear(input_size, 256),\n",
        "            nn.ReLU(),\n",
        "            nn.Dropout(dropout_p),\n",
        "            nn.Linear(256, 128),\n",
        "            nn.ReLU(),\n",
        "            nn.Dropout(dropout_p),\n",
        "            nn.Linear(128, 1)\n",
        "        )\n",
        "\n",
        "    def forward(self, x):\n",
        "        return self.network(x)\n",
        "\n",
        "    def predict_proba(self, x):\n",
        "        return sigmoid(self(x))\n",
        "\n",
        "    def predict(self, x, threshold: float = 0.5):\n",
        "        y_pred_score = self.predict_proba(x)\n",
        "        return (y_pred_score > threshold).to(torch.int32)\n"
      ]
    },
    {
      "cell_type": "markdown",
      "metadata": {
        "id": "rEk9azaULAsz"
      },
      "source": [
        "Opisaliśmy wcześniej podstawowy optymalizator w sieciach neuronowych - spadek wzdłuż gradientu. Jednak wymaga on użycia całego zbioru danych, aby obliczyć gradient, co jest często niewykonalne przez rozmiar zbioru. Dlatego wymyślono **stochastyczny spadek wzdłuż gradientu (stochastic gradient descent, SGD)**, w którym używamy 1 przykładu naraz, liczymy gradient tylko po nim i aktualizujemy parametry. Jest to oczywiście dość grube przybliżenie gradientu, ale pozwala robić szybko dużo małych kroków. Kompromisem, którego używa się w praktyce, jest **minibatch gradient descent**, czyli używanie batchy np. 32, 64 czy 128 przykładów.\n",
        "\n",
        "Rzadko wspominanym, a ważnym faktem jest także to, że stochastyczność metody optymalizacji jest sama w sobie też [metodą regularyzacji](https://arxiv.org/abs/2101.12176), a więc `batch_size` to także hiperparametr.\n",
        "\n",
        "Obecnie najpopularniejszą odmianą SGD jest [Adam](https://arxiv.org/abs/1412.6980), gdyż uczy on szybko sieć oraz daje bardzo dobre wyniki nawet przy niekoniecznie idealnie dobranych hiperparametrach. W PyTorchu najlepiej korzystać z jego implementacji `AdamW`, która jest nieco lepsza niż implementacja `Adam`. Jest to zasadniczo zawsze wybór domyślny przy treningu współczesnych sieci neuronowych.\n",
        "\n",
        "Na razie użyjemy jednak minibatch SGD."
      ]
    },
    {
      "cell_type": "markdown",
      "metadata": {
        "id": "pw4OxjDsAXh0"
      },
      "source": [
        "Poniżej znajduje się implementacja prostej klasy dziedziczącej po `Dataset` - tak w PyTorchu implementuje się własne zbiory danych. Użycie takich klas umożliwia użycie klas ładujących dane (`DataLoader`), które z kolei pozwalają łatwo ładować batche danych. Trzeba w takiej klasie zaimplementować metody:\n",
        "- `__len__` - zwraca ilość punktów w zbiorze\n",
        "- `__getitem__` - zwraca przykład ze zbioru pod danym indeksem oraz jego klasę\n"
      ]
    },
    {
      "cell_type": "code",
      "execution_count": 112,
      "metadata": {
        "id": "ZBm0i-R5AXh0"
      },
      "outputs": [],
      "source": [
        "from torch.utils.data import Dataset\n",
        "\n",
        "\n",
        "class MyDataset(Dataset):\n",
        "    def __init__(self, data, y):\n",
        "        super().__init__()\n",
        "\n",
        "        self.data = data\n",
        "        self.y = y\n",
        "\n",
        "    def __len__(self):\n",
        "        return self.data.shape[0]\n",
        "\n",
        "    def __getitem__(self, idx):\n",
        "        return self.data[idx], self.y[idx]\n"
      ]
    },
    {
      "cell_type": "markdown",
      "metadata": {
        "id": "SvQQ93lzAXh0"
      },
      "source": [
        "#### Zadanie 7 (1.5 punktu)\n",
        "\n",
        "Zaimplementuj pętlę treningowo-walidacyjną dla sieci neuronowej. Wykorzystaj podane wartości hiperparametrów do treningu (stała ucząca, prawdopodobieństwo dropoutu, regularyzacja L2, rozmiar batcha, maksymalna liczba epok). Użyj optymalizatora SGD.\n",
        "\n",
        "Dodatkowo zaimplementuj regularyzację przez early stopping. Sprawdzaj co epokę wynik na zbiorze walidacyjnym. Użyj podanej wartości patience, a jako metryki po prostu wartości funkcji kosztu. Może się tutaj przydać zaimplementowana funkcja `evaluate_model()`.\n",
        "\n",
        "Pamiętaj o tym, aby przechowywać najlepszy dotychczasowy wynik walidacyjny oraz najlepszy dotychczasowy model. Zapamiętaj też optymalny próg do klasyfikacji dla najlepszego modelu."
      ]
    },
    {
      "cell_type": "code",
      "execution_count": 113,
      "metadata": {
        "id": "mRQgxKdNAXh0"
      },
      "outputs": [],
      "source": [
        "from copy import deepcopy\n",
        "\n",
        "from torch.utils.data import DataLoader\n",
        "\n",
        "\n",
        "learning_rate = 1e-3\n",
        "dropout_p = 0.5\n",
        "l2_reg = 1e-4\n",
        "batch_size = 128\n",
        "max_epochs = 300\n",
        "\n",
        "early_stopping_patience = 4"
      ]
    },
    {
      "cell_type": "code",
      "execution_count": 118,
      "metadata": {
        "scrolled": true,
        "colab": {
          "base_uri": "https://localhost:8080/"
        },
        "id": "5kQieJ9LAXh0",
        "outputId": "6162bfcd-8d43-4f0f-e8bd-970aaa914389"
      },
      "outputs": [
        {
          "output_type": "stream",
          "name": "stdout",
          "text": [
            "Epoch 0 train loss: 0.6872, eval loss 0.8508914709091187\n",
            "Epoch 1 train loss: 0.6694, eval loss 0.8433516621589661\n",
            "Epoch 2 train loss: 0.6474, eval loss 0.8364033699035645\n",
            "Epoch 3 train loss: 0.6326, eval loss 0.8298991918563843\n",
            "Epoch 4 train loss: 0.6174, eval loss 0.8238362669944763\n",
            "Epoch 5 train loss: 0.6017, eval loss 0.8181166648864746\n",
            "Epoch 6 train loss: 0.5961, eval loss 0.8127212524414062\n",
            "Epoch 7 train loss: 0.5880, eval loss 0.8076394200325012\n",
            "Epoch 8 train loss: 0.5833, eval loss 0.8028364181518555\n",
            "Epoch 9 train loss: 0.5642, eval loss 0.7983418107032776\n",
            "Epoch 10 train loss: 0.5612, eval loss 0.7941142916679382\n",
            "Epoch 11 train loss: 0.5468, eval loss 0.7901700139045715\n",
            "Epoch 12 train loss: 0.5520, eval loss 0.7864675521850586\n",
            "Epoch 13 train loss: 0.5440, eval loss 0.7830042243003845\n",
            "Epoch 14 train loss: 0.5418, eval loss 0.779793381690979\n",
            "Epoch 15 train loss: 0.5294, eval loss 0.7768238186836243\n",
            "Epoch 16 train loss: 0.5321, eval loss 0.7740131616592407\n",
            "Epoch 17 train loss: 0.5260, eval loss 0.7714067101478577\n",
            "Epoch 18 train loss: 0.5142, eval loss 0.7690423130989075\n",
            "Epoch 19 train loss: 0.5217, eval loss 0.7667950987815857\n",
            "Epoch 20 train loss: 0.5050, eval loss 0.7647165060043335\n",
            "Epoch 21 train loss: 0.5044, eval loss 0.7627472281455994\n",
            "Epoch 22 train loss: 0.5160, eval loss 0.7608790397644043\n",
            "Epoch 23 train loss: 0.4939, eval loss 0.7591021060943604\n",
            "Epoch 24 train loss: 0.4981, eval loss 0.7574177384376526\n",
            "Epoch 25 train loss: 0.4956, eval loss 0.7558215260505676\n",
            "Epoch 26 train loss: 0.5024, eval loss 0.7543544173240662\n",
            "Epoch 27 train loss: 0.4825, eval loss 0.7529104948043823\n",
            "Epoch 28 train loss: 0.4824, eval loss 0.7514903545379639\n",
            "Epoch 29 train loss: 0.4940, eval loss 0.7501294016838074\n",
            "Epoch 30 train loss: 0.4843, eval loss 0.7488458156585693\n",
            "Epoch 31 train loss: 0.4878, eval loss 0.7475603818893433\n",
            "Epoch 32 train loss: 0.4686, eval loss 0.7463442087173462\n",
            "Epoch 33 train loss: 0.4730, eval loss 0.7451927065849304\n",
            "Epoch 34 train loss: 0.4821, eval loss 0.7440117001533508\n",
            "Epoch 35 train loss: 0.4725, eval loss 0.7428321242332458\n",
            "Epoch 36 train loss: 0.4750, eval loss 0.7417024970054626\n",
            "Epoch 37 train loss: 0.4754, eval loss 0.7406097650527954\n",
            "Epoch 38 train loss: 0.4747, eval loss 0.7395079135894775\n",
            "Epoch 39 train loss: 0.4644, eval loss 0.738444983959198\n",
            "Epoch 40 train loss: 0.4537, eval loss 0.7373394966125488\n",
            "Epoch 41 train loss: 0.4688, eval loss 0.7362757921218872\n",
            "Epoch 42 train loss: 0.4538, eval loss 0.7352666258811951\n",
            "Epoch 43 train loss: 0.4524, eval loss 0.7342823147773743\n",
            "Epoch 44 train loss: 0.4386, eval loss 0.7333040237426758\n",
            "Epoch 45 train loss: 0.4537, eval loss 0.7323697805404663\n",
            "Epoch 46 train loss: 0.4304, eval loss 0.7314668893814087\n",
            "Epoch 47 train loss: 0.4315, eval loss 0.7305430769920349\n",
            "Epoch 48 train loss: 0.4517, eval loss 0.7296842932701111\n",
            "Epoch 49 train loss: 0.4394, eval loss 0.7287533283233643\n",
            "Epoch 50 train loss: 0.4357, eval loss 0.7278773188591003\n",
            "Epoch 51 train loss: 0.4329, eval loss 0.727053701877594\n",
            "Epoch 52 train loss: 0.4325, eval loss 0.7262610197067261\n",
            "Epoch 53 train loss: 0.4299, eval loss 0.7254626750946045\n",
            "Epoch 54 train loss: 0.4293, eval loss 0.7247175574302673\n",
            "Epoch 55 train loss: 0.4236, eval loss 0.7239980101585388\n",
            "Epoch 56 train loss: 0.4237, eval loss 0.7232662439346313\n",
            "Epoch 57 train loss: 0.4149, eval loss 0.7225310206413269\n",
            "Epoch 58 train loss: 0.4367, eval loss 0.7218716144561768\n",
            "Epoch 59 train loss: 0.4347, eval loss 0.7212206125259399\n",
            "Epoch 60 train loss: 0.4220, eval loss 0.7205960154533386\n",
            "Epoch 61 train loss: 0.4041, eval loss 0.7198981642723083\n",
            "Epoch 62 train loss: 0.4058, eval loss 0.7192684412002563\n",
            "Epoch 63 train loss: 0.4000, eval loss 0.7186689972877502\n",
            "Epoch 64 train loss: 0.4129, eval loss 0.718116819858551\n",
            "Epoch 65 train loss: 0.4008, eval loss 0.7175559401512146\n",
            "Epoch 66 train loss: 0.4210, eval loss 0.7169610857963562\n",
            "Epoch 67 train loss: 0.3997, eval loss 0.7163808941841125\n",
            "Epoch 68 train loss: 0.4095, eval loss 0.7158469557762146\n",
            "Epoch 69 train loss: 0.4067, eval loss 0.7153578996658325\n",
            "Epoch 70 train loss: 0.3999, eval loss 0.7148839831352234\n",
            "Epoch 71 train loss: 0.4031, eval loss 0.7144472002983093\n",
            "Epoch 72 train loss: 0.3939, eval loss 0.7139533162117004\n",
            "Epoch 73 train loss: 0.4005, eval loss 0.7135229706764221\n",
            "Epoch 74 train loss: 0.4152, eval loss 0.7130693197250366\n",
            "Epoch 75 train loss: 0.4010, eval loss 0.7126358151435852\n",
            "Epoch 76 train loss: 0.3921, eval loss 0.7121800184249878\n",
            "Epoch 77 train loss: 0.3958, eval loss 0.7118218541145325\n",
            "Epoch 78 train loss: 0.4099, eval loss 0.711418867111206\n",
            "Epoch 79 train loss: 0.4038, eval loss 0.7109853625297546\n",
            "Epoch 80 train loss: 0.3831, eval loss 0.710686206817627\n",
            "Epoch 81 train loss: 0.4000, eval loss 0.7103386521339417\n",
            "Epoch 82 train loss: 0.3871, eval loss 0.7100068926811218\n",
            "Epoch 83 train loss: 0.3723, eval loss 0.7096940279006958\n",
            "Epoch 84 train loss: 0.3878, eval loss 0.7093507051467896\n",
            "Epoch 85 train loss: 0.3940, eval loss 0.7090741395950317\n",
            "Epoch 86 train loss: 0.3910, eval loss 0.7087584733963013\n",
            "Epoch 87 train loss: 0.3887, eval loss 0.7083985209465027\n",
            "Epoch 88 train loss: 0.3884, eval loss 0.7080986499786377\n",
            "Epoch 89 train loss: 0.4263, eval loss 0.7078385949134827\n",
            "Epoch 90 train loss: 0.3867, eval loss 0.7075864672660828\n",
            "Epoch 91 train loss: 0.3880, eval loss 0.707268238067627\n",
            "Epoch 92 train loss: 0.4044, eval loss 0.7069942355155945\n",
            "Epoch 93 train loss: 0.3885, eval loss 0.7067993879318237\n",
            "Epoch 94 train loss: 0.3953, eval loss 0.7065292000770569\n",
            "Epoch 95 train loss: 0.3808, eval loss 0.7063014507293701\n",
            "Epoch 96 train loss: 0.3719, eval loss 0.7061078548431396\n",
            "Epoch 97 train loss: 0.3807, eval loss 0.7058629393577576\n",
            "Epoch 98 train loss: 0.4021, eval loss 0.7055748701095581\n",
            "Epoch 99 train loss: 0.3839, eval loss 0.7053787112236023\n",
            "Epoch 100 train loss: 0.3984, eval loss 0.7051795721054077\n",
            "Epoch 101 train loss: 0.3657, eval loss 0.7050192952156067\n",
            "Epoch 102 train loss: 0.3915, eval loss 0.7047774791717529\n",
            "Epoch 103 train loss: 0.3785, eval loss 0.7045559287071228\n",
            "Epoch 104 train loss: 0.3783, eval loss 0.7042967677116394\n",
            "Epoch 105 train loss: 0.4180, eval loss 0.7041129469871521\n",
            "Epoch 106 train loss: 0.3989, eval loss 0.7039661407470703\n",
            "Epoch 107 train loss: 0.3749, eval loss 0.7038137912750244\n",
            "Epoch 108 train loss: 0.3834, eval loss 0.7036886811256409\n",
            "Epoch 109 train loss: 0.3805, eval loss 0.7035916447639465\n",
            "Epoch 110 train loss: 0.4082, eval loss 0.7034063935279846\n",
            "Epoch 111 train loss: 0.3856, eval loss 0.7032883763313293\n",
            "Epoch 112 train loss: 0.3728, eval loss 0.7031869888305664\n",
            "Epoch 113 train loss: 0.3845, eval loss 0.7030085325241089\n",
            "Epoch 114 train loss: 0.4091, eval loss 0.7028852105140686\n",
            "Epoch 115 train loss: 0.3766, eval loss 0.7026948928833008\n",
            "Epoch 116 train loss: 0.3535, eval loss 0.7026122808456421\n",
            "Epoch 117 train loss: 0.3702, eval loss 0.7024667859077454\n",
            "Epoch 118 train loss: 0.3970, eval loss 0.702309250831604\n",
            "Epoch 119 train loss: 0.4090, eval loss 0.7022402286529541\n",
            "Epoch 120 train loss: 0.3689, eval loss 0.7020279765129089\n",
            "Epoch 121 train loss: 0.3921, eval loss 0.7018933296203613\n",
            "Epoch 122 train loss: 0.3812, eval loss 0.7018657326698303\n",
            "Epoch 123 train loss: 0.3800, eval loss 0.7017670273780823\n",
            "Epoch 124 train loss: 0.3966, eval loss 0.7016448974609375\n",
            "Epoch 125 train loss: 0.3775, eval loss 0.7014927268028259\n",
            "Epoch 126 train loss: 0.3700, eval loss 0.7014465928077698\n",
            "Epoch 127 train loss: 0.4076, eval loss 0.7012583613395691\n",
            "Epoch 128 train loss: 0.3836, eval loss 0.7011576890945435\n",
            "Epoch 129 train loss: 0.3780, eval loss 0.7010626196861267\n",
            "Epoch 130 train loss: 0.4024, eval loss 0.7009724378585815\n",
            "Epoch 131 train loss: 0.3712, eval loss 0.700955867767334\n",
            "Epoch 132 train loss: 0.3867, eval loss 0.70079505443573\n",
            "Epoch 133 train loss: 0.3656, eval loss 0.7007407546043396\n",
            "Epoch 134 train loss: 0.3761, eval loss 0.7006821036338806\n",
            "Epoch 135 train loss: 0.3582, eval loss 0.700536847114563\n",
            "Epoch 136 train loss: 0.3659, eval loss 0.7004319429397583\n",
            "Epoch 137 train loss: 0.3859, eval loss 0.700329065322876\n",
            "Epoch 138 train loss: 0.3778, eval loss 0.7002341747283936\n",
            "Epoch 139 train loss: 0.3591, eval loss 0.700174868106842\n",
            "Epoch 140 train loss: 0.3766, eval loss 0.7000747323036194\n",
            "Epoch 141 train loss: 0.3869, eval loss 0.6999788284301758\n",
            "Epoch 142 train loss: 0.3957, eval loss 0.6999723315238953\n",
            "Epoch 143 train loss: 0.3755, eval loss 0.6998500227928162\n",
            "Epoch 144 train loss: 0.3416, eval loss 0.6998224258422852\n",
            "Epoch 145 train loss: 0.3829, eval loss 0.6997689008712769\n",
            "Epoch 146 train loss: 0.3829, eval loss 0.6996452212333679\n",
            "Epoch 147 train loss: 0.3899, eval loss 0.6995278596878052\n",
            "Epoch 148 train loss: 0.3664, eval loss 0.6995044350624084\n",
            "Epoch 149 train loss: 0.3552, eval loss 0.6994184851646423\n",
            "Epoch 150 train loss: 0.3685, eval loss 0.6993297338485718\n",
            "Epoch 151 train loss: 0.3697, eval loss 0.6992639303207397\n",
            "Epoch 152 train loss: 0.3934, eval loss 0.6991622447967529\n",
            "Epoch 153 train loss: 0.3995, eval loss 0.6990833878517151\n",
            "Epoch 154 train loss: 0.3967, eval loss 0.6989714503288269\n",
            "Epoch 155 train loss: 0.3663, eval loss 0.6989476680755615\n",
            "Epoch 156 train loss: 0.3373, eval loss 0.6988440752029419\n",
            "Epoch 157 train loss: 0.3605, eval loss 0.6988129615783691\n",
            "Epoch 158 train loss: 0.3877, eval loss 0.6987117528915405\n",
            "Epoch 159 train loss: 0.3827, eval loss 0.6986159086227417\n",
            "Epoch 160 train loss: 0.3652, eval loss 0.6985741257667542\n",
            "Epoch 161 train loss: 0.3688, eval loss 0.6984354853630066\n",
            "Epoch 162 train loss: 0.3745, eval loss 0.6984129548072815\n",
            "Epoch 163 train loss: 0.3940, eval loss 0.6983537673950195\n",
            "Epoch 164 train loss: 0.3732, eval loss 0.6982895731925964\n",
            "Epoch 165 train loss: 0.3747, eval loss 0.6981789469718933\n",
            "Epoch 166 train loss: 0.3504, eval loss 0.6981721520423889\n",
            "Epoch 167 train loss: 0.3893, eval loss 0.6981081962585449\n",
            "Epoch 168 train loss: 0.3632, eval loss 0.6980834603309631\n",
            "Epoch 169 train loss: 0.4010, eval loss 0.6979832053184509\n",
            "Epoch 170 train loss: 0.3743, eval loss 0.6979251503944397\n",
            "Epoch 171 train loss: 0.3749, eval loss 0.6978630423545837\n",
            "Epoch 172 train loss: 0.3801, eval loss 0.6978217363357544\n",
            "Epoch 173 train loss: 0.3817, eval loss 0.6978474259376526\n",
            "Epoch 174 train loss: 0.3902, eval loss 0.6977776885032654\n",
            "Epoch 175 train loss: 0.3718, eval loss 0.6977158784866333\n",
            "Epoch 176 train loss: 0.3950, eval loss 0.6975879073143005\n",
            "Epoch 177 train loss: 0.3830, eval loss 0.6975043416023254\n",
            "Epoch 178 train loss: 0.3881, eval loss 0.697486937046051\n",
            "Epoch 179 train loss: 0.3620, eval loss 0.6974403858184814\n",
            "Epoch 180 train loss: 0.3632, eval loss 0.6974200010299683\n",
            "Epoch 181 train loss: 0.3808, eval loss 0.6973849534988403\n",
            "Epoch 182 train loss: 0.3600, eval loss 0.6972851157188416\n",
            "Epoch 183 train loss: 0.3593, eval loss 0.6973123550415039\n",
            "Epoch 184 train loss: 0.3817, eval loss 0.6972134113311768\n",
            "Epoch 185 train loss: 0.3675, eval loss 0.6970877647399902\n",
            "Epoch 186 train loss: 0.3571, eval loss 0.6970555782318115\n",
            "Epoch 187 train loss: 0.4024, eval loss 0.6969850659370422\n",
            "Epoch 188 train loss: 0.3806, eval loss 0.6969609260559082\n",
            "Epoch 189 train loss: 0.3709, eval loss 0.6968750953674316\n",
            "Epoch 190 train loss: 0.3466, eval loss 0.6968565583229065\n",
            "Epoch 191 train loss: 0.3905, eval loss 0.6968579292297363\n",
            "Epoch 192 train loss: 0.3714, eval loss 0.6968000531196594\n",
            "Epoch 193 train loss: 0.3670, eval loss 0.6967403292655945\n",
            "Epoch 194 train loss: 0.3817, eval loss 0.696672260761261\n",
            "Epoch 195 train loss: 0.3802, eval loss 0.6967121362686157\n",
            "Epoch 196 train loss: 0.3491, eval loss 0.6966984272003174\n",
            "Epoch 197 train loss: 0.3447, eval loss 0.6965683102607727\n",
            "Epoch 198 train loss: 0.3918, eval loss 0.6965140700340271\n",
            "Epoch 199 train loss: 0.3798, eval loss 0.6964393854141235\n",
            "Epoch 200 train loss: 0.3633, eval loss 0.6963604688644409\n",
            "Epoch 201 train loss: 0.3882, eval loss 0.6962824463844299\n",
            "Epoch 202 train loss: 0.3817, eval loss 0.6962679624557495\n",
            "Epoch 203 train loss: 0.3650, eval loss 0.6962336301803589\n",
            "Epoch 204 train loss: 0.3657, eval loss 0.696198046207428\n",
            "Epoch 205 train loss: 0.4331, eval loss 0.6961129903793335\n",
            "Epoch 206 train loss: 0.3858, eval loss 0.6960196495056152\n",
            "Epoch 207 train loss: 0.3644, eval loss 0.6959591507911682\n",
            "Epoch 208 train loss: 0.3756, eval loss 0.6958936452865601\n",
            "Epoch 209 train loss: 0.3451, eval loss 0.6959214806556702\n",
            "Epoch 210 train loss: 0.3811, eval loss 0.6959311962127686\n",
            "Epoch 211 train loss: 0.3650, eval loss 0.6959114074707031\n",
            "Epoch 212 train loss: 0.3473, eval loss 0.6957977414131165\n",
            "Epoch 213 train loss: 0.3733, eval loss 0.6957738995552063\n",
            "Epoch 214 train loss: 0.3430, eval loss 0.6957315802574158\n",
            "Epoch 215 train loss: 0.3640, eval loss 0.6956552863121033\n",
            "Epoch 216 train loss: 0.3487, eval loss 0.6956666707992554\n",
            "Epoch 217 train loss: 0.4148, eval loss 0.6955485939979553\n",
            "Epoch 218 train loss: 0.3711, eval loss 0.6955565214157104\n",
            "Epoch 219 train loss: 0.3799, eval loss 0.6956018805503845\n",
            "Epoch 220 train loss: 0.3634, eval loss 0.69550621509552\n",
            "Epoch 221 train loss: 0.3632, eval loss 0.6954451203346252\n",
            "Epoch 222 train loss: 0.3922, eval loss 0.6954561471939087\n",
            "Epoch 223 train loss: 0.3798, eval loss 0.6954576969146729\n",
            "Epoch 224 train loss: 0.3545, eval loss 0.6953639984130859\n",
            "Epoch 225 train loss: 0.3696, eval loss 0.6953351497650146\n",
            "Epoch 226 train loss: 0.3491, eval loss 0.6952812671661377\n",
            "Epoch 227 train loss: 0.3670, eval loss 0.6952506899833679\n",
            "Epoch 228 train loss: 0.3904, eval loss 0.6951925158500671\n",
            "Epoch 229 train loss: 0.3664, eval loss 0.6951380968093872\n",
            "Epoch 230 train loss: 0.3762, eval loss 0.6950321197509766\n",
            "Epoch 231 train loss: 0.3500, eval loss 0.6950331926345825\n",
            "Epoch 232 train loss: 0.3844, eval loss 0.6949963569641113\n",
            "Epoch 233 train loss: 0.3843, eval loss 0.6949638724327087\n",
            "Epoch 234 train loss: 0.3677, eval loss 0.6949462294578552\n",
            "Epoch 235 train loss: 0.3619, eval loss 0.6949395537376404\n",
            "Epoch 236 train loss: 0.3878, eval loss 0.6949206590652466\n",
            "Epoch 237 train loss: 0.3846, eval loss 0.6949172616004944\n",
            "Epoch 238 train loss: 0.3622, eval loss 0.6947889924049377\n",
            "Epoch 239 train loss: 0.3970, eval loss 0.6947560906410217\n",
            "Epoch 240 train loss: 0.3829, eval loss 0.6947107911109924\n",
            "Epoch 241 train loss: 0.3516, eval loss 0.6946232914924622\n",
            "Epoch 242 train loss: 0.3449, eval loss 0.6946260333061218\n",
            "Epoch 243 train loss: 0.3693, eval loss 0.6945613026618958\n",
            "Epoch 244 train loss: 0.3629, eval loss 0.6945167183876038\n",
            "Epoch 245 train loss: 0.3871, eval loss 0.6944769620895386\n",
            "Epoch 246 train loss: 0.3495, eval loss 0.6944705843925476\n",
            "Epoch 247 train loss: 0.3720, eval loss 0.6943928599357605\n",
            "Epoch 248 train loss: 0.3514, eval loss 0.6943437457084656\n",
            "Epoch 249 train loss: 0.3840, eval loss 0.6942983269691467\n",
            "Epoch 250 train loss: 0.3538, eval loss 0.6942685842514038\n",
            "Epoch 251 train loss: 0.3666, eval loss 0.6942275762557983\n",
            "Epoch 252 train loss: 0.3946, eval loss 0.6942877769470215\n",
            "Epoch 253 train loss: 0.4064, eval loss 0.6942946910858154\n",
            "Epoch 254 train loss: 0.3585, eval loss 0.6942545771598816\n",
            "Epoch 255 train loss: 0.3677, eval loss 0.6941874027252197\n",
            "Epoch 256 train loss: 0.3774, eval loss 0.6941052079200745\n",
            "Epoch 257 train loss: 0.3715, eval loss 0.6940762996673584\n",
            "Epoch 258 train loss: 0.3597, eval loss 0.6940585970878601\n",
            "Epoch 259 train loss: 0.3811, eval loss 0.6940179467201233\n",
            "Epoch 260 train loss: 0.3632, eval loss 0.693962812423706\n",
            "Epoch 261 train loss: 0.3900, eval loss 0.6939495205879211\n",
            "Epoch 262 train loss: 0.3652, eval loss 0.693928062915802\n",
            "Epoch 263 train loss: 0.3690, eval loss 0.6938691735267639\n",
            "Epoch 264 train loss: 0.3903, eval loss 0.6938439011573792\n",
            "Epoch 265 train loss: 0.3945, eval loss 0.6938000321388245\n",
            "Epoch 266 train loss: 0.3637, eval loss 0.6938362717628479\n",
            "Epoch 267 train loss: 0.3741, eval loss 0.6937851905822754\n",
            "Epoch 268 train loss: 0.3453, eval loss 0.6937156915664673\n",
            "Epoch 269 train loss: 0.3943, eval loss 0.693763017654419\n",
            "Epoch 270 train loss: 0.3677, eval loss 0.693728506565094\n",
            "Epoch 271 train loss: 0.3790, eval loss 0.6936702132225037\n",
            "Epoch 272 train loss: 0.3548, eval loss 0.6938060522079468\n",
            "Epoch 273 train loss: 0.3860, eval loss 0.6937483549118042\n",
            "Epoch 274 train loss: 0.3752, eval loss 0.6937029361724854\n",
            "Early stop\n"
          ]
        }
      ],
      "source": [
        "model = RegularizedMLP(\n",
        "    input_size=X_train.shape[1],\n",
        "    dropout_p=dropout_p\n",
        ")\n",
        "optimizer = torch.optim.SGD(\n",
        "    model.parameters(),\n",
        "    lr=learning_rate,\n",
        "    weight_decay=l2_reg\n",
        ")\n",
        "loss_fn = torch.nn.BCEWithLogitsLoss()\n",
        "\n",
        "train_dataset = MyDataset(X_train, y_train)\n",
        "train_dataloader = DataLoader(train_dataset, batch_size=batch_size)\n",
        "\n",
        "steps_without_improvement = 0\n",
        "\n",
        "best_val_loss = np.inf\n",
        "best_model = None\n",
        "best_threshold = None\n",
        "\n",
        "for epoch_num in range(max_epochs):\n",
        "    model.train()\n",
        "\n",
        "    # note that we are using DataLoader to get batches\n",
        "    for X_batch, y_batch in train_dataloader:\n",
        "        y_pred = model(X_batch)\n",
        "        loss = loss_fn(y_pred, y_batch)\n",
        "\n",
        "        optimizer.zero_grad()\n",
        "        loss.backward()\n",
        "        optimizer.step()\n",
        "\n",
        "    valid_metrics = evaluate_model(model, X_valid, y_valid, loss_fn)\n",
        "    if valid_metrics['loss_value'] < best_val_loss:\n",
        "        best_val_loss = valid_metrics['loss_value']\n",
        "        best_model = deepcopy(model)\n",
        "        best_threshold = valid_metrics[\"threshold\"]\n",
        "\n",
        "        steps_without_improvement = 0\n",
        "    else:\n",
        "        steps_without_improvement += 1\n",
        "\n",
        "    if steps_without_improvement >= early_stopping_patience:\n",
        "        print(\"Early stop\")\n",
        "        break\n",
        "\n",
        "    print(f\"Epoch {epoch_num} train loss: {loss.item():.4f}, eval loss {valid_metrics['loss_value']}\")\n"
      ]
    },
    {
      "cell_type": "code",
      "execution_count": 119,
      "metadata": {
        "colab": {
          "base_uri": "https://localhost:8080/"
        },
        "id": "olsSP9sEAXh0",
        "outputId": "149b469f-a7f0-4e47-b224-dbe3efc21c53"
      },
      "outputs": [
        {
          "output_type": "stream",
          "name": "stdout",
          "text": [
            "AUROC: 90.09%\n",
            "F1: 68.04%\n",
            "Precision: 59.82%\n",
            "Recall: 78.89%\n"
          ]
        }
      ],
      "source": [
        "test_metrics = evaluate_model(best_model, X_test, y_test, loss_fn, best_threshold)\n",
        "\n",
        "print(f\"AUROC: {100 * test_metrics['auroc']:.2f}%\")\n",
        "print(f\"F1: {100 * test_metrics['f1_score']:.2f}%\")\n",
        "print(f\"Precision: {100 * test_metrics['precision_score']:.2f}%\")\n",
        "print(f\"Recall: {100 * test_metrics['recall_score']:.2f}%\")"
      ]
    },
    {
      "cell_type": "markdown",
      "metadata": {
        "id": "BOvh3NwIAXh1"
      },
      "source": [
        "Wyniki wyglądają już dużo lepiej.\n",
        "\n",
        "Na koniec laboratorium dołożymy do naszego modelu jeszcze 3 powszechnie używane techniki, które są bardzo proste, a pozwalają często ulepszyć wynik modelu.\n",
        "\n",
        "Pierwszą z nich są **warstwy normalizacji (normalization layers)**. Powstały one początkowo z założeniem, że przez przekształcenia przestrzeni dokonywane przez sieć zmienia się rozkład prawdopodobieństw pomiędzy warstwami, czyli tzw. *internal covariate shift*. Później okazało się, że zastosowanie takiej normalizacji wygładza powierzchnię funkcji kosztu, co ułatwia i przyspiesza optymalizację. Najpowszechniej używaną normalizacją jest **batch normalization (batch norm)**.\n",
        "\n",
        "Drugim ulepszeniem jest dodanie **wag klas (class weights)**. Mamy do czynienia z problemem klasyfikacji niezbalansowanej, więc klasa mniejszościowa, ważniejsza dla nas, powinna dostać większą wagę. Implementuje się to trywialnie prosto - po prostu mnożymy wartość funkcji kosztu dla danego przykładu przez wagę dla prawdziwej klasy tego przykładu. Praktycznie każdy klasyfikator operujący na jakiejś ważonej funkcji może działać w ten sposób, nie tylko sieci neuronowe.\n",
        "\n",
        "Ostatnim ulepszeniem jest zamiana SGD na optymalizator Adam, a konkretnie na optymalizator `AdamW`. Jest to przykład **optymalizatora adaptacyjnego (adaptive optimizer)**, który potrafi zaadaptować stałą uczącą dla każdego parametru z osobna w trakcie treningu. Wykorzystuje do tego gradienty - w uproszczeniu, im większa wariancja gradientu, tym mniejsze kroki w tym kierunku robimy."
      ]
    },
    {
      "cell_type": "markdown",
      "metadata": {
        "id": "dCdo_J2jAXh1"
      },
      "source": [
        "#### Zadanie 8 (0.5 punktu)\n",
        "\n",
        "Zaimplementuj model `NormalizingMLP`, o takiej samej strukturze jak `RegularizedMLP`, ale dodatkowo z warstwami `BatchNorm1d` pomiędzy warstwami `Linear` oraz `ReLU`.\n",
        "\n",
        "Za pomocą funkcji `compute_class_weight()` oblicz wagi dla poszczególnych klas. Użyj opcji `\"balanced\"`. Przekaż do funkcji kosztu wagę klasy pozytywnej (pamiętaj, aby zamienić ją na tensor).\n",
        "\n",
        "Zamień używany optymalizator na `AdamW`.\n",
        "\n",
        "Na koniec skopiuj resztę kodu do treningu z poprzedniego zadania, wytrenuj sieć i oblicz wyniki na zbiorze testowym."
      ]
    },
    {
      "cell_type": "code",
      "execution_count": 120,
      "metadata": {
        "id": "pTxnen_nAXh1"
      },
      "outputs": [],
      "source": [
        "class NormalizingMLP(nn.Module):\n",
        "    def __init__(self, input_size: int, dropout_p: float = 0.5):\n",
        "        super().__init__()\n",
        "        self.mlp = nn.Sequential(\n",
        "            nn.Linear(input_size, 256),\n",
        "            nn.BatchNorm1d(256),\n",
        "            nn.ReLU(),\n",
        "            nn.Dropout(dropout_p),\n",
        "            nn.Linear(256, 128),\n",
        "            nn.BatchNorm1d(128),\n",
        "            nn.ReLU(),\n",
        "            nn.Dropout(dropout_p),\n",
        "            nn.Linear(128, 1)\n",
        "        )\n",
        "\n",
        "    def forward(self, x):\n",
        "        return self.mlp(x)\n",
        "\n",
        "    def predict_proba(self, x):\n",
        "        return sigmoid(self(x))\n",
        "\n",
        "    def predict(self, x, threshold: float = 0.5):\n",
        "        y_pred_score = self.predict_proba(x)\n",
        "        return (y_pred_score > threshold).to(torch.int32)\n"
      ]
    },
    {
      "cell_type": "code",
      "execution_count": 121,
      "metadata": {
        "id": "-QzTh9GJAXh1"
      },
      "outputs": [],
      "source": [
        "# define all the hyperparameters\n",
        "\n",
        "learning_rate = 1e-3\n",
        "dropout_p = 0.5\n",
        "l2_reg = 1e-4\n",
        "batch_size = 128\n",
        "max_epochs = 300\n",
        "\n",
        "early_stopping_patience = 4"
      ]
    },
    {
      "cell_type": "code",
      "execution_count": 122,
      "metadata": {
        "scrolled": true,
        "colab": {
          "base_uri": "https://localhost:8080/"
        },
        "id": "VDwD1BJVAXh1",
        "outputId": "30355301-b3a6-46bf-bcc2-4e9dafeebbd9"
      },
      "outputs": [
        {
          "output_type": "stream",
          "name": "stdout",
          "text": [
            "Epoch 0 train loss: 0.5859, eval loss 0.8229608535766602\n",
            "Epoch 1 train loss: 0.5797, eval loss 0.8171460032463074\n",
            "Epoch 2 train loss: 0.5626, eval loss 0.8155245184898376\n",
            "Epoch 3 train loss: 0.5400, eval loss 0.8126546144485474\n",
            "Epoch 4 train loss: 0.6083, eval loss 0.8124487996101379\n",
            "Epoch 5 train loss: 0.4926, eval loss 0.8119667172431946\n",
            "Epoch 6 train loss: 0.5545, eval loss 0.8117738366127014\n",
            "Epoch 7 train loss: 0.5802, eval loss 0.811225414276123\n",
            "Epoch 8 train loss: 0.5430, eval loss 0.8108720779418945\n",
            "Epoch 9 train loss: 0.5326, eval loss 0.8102055191993713\n",
            "Epoch 10 train loss: 0.5529, eval loss 0.8098663091659546\n",
            "Epoch 11 train loss: 0.5063, eval loss 0.8110449314117432\n",
            "Epoch 12 train loss: 0.5465, eval loss 0.810051679611206\n",
            "Epoch 13 train loss: 0.4952, eval loss 0.8097227811813354\n",
            "Epoch 14 train loss: 0.4371, eval loss 0.8099931478500366\n",
            "Epoch 15 train loss: 0.4798, eval loss 0.8102589845657349\n",
            "Epoch 16 train loss: 0.4877, eval loss 0.8096358180046082\n",
            "Epoch 17 train loss: 0.5057, eval loss 0.8086177706718445\n",
            "Epoch 18 train loss: 0.4563, eval loss 0.8086037039756775\n",
            "Epoch 19 train loss: 0.4750, eval loss 0.8089978694915771\n",
            "Epoch 20 train loss: 0.4184, eval loss 0.8077930808067322\n",
            "Epoch 21 train loss: 0.4970, eval loss 0.808509111404419\n",
            "Epoch 22 train loss: 0.4707, eval loss 0.807601809501648\n",
            "Epoch 23 train loss: 0.4826, eval loss 0.8083280324935913\n",
            "Epoch 24 train loss: 0.5420, eval loss 0.8076785802841187\n",
            "Epoch 25 train loss: 0.4520, eval loss 0.807485818862915\n",
            "Epoch 26 train loss: 0.5509, eval loss 0.8081814646720886\n",
            "Epoch 27 train loss: 0.4423, eval loss 0.8084218502044678\n",
            "Epoch 28 train loss: 0.5229, eval loss 0.8068282604217529\n",
            "Epoch 29 train loss: 0.4580, eval loss 0.8076374530792236\n",
            "Epoch 30 train loss: 0.4709, eval loss 0.8077195286750793\n",
            "Epoch 31 train loss: 0.4102, eval loss 0.8082224130630493\n",
            "Epoch 32 train loss: 0.4905, eval loss 0.808488667011261\n",
            "Epoch 33 train loss: 0.4583, eval loss 0.8082810044288635\n",
            "Epoch 34 train loss: 0.4600, eval loss 0.80815589427948\n",
            "Epoch 35 train loss: 0.4592, eval loss 0.807106614112854\n",
            "Epoch 36 train loss: 0.4633, eval loss 0.8077520728111267\n",
            "Epoch 37 train loss: 0.4189, eval loss 0.8079639673233032\n",
            "Epoch 38 train loss: 0.4489, eval loss 0.8065618872642517\n",
            "Epoch 39 train loss: 0.4491, eval loss 0.8063085079193115\n",
            "Epoch 40 train loss: 0.4168, eval loss 0.8074727654457092\n",
            "Epoch 41 train loss: 0.4918, eval loss 0.8076818585395813\n",
            "Epoch 42 train loss: 0.4440, eval loss 0.8067103624343872\n",
            "Epoch 43 train loss: 0.4084, eval loss 0.8064136505126953\n",
            "Epoch 44 train loss: 0.4362, eval loss 0.8074046969413757\n",
            "Epoch 45 train loss: 0.3885, eval loss 0.807503342628479\n",
            "Epoch 46 train loss: 0.5034, eval loss 0.8069965839385986\n",
            "Epoch 47 train loss: 0.4379, eval loss 0.8066766858100891\n",
            "Epoch 48 train loss: 0.4688, eval loss 0.8070858716964722\n",
            "Epoch 49 train loss: 0.4336, eval loss 0.8081914186477661\n",
            "Epoch 50 train loss: 0.3862, eval loss 0.8072839379310608\n",
            "Epoch 51 train loss: 0.4094, eval loss 0.8077033162117004\n",
            "Epoch 52 train loss: 0.3546, eval loss 0.8066547513008118\n",
            "Epoch 53 train loss: 0.4633, eval loss 0.8077264428138733\n",
            "Epoch 54 train loss: 0.3928, eval loss 0.8065206408500671\n",
            "Epoch 55 train loss: 0.3924, eval loss 0.8066900968551636\n",
            "Epoch 56 train loss: 0.4403, eval loss 0.8063311576843262\n",
            "Epoch 57 train loss: 0.3538, eval loss 0.806817352771759\n",
            "Epoch 58 train loss: 0.4822, eval loss 0.8065027594566345\n",
            "Epoch 59 train loss: 0.3503, eval loss 0.8074519634246826\n",
            "Epoch 60 train loss: 0.4618, eval loss 0.8071157932281494\n",
            "Epoch 61 train loss: 0.4662, eval loss 0.8069273233413696\n",
            "Epoch 62 train loss: 0.4535, eval loss 0.8076725006103516\n",
            "Epoch 63 train loss: 0.4134, eval loss 0.807103157043457\n",
            "Epoch 64 train loss: 0.3820, eval loss 0.8081098794937134\n",
            "Epoch 65 train loss: 0.4293, eval loss 0.8075940608978271\n",
            "Epoch 66 train loss: 0.4294, eval loss 0.8073075413703918\n",
            "Epoch 67 train loss: 0.3945, eval loss 0.8063138127326965\n",
            "Epoch 68 train loss: 0.4405, eval loss 0.8071871995925903\n",
            "Epoch 69 train loss: 0.4339, eval loss 0.8077961802482605\n",
            "Epoch 70 train loss: 0.4139, eval loss 0.8067076206207275\n",
            "Epoch 71 train loss: 0.3825, eval loss 0.8072138428688049\n",
            "Epoch 72 train loss: 0.4984, eval loss 0.8072841763496399\n",
            "Epoch 73 train loss: 0.4791, eval loss 0.8062026500701904\n",
            "Epoch 74 train loss: 0.3577, eval loss 0.8073643445968628\n",
            "Epoch 75 train loss: 0.4227, eval loss 0.8065305948257446\n",
            "Epoch 76 train loss: 0.4650, eval loss 0.8066563606262207\n",
            "Epoch 77 train loss: 0.3821, eval loss 0.8071046471595764\n",
            "Epoch 78 train loss: 0.4868, eval loss 0.8065060377120972\n",
            "Epoch 79 train loss: 0.4079, eval loss 0.8069543838500977\n",
            "Epoch 80 train loss: 0.3531, eval loss 0.8072143793106079\n",
            "Epoch 81 train loss: 0.3970, eval loss 0.807171106338501\n",
            "Epoch 82 train loss: 0.4853, eval loss 0.8077706098556519\n",
            "Epoch 83 train loss: 0.3545, eval loss 0.8056361079216003\n",
            "Epoch 84 train loss: 0.4126, eval loss 0.8079168796539307\n",
            "Epoch 85 train loss: 0.3406, eval loss 0.8077303767204285\n",
            "Epoch 86 train loss: 0.3444, eval loss 0.8085793852806091\n",
            "Epoch 87 train loss: 0.3774, eval loss 0.8078263998031616\n",
            "Epoch 88 train loss: 0.4747, eval loss 0.8064636588096619\n",
            "Epoch 89 train loss: 0.4128, eval loss 0.8070381879806519\n",
            "Epoch 90 train loss: 0.3550, eval loss 0.8065013289451599\n",
            "Epoch 91 train loss: 0.4200, eval loss 0.8068860769271851\n",
            "Epoch 92 train loss: 0.4202, eval loss 0.8070874810218811\n",
            "Epoch 93 train loss: 0.3771, eval loss 0.8064950704574585\n",
            "Epoch 94 train loss: 0.3714, eval loss 0.8072179555892944\n",
            "Epoch 95 train loss: 0.4490, eval loss 0.8071103692054749\n",
            "Epoch 96 train loss: 0.3901, eval loss 0.8076524138450623\n",
            "Epoch 97 train loss: 0.3683, eval loss 0.8073378801345825\n",
            "Epoch 98 train loss: 0.3269, eval loss 0.807815432548523\n",
            "Epoch 99 train loss: 0.4181, eval loss 0.8083450198173523\n",
            "Epoch 100 train loss: 0.3549, eval loss 0.807522177696228\n",
            "Epoch 101 train loss: 0.4182, eval loss 0.8076685667037964\n",
            "Epoch 102 train loss: 0.3337, eval loss 0.8063108325004578\n",
            "Epoch 103 train loss: 0.4424, eval loss 0.807944655418396\n",
            "Epoch 104 train loss: 0.3905, eval loss 0.8071298599243164\n",
            "Epoch 105 train loss: 0.3265, eval loss 0.8085837364196777\n",
            "Epoch 106 train loss: 0.4183, eval loss 0.8067905902862549\n",
            "Epoch 107 train loss: 0.3402, eval loss 0.8066537380218506\n",
            "Epoch 108 train loss: 0.3529, eval loss 0.807442307472229\n",
            "Epoch 109 train loss: 0.3272, eval loss 0.808156430721283\n",
            "Epoch 110 train loss: 0.3482, eval loss 0.807843804359436\n",
            "Epoch 111 train loss: 0.4228, eval loss 0.8066613078117371\n",
            "Epoch 112 train loss: 0.3701, eval loss 0.8075782656669617\n",
            "Epoch 113 train loss: 0.3308, eval loss 0.8084044456481934\n",
            "Epoch 114 train loss: 0.3806, eval loss 0.8066509366035461\n",
            "Epoch 115 train loss: 0.3571, eval loss 0.8062111139297485\n",
            "Epoch 116 train loss: 0.3170, eval loss 0.8071192502975464\n",
            "Epoch 117 train loss: 0.2872, eval loss 0.8056891560554504\n",
            "Epoch 118 train loss: 0.3798, eval loss 0.805378794670105\n",
            "Epoch 119 train loss: 0.3411, eval loss 0.8062599301338196\n",
            "Epoch 120 train loss: 0.3776, eval loss 0.8078619837760925\n",
            "Epoch 121 train loss: 0.3454, eval loss 0.8071518540382385\n",
            "Epoch 122 train loss: 0.3142, eval loss 0.8069566488265991\n",
            "Epoch 123 train loss: 0.3369, eval loss 0.8065869212150574\n",
            "Epoch 124 train loss: 0.3690, eval loss 0.8078168034553528\n",
            "Epoch 125 train loss: 0.3327, eval loss 0.8069793581962585\n",
            "Epoch 126 train loss: 0.3634, eval loss 0.8061649203300476\n",
            "Epoch 127 train loss: 0.3257, eval loss 0.8058726787567139\n",
            "Epoch 128 train loss: 0.3632, eval loss 0.8069139122962952\n",
            "Epoch 129 train loss: 0.3373, eval loss 0.8081639409065247\n",
            "Epoch 130 train loss: 0.3409, eval loss 0.8071367144584656\n",
            "Epoch 131 train loss: 0.3372, eval loss 0.806952714920044\n",
            "Epoch 132 train loss: 0.3376, eval loss 0.8076451420783997\n",
            "Epoch 133 train loss: 0.3384, eval loss 0.806870698928833\n",
            "Epoch 134 train loss: 0.3559, eval loss 0.8072530031204224\n",
            "Epoch 135 train loss: 0.3379, eval loss 0.8072013258934021\n",
            "Epoch 136 train loss: 0.2969, eval loss 0.8077046275138855\n",
            "Epoch 137 train loss: 0.3512, eval loss 0.8076398968696594\n",
            "Epoch 138 train loss: 0.3343, eval loss 0.8075131773948669\n",
            "Epoch 139 train loss: 0.3227, eval loss 0.8063786625862122\n",
            "Epoch 140 train loss: 0.4499, eval loss 0.8080896139144897\n",
            "Epoch 141 train loss: 0.3527, eval loss 0.8067588210105896\n",
            "Epoch 142 train loss: 0.3719, eval loss 0.8064844012260437\n",
            "Epoch 143 train loss: 0.4248, eval loss 0.8072565793991089\n",
            "Epoch 144 train loss: 0.3483, eval loss 0.8069907426834106\n",
            "Epoch 145 train loss: 0.4104, eval loss 0.8076476454734802\n",
            "Epoch 146 train loss: 0.3425, eval loss 0.8080747127532959\n",
            "Epoch 147 train loss: 0.3292, eval loss 0.8066354990005493\n",
            "Epoch 148 train loss: 0.2954, eval loss 0.8055180311203003\n",
            "Epoch 149 train loss: 0.3411, eval loss 0.8072426915168762\n",
            "Epoch 150 train loss: 0.3295, eval loss 0.8089549541473389\n",
            "Epoch 151 train loss: 0.2888, eval loss 0.8070134520530701\n",
            "Epoch 152 train loss: 0.3691, eval loss 0.808484673500061\n",
            "Epoch 153 train loss: 0.3734, eval loss 0.8071595430374146\n",
            "Epoch 154 train loss: 0.3316, eval loss 0.8083085417747498\n",
            "Epoch 155 train loss: 0.3206, eval loss 0.8081695437431335\n",
            "Epoch 156 train loss: 0.3284, eval loss 0.807616651058197\n",
            "Epoch 157 train loss: 0.4203, eval loss 0.8081440925598145\n",
            "Epoch 158 train loss: 0.3172, eval loss 0.8057586550712585\n",
            "Epoch 159 train loss: 0.3196, eval loss 0.8082945942878723\n",
            "Epoch 160 train loss: 0.3609, eval loss 0.8088940978050232\n",
            "Epoch 161 train loss: 0.3108, eval loss 0.806374728679657\n",
            "Epoch 162 train loss: 0.2856, eval loss 0.8082402348518372\n",
            "Epoch 163 train loss: 0.3043, eval loss 0.8061495423316956\n",
            "Epoch 164 train loss: 0.4305, eval loss 0.8068583607673645\n",
            "Epoch 165 train loss: 0.3724, eval loss 0.807719349861145\n",
            "Epoch 166 train loss: 0.2883, eval loss 0.807468056678772\n",
            "Epoch 167 train loss: 0.3248, eval loss 0.8078429698944092\n",
            "Epoch 168 train loss: 0.3160, eval loss 0.8077195286750793\n",
            "Epoch 169 train loss: 0.3652, eval loss 0.8086116313934326\n",
            "Epoch 170 train loss: 0.2946, eval loss 0.8090514540672302\n",
            "Epoch 171 train loss: 0.2979, eval loss 0.808102548122406\n",
            "Epoch 172 train loss: 0.4381, eval loss 0.8069583177566528\n",
            "Epoch 173 train loss: 0.2895, eval loss 0.8062548637390137\n",
            "Epoch 174 train loss: 0.4166, eval loss 0.8068585395812988\n",
            "Epoch 175 train loss: 0.2953, eval loss 0.8071313500404358\n",
            "Epoch 176 train loss: 0.4142, eval loss 0.8062851428985596\n",
            "Epoch 177 train loss: 0.3163, eval loss 0.8077671527862549\n",
            "Epoch 178 train loss: 0.3161, eval loss 0.8068045377731323\n",
            "Epoch 179 train loss: 0.3659, eval loss 0.8082767724990845\n",
            "Epoch 180 train loss: 0.2906, eval loss 0.8081187009811401\n",
            "Epoch 181 train loss: 0.2660, eval loss 0.807147741317749\n",
            "Epoch 182 train loss: 0.3499, eval loss 0.8070871829986572\n",
            "Epoch 183 train loss: 0.3482, eval loss 0.8055792450904846\n",
            "Epoch 184 train loss: 0.3356, eval loss 0.8087982535362244\n",
            "Epoch 185 train loss: 0.3124, eval loss 0.8089258074760437\n",
            "Epoch 186 train loss: 0.3028, eval loss 0.8060086965560913\n",
            "Epoch 187 train loss: 0.3287, eval loss 0.8073845505714417\n",
            "Epoch 188 train loss: 0.2876, eval loss 0.8074287176132202\n",
            "Epoch 189 train loss: 0.3370, eval loss 0.8075376152992249\n",
            "Epoch 190 train loss: 0.2996, eval loss 0.8087286949157715\n",
            "Epoch 191 train loss: 0.4100, eval loss 0.8083070516586304\n",
            "Epoch 192 train loss: 0.3516, eval loss 0.8086718916893005\n",
            "Epoch 193 train loss: 0.3440, eval loss 0.8070698380470276\n",
            "Epoch 194 train loss: 0.2769, eval loss 0.8070162534713745\n",
            "Epoch 195 train loss: 0.3318, eval loss 0.8065171837806702\n",
            "Epoch 196 train loss: 0.3518, eval loss 0.807966411113739\n",
            "Epoch 197 train loss: 0.2938, eval loss 0.8072479367256165\n",
            "Epoch 198 train loss: 0.3584, eval loss 0.807543158531189\n",
            "Epoch 199 train loss: 0.3069, eval loss 0.8086035251617432\n",
            "Epoch 200 train loss: 0.3117, eval loss 0.8085813522338867\n",
            "Epoch 201 train loss: 0.3316, eval loss 0.8068775534629822\n",
            "Epoch 202 train loss: 0.3568, eval loss 0.8076633810997009\n",
            "Epoch 203 train loss: 0.3199, eval loss 0.8082695007324219\n",
            "Epoch 204 train loss: 0.3871, eval loss 0.8078870177268982\n",
            "Epoch 205 train loss: 0.2946, eval loss 0.8084819316864014\n",
            "Epoch 206 train loss: 0.3347, eval loss 0.8070616126060486\n",
            "Epoch 207 train loss: 0.3420, eval loss 0.807232677936554\n",
            "Epoch 208 train loss: 0.3198, eval loss 0.8070245981216431\n",
            "Epoch 209 train loss: 0.4229, eval loss 0.8092254400253296\n",
            "Epoch 210 train loss: 0.3456, eval loss 0.8063229918479919\n",
            "Epoch 211 train loss: 0.3038, eval loss 0.8085247874259949\n",
            "Epoch 212 train loss: 0.3877, eval loss 0.808665931224823\n",
            "Epoch 213 train loss: 0.3425, eval loss 0.8071612119674683\n",
            "Epoch 214 train loss: 0.4218, eval loss 0.8082683682441711\n",
            "Epoch 215 train loss: 0.3299, eval loss 0.8065367937088013\n",
            "Epoch 216 train loss: 0.3423, eval loss 0.8070845603942871\n",
            "Epoch 217 train loss: 0.2759, eval loss 0.8077067732810974\n",
            "Epoch 218 train loss: 0.2904, eval loss 0.8086264729499817\n",
            "Epoch 219 train loss: 0.3063, eval loss 0.8073163628578186\n",
            "Epoch 220 train loss: 0.3228, eval loss 0.8079620599746704\n",
            "Epoch 221 train loss: 0.3591, eval loss 0.8072701692581177\n",
            "Epoch 222 train loss: 0.3227, eval loss 0.8085219860076904\n",
            "Epoch 223 train loss: 0.3148, eval loss 0.8063393831253052\n",
            "Epoch 224 train loss: 0.2939, eval loss 0.8074378371238708\n",
            "Epoch 225 train loss: 0.2798, eval loss 0.8061809539794922\n",
            "Epoch 226 train loss: 0.3056, eval loss 0.8084771633148193\n",
            "Epoch 227 train loss: 0.3077, eval loss 0.8068433403968811\n",
            "Epoch 228 train loss: 0.2786, eval loss 0.807172954082489\n",
            "Epoch 229 train loss: 0.3068, eval loss 0.8073974251747131\n",
            "Epoch 230 train loss: 0.3213, eval loss 0.8095532655715942\n",
            "Epoch 231 train loss: 0.3327, eval loss 0.8065403699874878\n",
            "Epoch 232 train loss: 0.3098, eval loss 0.8076574802398682\n",
            "Epoch 233 train loss: 0.3410, eval loss 0.8065721988677979\n",
            "Epoch 234 train loss: 0.3530, eval loss 0.8073021173477173\n",
            "Epoch 235 train loss: 0.3347, eval loss 0.8065186142921448\n",
            "Epoch 236 train loss: 0.3355, eval loss 0.8072921633720398\n",
            "Epoch 237 train loss: 0.3403, eval loss 0.8081105351448059\n",
            "Epoch 238 train loss: 0.3119, eval loss 0.8067165613174438\n",
            "Epoch 239 train loss: 0.2845, eval loss 0.8079271912574768\n",
            "Epoch 240 train loss: 0.2677, eval loss 0.8074728846549988\n",
            "Epoch 241 train loss: 0.2843, eval loss 0.8070718050003052\n",
            "Epoch 242 train loss: 0.3453, eval loss 0.8064823150634766\n",
            "Epoch 243 train loss: 0.3021, eval loss 0.8070540428161621\n",
            "Epoch 244 train loss: 0.2728, eval loss 0.8064814805984497\n",
            "Epoch 245 train loss: 0.2816, eval loss 0.8076220750808716\n",
            "Epoch 246 train loss: 0.3139, eval loss 0.8069943189620972\n",
            "Epoch 247 train loss: 0.3531, eval loss 0.8087480068206787\n",
            "Epoch 248 train loss: 0.2980, eval loss 0.8062119483947754\n",
            "Epoch 249 train loss: 0.3189, eval loss 0.807375967502594\n",
            "Epoch 250 train loss: 0.3024, eval loss 0.8072444796562195\n",
            "Epoch 251 train loss: 0.2888, eval loss 0.8062416315078735\n",
            "Epoch 252 train loss: 0.3688, eval loss 0.8067713379859924\n",
            "Epoch 253 train loss: 0.3033, eval loss 0.8086767792701721\n",
            "Epoch 254 train loss: 0.4872, eval loss 0.8073838949203491\n",
            "Epoch 255 train loss: 0.3160, eval loss 0.8097440600395203\n",
            "Epoch 256 train loss: 0.2726, eval loss 0.8075574040412903\n",
            "Epoch 257 train loss: 0.2715, eval loss 0.8084575533866882\n",
            "Epoch 258 train loss: 0.2991, eval loss 0.8077996373176575\n",
            "Epoch 259 train loss: 0.3001, eval loss 0.8068757653236389\n",
            "Epoch 260 train loss: 0.3090, eval loss 0.8061581254005432\n",
            "Epoch 261 train loss: 0.2645, eval loss 0.8075498938560486\n",
            "Epoch 262 train loss: 0.3229, eval loss 0.808236300945282\n",
            "Epoch 263 train loss: 0.2749, eval loss 0.8076355457305908\n",
            "Epoch 264 train loss: 0.2694, eval loss 0.8081937432289124\n",
            "Epoch 265 train loss: 0.3653, eval loss 0.806530773639679\n",
            "Epoch 266 train loss: 0.3142, eval loss 0.807615339756012\n",
            "Epoch 267 train loss: 0.3458, eval loss 0.8072117567062378\n",
            "Epoch 268 train loss: 0.3352, eval loss 0.8073351979255676\n",
            "Epoch 269 train loss: 0.3403, eval loss 0.8078976273536682\n",
            "Epoch 270 train loss: 0.2840, eval loss 0.808704137802124\n",
            "Epoch 271 train loss: 0.2844, eval loss 0.8099443316459656\n",
            "Epoch 272 train loss: 0.4268, eval loss 0.8065556883811951\n",
            "Epoch 273 train loss: 0.3589, eval loss 0.8075900077819824\n",
            "Epoch 274 train loss: 0.2491, eval loss 0.8085603713989258\n",
            "Epoch 275 train loss: 0.2842, eval loss 0.8087897896766663\n",
            "Epoch 276 train loss: 0.2915, eval loss 0.8074195384979248\n",
            "Epoch 277 train loss: 0.3300, eval loss 0.8089256882667542\n",
            "Epoch 278 train loss: 0.2853, eval loss 0.8075816631317139\n",
            "Epoch 279 train loss: 0.3342, eval loss 0.807114839553833\n",
            "Epoch 280 train loss: 0.3652, eval loss 0.8070336580276489\n",
            "Epoch 281 train loss: 0.3409, eval loss 0.8087389469146729\n",
            "Epoch 282 train loss: 0.2390, eval loss 0.8065927624702454\n",
            "Epoch 283 train loss: 0.3123, eval loss 0.807654857635498\n",
            "Epoch 284 train loss: 0.2988, eval loss 0.8090731501579285\n",
            "Epoch 285 train loss: 0.3211, eval loss 0.8083306550979614\n",
            "Epoch 286 train loss: 0.2505, eval loss 0.8070987462997437\n",
            "Epoch 287 train loss: 0.3021, eval loss 0.8083447217941284\n",
            "Epoch 288 train loss: 0.2543, eval loss 0.806005597114563\n",
            "Epoch 289 train loss: 0.2935, eval loss 0.8084588050842285\n",
            "Epoch 290 train loss: 0.3925, eval loss 0.808349072933197\n",
            "Epoch 291 train loss: 0.4094, eval loss 0.807420015335083\n",
            "Epoch 292 train loss: 0.2593, eval loss 0.8080489635467529\n",
            "Epoch 293 train loss: 0.2876, eval loss 0.8067875504493713\n",
            "Epoch 294 train loss: 0.3102, eval loss 0.806855320930481\n",
            "Epoch 295 train loss: 0.3045, eval loss 0.8080558180809021\n",
            "Epoch 296 train loss: 0.3069, eval loss 0.8073322772979736\n",
            "Epoch 297 train loss: 0.2628, eval loss 0.808950662612915\n",
            "Epoch 298 train loss: 0.3100, eval loss 0.8066030144691467\n",
            "Epoch 299 train loss: 0.3040, eval loss 0.8069864511489868\n"
          ]
        }
      ],
      "source": [
        "# training loop\n",
        "\n",
        "from sklearn.utils.class_weight import compute_class_weight\n",
        "\n",
        "model = NormalizingMLP(\n",
        "    input_size=X_train.shape[1],\n",
        "    dropout_p=dropout_p\n",
        ")\n",
        "optimizer = torch.optim.AdamW(\n",
        "    model.parameters(),\n",
        "    lr=learning_rate,\n",
        "    weight_decay=l2_reg\n",
        ")\n",
        "\n",
        "weights = compute_class_weight(\"balanced\",\n",
        "                               classes=np.unique(y_train),\n",
        "                               y=np.concatenate(y_train.numpy()))\n",
        "\n",
        "loss_fn = torch.nn.BCEWithLogitsLoss(pos_weight=torch.tensor(weights[1]))\n",
        "\n",
        "train_dataset = MyDataset(X_train, y_train)\n",
        "train_dataloader = DataLoader(train_dataset, batch_size=batch_size)\n",
        "\n",
        "steps_without_improvement = 0\n",
        "\n",
        "best_val_loss = np.inf\n",
        "best_model = None\n",
        "best_threshold = None\n",
        "\n",
        "for epoch_num in range(max_epochs):\n",
        "    model.train()\n",
        "\n",
        "    # note that we are using DataLoader to get batches\n",
        "    for X_batch, y_batch in train_dataloader:\n",
        "        y_pred = model(X_batch)\n",
        "\n",
        "        loss = loss_fn(y_pred, y_batch)\n",
        "        loss.backward()\n",
        "\n",
        "        optimizer.step()\n",
        "        optimizer.zero_grad()\n",
        "\n",
        "    eval_model = evaluate_model(model, X_valid, y_valid, loss_fn)\n",
        "\n",
        "    if eval_model[\"loss_value\"] < best_val_loss:\n",
        "        best_model                = deepcopy(model)\n",
        "        best_loss                 = eval_model[\"loss_value\"]\n",
        "        best_threshold            = eval_model[\"threshold\"]\n",
        "        steps_without_improvement = 0\n",
        "    else:\n",
        "        steps_without_improvement += 1\n",
        "        if steps_without_improvement >= early_stopping_patience:\n",
        "            print(\"Early stop\")\n",
        "            break\n",
        "\n",
        "    print(f\"Epoch {epoch_num} train loss: {loss.item():.4f}, eval loss {eval_model['loss_value']}\")"
      ]
    },
    {
      "cell_type": "code",
      "execution_count": 123,
      "metadata": {
        "scrolled": true,
        "colab": {
          "base_uri": "https://localhost:8080/"
        },
        "id": "iaLgcyFGAXh1",
        "outputId": "273b74ab-d9f2-489f-c44a-9ca0a9847344"
      },
      "outputs": [
        {
          "output_type": "stream",
          "name": "stdout",
          "text": [
            "AUROC: 89.28%\n",
            "F1: 67.21%\n",
            "Precision: 59.79%\n",
            "Recall: 76.72%\n"
          ]
        }
      ],
      "source": [
        "test_metrics = evaluate_model(best_model, X_test, y_test, loss_fn, best_threshold)\n",
        "\n",
        "print(f\"AUROC: {100 * test_metrics['auroc']:.2f}%\")\n",
        "print(f\"F1: {100 * test_metrics['f1_score']:.2f}%\")\n",
        "print(f\"Precision: {100 * test_metrics['precision_score']:.2f}%\")\n",
        "print(f\"Recall: {100 * test_metrics['recall_score']:.2f}%\")"
      ]
    },
    {
      "cell_type": "markdown",
      "metadata": {
        "id": "XyoRnHT4GFR9"
      },
      "source": [
        "## Akceleracja sprzętowa (dla zainteresowanych)"
      ]
    },
    {
      "cell_type": "markdown",
      "metadata": {
        "id": "WchFzyJFAXh2"
      },
      "source": [
        "Jak wcześniej wspominaliśmy, użycie akceleracji sprzętowej, czyli po prostu GPU do obliczeń, jest bardzo efektywne w przypadku sieci neuronowych. Karty graficzne bardzo efektywnie mnożą macierze, a sieci neuronowe to, jak można było się przekonać, dużo mnożenia macierzy.\n",
        "\n",
        "W PyTorchu jest to dosyć łatwe, ale trzeba robić to explicite. Służy do tego metoda `.to()`, która przenosi tensory między CPU i GPU. Poniżej przykład, jak to się robi (oczywiście trzeba mieć skonfigurowane GPU, żeby działało):"
      ]
    },
    {
      "cell_type": "code",
      "execution_count": 124,
      "metadata": {
        "colab": {
          "base_uri": "https://localhost:8080/",
          "height": 390
        },
        "id": "od4TFVzXAXh2",
        "outputId": "03996293-0732-4ea2-b22f-860aadbc07d0"
      },
      "outputs": [
        {
          "output_type": "error",
          "ename": "RuntimeError",
          "evalue": "ignored",
          "traceback": [
            "\u001b[0;31m---------------------------------------------------------------------------\u001b[0m",
            "\u001b[0;31mRuntimeError\u001b[0m                              Traceback (most recent call last)",
            "\u001b[0;32m<ipython-input-124-680df1d227d0>\u001b[0m in \u001b[0;36m<cell line: 39>\u001b[0;34m()\u001b[0m\n\u001b[1;32m     37\u001b[0m \u001b[0;34m\u001b[0m\u001b[0m\n\u001b[1;32m     38\u001b[0m \u001b[0;34m\u001b[0m\u001b[0m\n\u001b[0;32m---> 39\u001b[0;31m \u001b[0mmodel\u001b[0m \u001b[0;34m=\u001b[0m \u001b[0mCudaMLP\u001b[0m\u001b[0;34m(\u001b[0m\u001b[0mX_train\u001b[0m\u001b[0;34m.\u001b[0m\u001b[0mshape\u001b[0m\u001b[0;34m[\u001b[0m\u001b[0;36m1\u001b[0m\u001b[0;34m]\u001b[0m\u001b[0;34m)\u001b[0m\u001b[0;34m.\u001b[0m\u001b[0mto\u001b[0m\u001b[0;34m(\u001b[0m\u001b[0;34m'cuda'\u001b[0m\u001b[0;34m)\u001b[0m\u001b[0;34m\u001b[0m\u001b[0;34m\u001b[0m\u001b[0m\n\u001b[0m\u001b[1;32m     40\u001b[0m \u001b[0;34m\u001b[0m\u001b[0m\n\u001b[1;32m     41\u001b[0m \u001b[0moptimizer\u001b[0m \u001b[0;34m=\u001b[0m \u001b[0mtorch\u001b[0m\u001b[0;34m.\u001b[0m\u001b[0moptim\u001b[0m\u001b[0;34m.\u001b[0m\u001b[0mAdamW\u001b[0m\u001b[0;34m(\u001b[0m\u001b[0mmodel\u001b[0m\u001b[0;34m.\u001b[0m\u001b[0mparameters\u001b[0m\u001b[0;34m(\u001b[0m\u001b[0;34m)\u001b[0m\u001b[0;34m,\u001b[0m \u001b[0mlr\u001b[0m\u001b[0;34m=\u001b[0m\u001b[0mlearning_rate\u001b[0m\u001b[0;34m,\u001b[0m \u001b[0mweight_decay\u001b[0m\u001b[0;34m=\u001b[0m\u001b[0;36m1e-4\u001b[0m\u001b[0;34m)\u001b[0m\u001b[0;34m\u001b[0m\u001b[0;34m\u001b[0m\u001b[0m\n",
            "\u001b[0;32m/usr/local/lib/python3.10/dist-packages/torch/nn/modules/module.py\u001b[0m in \u001b[0;36mto\u001b[0;34m(self, *args, **kwargs)\u001b[0m\n\u001b[1;32m   1158\u001b[0m             \u001b[0;32mreturn\u001b[0m \u001b[0mt\u001b[0m\u001b[0;34m.\u001b[0m\u001b[0mto\u001b[0m\u001b[0;34m(\u001b[0m\u001b[0mdevice\u001b[0m\u001b[0;34m,\u001b[0m \u001b[0mdtype\u001b[0m \u001b[0;32mif\u001b[0m \u001b[0mt\u001b[0m\u001b[0;34m.\u001b[0m\u001b[0mis_floating_point\u001b[0m\u001b[0;34m(\u001b[0m\u001b[0;34m)\u001b[0m \u001b[0;32mor\u001b[0m \u001b[0mt\u001b[0m\u001b[0;34m.\u001b[0m\u001b[0mis_complex\u001b[0m\u001b[0;34m(\u001b[0m\u001b[0;34m)\u001b[0m \u001b[0;32melse\u001b[0m \u001b[0;32mNone\u001b[0m\u001b[0;34m,\u001b[0m \u001b[0mnon_blocking\u001b[0m\u001b[0;34m)\u001b[0m\u001b[0;34m\u001b[0m\u001b[0;34m\u001b[0m\u001b[0m\n\u001b[1;32m   1159\u001b[0m \u001b[0;34m\u001b[0m\u001b[0m\n\u001b[0;32m-> 1160\u001b[0;31m         \u001b[0;32mreturn\u001b[0m \u001b[0mself\u001b[0m\u001b[0;34m.\u001b[0m\u001b[0m_apply\u001b[0m\u001b[0;34m(\u001b[0m\u001b[0mconvert\u001b[0m\u001b[0;34m)\u001b[0m\u001b[0;34m\u001b[0m\u001b[0;34m\u001b[0m\u001b[0m\n\u001b[0m\u001b[1;32m   1161\u001b[0m \u001b[0;34m\u001b[0m\u001b[0m\n\u001b[1;32m   1162\u001b[0m     def register_full_backward_pre_hook(\n",
            "\u001b[0;32m/usr/local/lib/python3.10/dist-packages/torch/nn/modules/module.py\u001b[0m in \u001b[0;36m_apply\u001b[0;34m(self, fn, recurse)\u001b[0m\n\u001b[1;32m    808\u001b[0m         \u001b[0;32mif\u001b[0m \u001b[0mrecurse\u001b[0m\u001b[0;34m:\u001b[0m\u001b[0;34m\u001b[0m\u001b[0;34m\u001b[0m\u001b[0m\n\u001b[1;32m    809\u001b[0m             \u001b[0;32mfor\u001b[0m \u001b[0mmodule\u001b[0m \u001b[0;32min\u001b[0m \u001b[0mself\u001b[0m\u001b[0;34m.\u001b[0m\u001b[0mchildren\u001b[0m\u001b[0;34m(\u001b[0m\u001b[0;34m)\u001b[0m\u001b[0;34m:\u001b[0m\u001b[0;34m\u001b[0m\u001b[0;34m\u001b[0m\u001b[0m\n\u001b[0;32m--> 810\u001b[0;31m                 \u001b[0mmodule\u001b[0m\u001b[0;34m.\u001b[0m\u001b[0m_apply\u001b[0m\u001b[0;34m(\u001b[0m\u001b[0mfn\u001b[0m\u001b[0;34m)\u001b[0m\u001b[0;34m\u001b[0m\u001b[0;34m\u001b[0m\u001b[0m\n\u001b[0m\u001b[1;32m    811\u001b[0m \u001b[0;34m\u001b[0m\u001b[0m\n\u001b[1;32m    812\u001b[0m         \u001b[0;32mdef\u001b[0m \u001b[0mcompute_should_use_set_data\u001b[0m\u001b[0;34m(\u001b[0m\u001b[0mtensor\u001b[0m\u001b[0;34m,\u001b[0m \u001b[0mtensor_applied\u001b[0m\u001b[0;34m)\u001b[0m\u001b[0;34m:\u001b[0m\u001b[0;34m\u001b[0m\u001b[0;34m\u001b[0m\u001b[0m\n",
            "\u001b[0;32m/usr/local/lib/python3.10/dist-packages/torch/nn/modules/module.py\u001b[0m in \u001b[0;36m_apply\u001b[0;34m(self, fn, recurse)\u001b[0m\n\u001b[1;32m    808\u001b[0m         \u001b[0;32mif\u001b[0m \u001b[0mrecurse\u001b[0m\u001b[0;34m:\u001b[0m\u001b[0;34m\u001b[0m\u001b[0;34m\u001b[0m\u001b[0m\n\u001b[1;32m    809\u001b[0m             \u001b[0;32mfor\u001b[0m \u001b[0mmodule\u001b[0m \u001b[0;32min\u001b[0m \u001b[0mself\u001b[0m\u001b[0;34m.\u001b[0m\u001b[0mchildren\u001b[0m\u001b[0;34m(\u001b[0m\u001b[0;34m)\u001b[0m\u001b[0;34m:\u001b[0m\u001b[0;34m\u001b[0m\u001b[0;34m\u001b[0m\u001b[0m\n\u001b[0;32m--> 810\u001b[0;31m                 \u001b[0mmodule\u001b[0m\u001b[0;34m.\u001b[0m\u001b[0m_apply\u001b[0m\u001b[0;34m(\u001b[0m\u001b[0mfn\u001b[0m\u001b[0;34m)\u001b[0m\u001b[0;34m\u001b[0m\u001b[0;34m\u001b[0m\u001b[0m\n\u001b[0m\u001b[1;32m    811\u001b[0m \u001b[0;34m\u001b[0m\u001b[0m\n\u001b[1;32m    812\u001b[0m         \u001b[0;32mdef\u001b[0m \u001b[0mcompute_should_use_set_data\u001b[0m\u001b[0;34m(\u001b[0m\u001b[0mtensor\u001b[0m\u001b[0;34m,\u001b[0m \u001b[0mtensor_applied\u001b[0m\u001b[0;34m)\u001b[0m\u001b[0;34m:\u001b[0m\u001b[0;34m\u001b[0m\u001b[0;34m\u001b[0m\u001b[0m\n",
            "\u001b[0;32m/usr/local/lib/python3.10/dist-packages/torch/nn/modules/module.py\u001b[0m in \u001b[0;36m_apply\u001b[0;34m(self, fn, recurse)\u001b[0m\n\u001b[1;32m    831\u001b[0m             \u001b[0;31m# `with torch.no_grad():`\u001b[0m\u001b[0;34m\u001b[0m\u001b[0;34m\u001b[0m\u001b[0m\n\u001b[1;32m    832\u001b[0m             \u001b[0;32mwith\u001b[0m \u001b[0mtorch\u001b[0m\u001b[0;34m.\u001b[0m\u001b[0mno_grad\u001b[0m\u001b[0;34m(\u001b[0m\u001b[0;34m)\u001b[0m\u001b[0;34m:\u001b[0m\u001b[0;34m\u001b[0m\u001b[0;34m\u001b[0m\u001b[0m\n\u001b[0;32m--> 833\u001b[0;31m                 \u001b[0mparam_applied\u001b[0m \u001b[0;34m=\u001b[0m \u001b[0mfn\u001b[0m\u001b[0;34m(\u001b[0m\u001b[0mparam\u001b[0m\u001b[0;34m)\u001b[0m\u001b[0;34m\u001b[0m\u001b[0;34m\u001b[0m\u001b[0m\n\u001b[0m\u001b[1;32m    834\u001b[0m             \u001b[0mshould_use_set_data\u001b[0m \u001b[0;34m=\u001b[0m \u001b[0mcompute_should_use_set_data\u001b[0m\u001b[0;34m(\u001b[0m\u001b[0mparam\u001b[0m\u001b[0;34m,\u001b[0m \u001b[0mparam_applied\u001b[0m\u001b[0;34m)\u001b[0m\u001b[0;34m\u001b[0m\u001b[0;34m\u001b[0m\u001b[0m\n\u001b[1;32m    835\u001b[0m             \u001b[0;32mif\u001b[0m \u001b[0mshould_use_set_data\u001b[0m\u001b[0;34m:\u001b[0m\u001b[0;34m\u001b[0m\u001b[0;34m\u001b[0m\u001b[0m\n",
            "\u001b[0;32m/usr/local/lib/python3.10/dist-packages/torch/nn/modules/module.py\u001b[0m in \u001b[0;36mconvert\u001b[0;34m(t)\u001b[0m\n\u001b[1;32m   1156\u001b[0m                 return t.to(device, dtype if t.is_floating_point() or t.is_complex() else None,\n\u001b[1;32m   1157\u001b[0m                             non_blocking, memory_format=convert_to_format)\n\u001b[0;32m-> 1158\u001b[0;31m             \u001b[0;32mreturn\u001b[0m \u001b[0mt\u001b[0m\u001b[0;34m.\u001b[0m\u001b[0mto\u001b[0m\u001b[0;34m(\u001b[0m\u001b[0mdevice\u001b[0m\u001b[0;34m,\u001b[0m \u001b[0mdtype\u001b[0m \u001b[0;32mif\u001b[0m \u001b[0mt\u001b[0m\u001b[0;34m.\u001b[0m\u001b[0mis_floating_point\u001b[0m\u001b[0;34m(\u001b[0m\u001b[0;34m)\u001b[0m \u001b[0;32mor\u001b[0m \u001b[0mt\u001b[0m\u001b[0;34m.\u001b[0m\u001b[0mis_complex\u001b[0m\u001b[0;34m(\u001b[0m\u001b[0;34m)\u001b[0m \u001b[0;32melse\u001b[0m \u001b[0;32mNone\u001b[0m\u001b[0;34m,\u001b[0m \u001b[0mnon_blocking\u001b[0m\u001b[0;34m)\u001b[0m\u001b[0;34m\u001b[0m\u001b[0;34m\u001b[0m\u001b[0m\n\u001b[0m\u001b[1;32m   1159\u001b[0m \u001b[0;34m\u001b[0m\u001b[0m\n\u001b[1;32m   1160\u001b[0m         \u001b[0;32mreturn\u001b[0m \u001b[0mself\u001b[0m\u001b[0;34m.\u001b[0m\u001b[0m_apply\u001b[0m\u001b[0;34m(\u001b[0m\u001b[0mconvert\u001b[0m\u001b[0;34m)\u001b[0m\u001b[0;34m\u001b[0m\u001b[0;34m\u001b[0m\u001b[0m\n",
            "\u001b[0;32m/usr/local/lib/python3.10/dist-packages/torch/cuda/__init__.py\u001b[0m in \u001b[0;36m_lazy_init\u001b[0;34m()\u001b[0m\n\u001b[1;32m    296\u001b[0m         \u001b[0;32mif\u001b[0m \u001b[0;34m\"CUDA_MODULE_LOADING\"\u001b[0m \u001b[0;32mnot\u001b[0m \u001b[0;32min\u001b[0m \u001b[0mos\u001b[0m\u001b[0;34m.\u001b[0m\u001b[0menviron\u001b[0m\u001b[0;34m:\u001b[0m\u001b[0;34m\u001b[0m\u001b[0;34m\u001b[0m\u001b[0m\n\u001b[1;32m    297\u001b[0m             \u001b[0mos\u001b[0m\u001b[0;34m.\u001b[0m\u001b[0menviron\u001b[0m\u001b[0;34m[\u001b[0m\u001b[0;34m\"CUDA_MODULE_LOADING\"\u001b[0m\u001b[0;34m]\u001b[0m \u001b[0;34m=\u001b[0m \u001b[0;34m\"LAZY\"\u001b[0m\u001b[0;34m\u001b[0m\u001b[0;34m\u001b[0m\u001b[0m\n\u001b[0;32m--> 298\u001b[0;31m         \u001b[0mtorch\u001b[0m\u001b[0;34m.\u001b[0m\u001b[0m_C\u001b[0m\u001b[0;34m.\u001b[0m\u001b[0m_cuda_init\u001b[0m\u001b[0;34m(\u001b[0m\u001b[0;34m)\u001b[0m\u001b[0;34m\u001b[0m\u001b[0;34m\u001b[0m\u001b[0m\n\u001b[0m\u001b[1;32m    299\u001b[0m         \u001b[0;31m# Some of the queued calls may reentrantly call _lazy_init();\u001b[0m\u001b[0;34m\u001b[0m\u001b[0;34m\u001b[0m\u001b[0m\n\u001b[1;32m    300\u001b[0m         \u001b[0;31m# we need to just return without initializing in that case.\u001b[0m\u001b[0;34m\u001b[0m\u001b[0;34m\u001b[0m\u001b[0m\n",
            "\u001b[0;31mRuntimeError\u001b[0m: Found no NVIDIA driver on your system. Please check that you have an NVIDIA GPU and installed a driver from http://www.nvidia.com/Download/index.aspx"
          ]
        }
      ],
      "source": [
        "import time\n",
        "\n",
        "\n",
        "class CudaMLP(nn.Module):\n",
        "    def __init__(self, input_size: int, dropout_p: float = 0.5):\n",
        "        super().__init__()\n",
        "\n",
        "        self.mlp = nn.Sequential(\n",
        "            nn.Linear(input_size, 512),\n",
        "            nn.BatchNorm1d(512),\n",
        "            nn.ReLU(),\n",
        "            nn.Dropout(dropout_p),\n",
        "            nn.Linear(512, 256),\n",
        "            nn.BatchNorm1d(256),\n",
        "            nn.ReLU(),\n",
        "            nn.Dropout(dropout_p),\n",
        "            nn.Linear(256, 256),\n",
        "            nn.BatchNorm1d(256),\n",
        "            nn.ReLU(),\n",
        "            nn.Dropout(dropout_p),\n",
        "            nn.Linear(256, 128),\n",
        "            nn.BatchNorm1d(128),\n",
        "            nn.ReLU(),\n",
        "            nn.Dropout(dropout_p),\n",
        "            nn.Linear(128, 1),\n",
        "        )\n",
        "\n",
        "    def forward(self, x):\n",
        "        return self.mlp(x)\n",
        "\n",
        "    def predict_proba(self, x):\n",
        "        return sigmoid(self(x))\n",
        "\n",
        "    def predict(self, x, threshold: float = 0.5):\n",
        "        y_pred_score = self.predict_proba(x)\n",
        "        return (y_pred_score > threshold).to(torch.int32)\n",
        "\n",
        "\n",
        "model = CudaMLP(X_train.shape[1]).to('cuda')\n",
        "\n",
        "optimizer = torch.optim.AdamW(model.parameters(), lr=learning_rate, weight_decay=1e-4)\n",
        "\n",
        "# note that we are using loss function with sigmoid built in\n",
        "loss_fn = torch.nn.BCEWithLogitsLoss(pos_weight=torch.from_numpy(weights)[1].to('cuda'))\n",
        "\n",
        "step_counter = 0\n",
        "time_from_eval = time.time()\n",
        "for epoch_id in range(30):\n",
        "    for batch_x, batch_y in train_dataloader:\n",
        "        batch_x = batch_x.to('cuda')\n",
        "        batch_y = batch_y.to('cuda')\n",
        "\n",
        "        loss = loss_fn(model(batch_x), batch_y)\n",
        "        loss.backward()\n",
        "\n",
        "        optimizer.step()\n",
        "        optimizer.zero_grad()\n",
        "\n",
        "        if step_counter % evaluation_steps == 0:\n",
        "            print(f\"Epoch {epoch_id} train loss: {loss.item():.4f}, time: {time.time() - time_from_eval}\")\n",
        "            time_from_eval = time.time()\n",
        "\n",
        "        step_counter += 1\n",
        "\n",
        "test_res = evaluate_model(model.to('cpu'), X_test, y_test, loss_fn.to('cpu'), threshold=0.5)\n",
        "\n",
        "print(f\"AUROC: {100 * test_res['AUROC']:.2f}%\")\n",
        "print(f\"F1: {100 * test_res['F1-score']:.2f}%\")\n",
        "print(test_res)"
      ]
    },
    {
      "cell_type": "markdown",
      "metadata": {
        "id": "IftBFFMOAXh2"
      },
      "source": [
        "Co prawda ten model nie będzie tak dobry jak ten z laboratorium, ale zwróć uwagę, o ile jest większy, a przy tym szybszy.\n",
        "\n",
        "Dla zainteresowanych polecamy [tę serie artykułów](https://medium.com/@adi.fu7/ai-accelerators-part-i-intro-822c2cdb4ca4)"
      ]
    },
    {
      "cell_type": "markdown",
      "metadata": {
        "id": "L5CpanMyAXh2"
      },
      "source": [
        "## Zadanie dla chętnych"
      ]
    },
    {
      "cell_type": "markdown",
      "metadata": {
        "id": "NlknkmK8AXh2"
      },
      "source": [
        "Jak widzieliśmy, sieci neuronowe mają bardzo dużo hiperparametrów. Przeszukiwanie ich grid search'em jest więc niewykonalne, a chociaż random search by działał, to potrzebowałby wielu iteracji, co też jest kosztowne obliczeniowo.\n",
        "\n",
        "Zaimplementuj inteligentne przeszukiwanie przestrzeni hiperparametrów za pomocą biblioteki [Optuna](https://optuna.org/). Implementuje ona między innymi algorytm Tree Parzen Estimator (TPE), należący do grupy algorytmów typu Bayesian search. Typowo osiągają one bardzo dobre wyniki, a właściwie zawsze lepsze od przeszukiwania losowego. Do tego wystarcza im często niewielka liczba kroków.\n",
        "\n",
        "Zaimplementuj 3-warstwową sieć MLP, gdzie pierwsza warstwa ma rozmiar ukryty N, a druga N // 2. Ucz ją optymalizatorem Adam przez maksymalnie 300 epok z cierpliwością 10.\n",
        "\n",
        "Przeszukaj wybrane zakresy dla hiperparametrów:\n",
        "- rozmiar warstw ukrytych (N)\n",
        "- stała ucząca\n",
        "- batch size\n",
        "- siła regularyzacji L2\n",
        "- prawdopodobieństwo dropoutu\n",
        "\n",
        "Wykorzystaj przynajmniej 30 iteracji. Następnie przełącz algorytm na losowy (Optuna także jego implementuje), wykonaj 30 iteracji i porównaj jakość wyników.\n",
        "\n",
        "Przydatne materiały:\n",
        "- [Optuna code examples - PyTorch](https://optuna.org/#code_examples)\n",
        "- [Auto-Tuning Hyperparameters with Optuna and PyTorch](https://www.youtube.com/watch?v=P6NwZVl8ttc)\n",
        "- [Hyperparameter Tuning of Neural Networks with Optuna and PyTorch](https://towardsdatascience.com/hyperparameter-tuning-of-neural-networks-with-optuna-and-pytorch-22e179efc837)\n",
        "- [Using Optuna to Optimize PyTorch Hyperparameters](https://medium.com/pytorch/using-optuna-to-optimize-pytorch-hyperparameters-990607385e36)"
      ]
    },
    {
      "cell_type": "code",
      "execution_count": 129,
      "metadata": {
        "colab": {
          "base_uri": "https://localhost:8080/"
        },
        "id": "_cJrSvLKAXh3",
        "outputId": "2dd60e13-b606-4108-bc49-2f925ada5f71"
      },
      "outputs": [
        {
          "output_type": "stream",
          "name": "stdout",
          "text": [
            "Requirement already satisfied: optuna in /usr/local/lib/python3.10/dist-packages (3.4.0)\n",
            "Requirement already satisfied: alembic>=1.5.0 in /usr/local/lib/python3.10/dist-packages (from optuna) (1.12.1)\n",
            "Requirement already satisfied: colorlog in /usr/local/lib/python3.10/dist-packages (from optuna) (6.7.0)\n",
            "Requirement already satisfied: numpy in /usr/local/lib/python3.10/dist-packages (from optuna) (1.23.5)\n",
            "Requirement already satisfied: packaging>=20.0 in /usr/local/lib/python3.10/dist-packages (from optuna) (23.2)\n",
            "Requirement already satisfied: sqlalchemy>=1.3.0 in /usr/local/lib/python3.10/dist-packages (from optuna) (2.0.23)\n",
            "Requirement already satisfied: tqdm in /usr/local/lib/python3.10/dist-packages (from optuna) (4.66.1)\n",
            "Requirement already satisfied: PyYAML in /usr/local/lib/python3.10/dist-packages (from optuna) (6.0.1)\n",
            "Requirement already satisfied: Mako in /usr/local/lib/python3.10/dist-packages (from alembic>=1.5.0->optuna) (1.3.0)\n",
            "Requirement already satisfied: typing-extensions>=4 in /usr/local/lib/python3.10/dist-packages (from alembic>=1.5.0->optuna) (4.5.0)\n",
            "Requirement already satisfied: greenlet!=0.4.17 in /usr/local/lib/python3.10/dist-packages (from sqlalchemy>=1.3.0->optuna) (3.0.1)\n",
            "Requirement already satisfied: MarkupSafe>=0.9.2 in /usr/local/lib/python3.10/dist-packages (from Mako->alembic>=1.5.0->optuna) (2.1.3)\n"
          ]
        },
        {
          "output_type": "stream",
          "name": "stderr",
          "text": [
            "[I 2023-11-24 15:05:59,844] A new study created in memory with name: no-name-11dc0036-26b1-4931-bd61-2ed807f35a76\n",
            "<ipython-input-129-a3dfcc162ab6>:33: FutureWarning: suggest_loguniform has been deprecated in v3.0.0. This feature will be removed in v6.0.0. See https://github.com/optuna/optuna/releases/tag/v3.0.0. Use suggest_float(..., log=True) instead.\n",
            "  learning_rate = trial.suggest_loguniform('learning_rate', 1e-5, 1e-2)\n",
            "<ipython-input-129-a3dfcc162ab6>:34: FutureWarning: suggest_uniform has been deprecated in v3.0.0. This feature will be removed in v6.0.0. See https://github.com/optuna/optuna/releases/tag/v3.0.0. Use suggest_float instead.\n",
            "  dropout_p = trial.suggest_uniform('dropout_p', 0.2, 0.5)\n",
            "<ipython-input-129-a3dfcc162ab6>:35: FutureWarning: suggest_loguniform has been deprecated in v3.0.0. This feature will be removed in v6.0.0. See https://github.com/optuna/optuna/releases/tag/v3.0.0. Use suggest_float(..., log=True) instead.\n",
            "  l2_reg = trial.suggest_loguniform('l2_reg', 1e-5, 1e-2)\n",
            "[I 2023-11-24 15:07:12,563] Trial 0 finished with value: 0.6788504123687744 and parameters: {'hidden_size': 256, 'learning_rate': 0.005452452589010747, 'dropout_p': 0.2612660694993599, 'l2_reg': 5.049995341408563e-05, 'batch_size': 32}. Best is trial 0 with value: 0.6788504123687744.\n",
            "<ipython-input-129-a3dfcc162ab6>:33: FutureWarning: suggest_loguniform has been deprecated in v3.0.0. This feature will be removed in v6.0.0. See https://github.com/optuna/optuna/releases/tag/v3.0.0. Use suggest_float(..., log=True) instead.\n",
            "  learning_rate = trial.suggest_loguniform('learning_rate', 1e-5, 1e-2)\n",
            "<ipython-input-129-a3dfcc162ab6>:34: FutureWarning: suggest_uniform has been deprecated in v3.0.0. This feature will be removed in v6.0.0. See https://github.com/optuna/optuna/releases/tag/v3.0.0. Use suggest_float instead.\n",
            "  dropout_p = trial.suggest_uniform('dropout_p', 0.2, 0.5)\n",
            "<ipython-input-129-a3dfcc162ab6>:35: FutureWarning: suggest_loguniform has been deprecated in v3.0.0. This feature will be removed in v6.0.0. See https://github.com/optuna/optuna/releases/tag/v3.0.0. Use suggest_float(..., log=True) instead.\n",
            "  l2_reg = trial.suggest_loguniform('l2_reg', 1e-5, 1e-2)\n",
            "[I 2023-11-24 15:07:33,960] Trial 1 finished with value: 0.6844593286514282 and parameters: {'hidden_size': 64, 'learning_rate': 0.004993176749590208, 'dropout_p': 0.3074966582139681, 'l2_reg': 0.0017314773895904718, 'batch_size': 32}. Best is trial 0 with value: 0.6788504123687744.\n",
            "<ipython-input-129-a3dfcc162ab6>:33: FutureWarning: suggest_loguniform has been deprecated in v3.0.0. This feature will be removed in v6.0.0. See https://github.com/optuna/optuna/releases/tag/v3.0.0. Use suggest_float(..., log=True) instead.\n",
            "  learning_rate = trial.suggest_loguniform('learning_rate', 1e-5, 1e-2)\n",
            "<ipython-input-129-a3dfcc162ab6>:34: FutureWarning: suggest_uniform has been deprecated in v3.0.0. This feature will be removed in v6.0.0. See https://github.com/optuna/optuna/releases/tag/v3.0.0. Use suggest_float instead.\n",
            "  dropout_p = trial.suggest_uniform('dropout_p', 0.2, 0.5)\n",
            "<ipython-input-129-a3dfcc162ab6>:35: FutureWarning: suggest_loguniform has been deprecated in v3.0.0. This feature will be removed in v6.0.0. See https://github.com/optuna/optuna/releases/tag/v3.0.0. Use suggest_float(..., log=True) instead.\n",
            "  l2_reg = trial.suggest_loguniform('l2_reg', 1e-5, 1e-2)\n",
            "[I 2023-11-24 15:09:03,883] Trial 2 finished with value: 0.6879580020904541 and parameters: {'hidden_size': 128, 'learning_rate': 1.3283665357050705e-05, 'dropout_p': 0.2775703966517485, 'l2_reg': 1.21934423628874e-05, 'batch_size': 64}. Best is trial 0 with value: 0.6788504123687744.\n",
            "<ipython-input-129-a3dfcc162ab6>:33: FutureWarning: suggest_loguniform has been deprecated in v3.0.0. This feature will be removed in v6.0.0. See https://github.com/optuna/optuna/releases/tag/v3.0.0. Use suggest_float(..., log=True) instead.\n",
            "  learning_rate = trial.suggest_loguniform('learning_rate', 1e-5, 1e-2)\n",
            "<ipython-input-129-a3dfcc162ab6>:34: FutureWarning: suggest_uniform has been deprecated in v3.0.0. This feature will be removed in v6.0.0. See https://github.com/optuna/optuna/releases/tag/v3.0.0. Use suggest_float instead.\n",
            "  dropout_p = trial.suggest_uniform('dropout_p', 0.2, 0.5)\n",
            "<ipython-input-129-a3dfcc162ab6>:35: FutureWarning: suggest_loguniform has been deprecated in v3.0.0. This feature will be removed in v6.0.0. See https://github.com/optuna/optuna/releases/tag/v3.0.0. Use suggest_float(..., log=True) instead.\n",
            "  l2_reg = trial.suggest_loguniform('l2_reg', 1e-5, 1e-2)\n",
            "[I 2023-11-24 15:10:59,699] Trial 3 finished with value: 0.6876856088638306 and parameters: {'hidden_size': 128, 'learning_rate': 2.0001505217927942e-05, 'dropout_p': 0.392763598842379, 'l2_reg': 0.0016160969318994255, 'batch_size': 64}. Best is trial 0 with value: 0.6788504123687744.\n",
            "<ipython-input-129-a3dfcc162ab6>:33: FutureWarning: suggest_loguniform has been deprecated in v3.0.0. This feature will be removed in v6.0.0. See https://github.com/optuna/optuna/releases/tag/v3.0.0. Use suggest_float(..., log=True) instead.\n",
            "  learning_rate = trial.suggest_loguniform('learning_rate', 1e-5, 1e-2)\n",
            "<ipython-input-129-a3dfcc162ab6>:34: FutureWarning: suggest_uniform has been deprecated in v3.0.0. This feature will be removed in v6.0.0. See https://github.com/optuna/optuna/releases/tag/v3.0.0. Use suggest_float instead.\n",
            "  dropout_p = trial.suggest_uniform('dropout_p', 0.2, 0.5)\n",
            "<ipython-input-129-a3dfcc162ab6>:35: FutureWarning: suggest_loguniform has been deprecated in v3.0.0. This feature will be removed in v6.0.0. See https://github.com/optuna/optuna/releases/tag/v3.0.0. Use suggest_float(..., log=True) instead.\n",
            "  l2_reg = trial.suggest_loguniform('l2_reg', 1e-5, 1e-2)\n",
            "[I 2023-11-24 15:12:03,154] Trial 4 finished with value: 0.6829606294631958 and parameters: {'hidden_size': 64, 'learning_rate': 0.005204877206363906, 'dropout_p': 0.26847023292515765, 'l2_reg': 0.0005485305871479455, 'batch_size': 32}. Best is trial 0 with value: 0.6788504123687744.\n",
            "<ipython-input-129-a3dfcc162ab6>:33: FutureWarning: suggest_loguniform has been deprecated in v3.0.0. This feature will be removed in v6.0.0. See https://github.com/optuna/optuna/releases/tag/v3.0.0. Use suggest_float(..., log=True) instead.\n",
            "  learning_rate = trial.suggest_loguniform('learning_rate', 1e-5, 1e-2)\n",
            "<ipython-input-129-a3dfcc162ab6>:34: FutureWarning: suggest_uniform has been deprecated in v3.0.0. This feature will be removed in v6.0.0. See https://github.com/optuna/optuna/releases/tag/v3.0.0. Use suggest_float instead.\n",
            "  dropout_p = trial.suggest_uniform('dropout_p', 0.2, 0.5)\n",
            "<ipython-input-129-a3dfcc162ab6>:35: FutureWarning: suggest_loguniform has been deprecated in v3.0.0. This feature will be removed in v6.0.0. See https://github.com/optuna/optuna/releases/tag/v3.0.0. Use suggest_float(..., log=True) instead.\n",
            "  l2_reg = trial.suggest_loguniform('l2_reg', 1e-5, 1e-2)\n",
            "[I 2023-11-24 15:12:36,531] Trial 5 finished with value: 0.6795581579208374 and parameters: {'hidden_size': 64, 'learning_rate': 0.007273649510888963, 'dropout_p': 0.2650698790910663, 'l2_reg': 2.909611652099653e-05, 'batch_size': 32}. Best is trial 0 with value: 0.6788504123687744.\n",
            "<ipython-input-129-a3dfcc162ab6>:33: FutureWarning: suggest_loguniform has been deprecated in v3.0.0. This feature will be removed in v6.0.0. See https://github.com/optuna/optuna/releases/tag/v3.0.0. Use suggest_float(..., log=True) instead.\n",
            "  learning_rate = trial.suggest_loguniform('learning_rate', 1e-5, 1e-2)\n",
            "<ipython-input-129-a3dfcc162ab6>:34: FutureWarning: suggest_uniform has been deprecated in v3.0.0. This feature will be removed in v6.0.0. See https://github.com/optuna/optuna/releases/tag/v3.0.0. Use suggest_float instead.\n",
            "  dropout_p = trial.suggest_uniform('dropout_p', 0.2, 0.5)\n",
            "<ipython-input-129-a3dfcc162ab6>:35: FutureWarning: suggest_loguniform has been deprecated in v3.0.0. This feature will be removed in v6.0.0. See https://github.com/optuna/optuna/releases/tag/v3.0.0. Use suggest_float(..., log=True) instead.\n",
            "  l2_reg = trial.suggest_loguniform('l2_reg', 1e-5, 1e-2)\n",
            "[I 2023-11-24 15:13:12,478] Trial 6 finished with value: 0.6804091334342957 and parameters: {'hidden_size': 256, 'learning_rate': 0.001470849178605917, 'dropout_p': 0.315696222160444, 'l2_reg': 6.476571549838836e-05, 'batch_size': 128}. Best is trial 0 with value: 0.6788504123687744.\n",
            "<ipython-input-129-a3dfcc162ab6>:33: FutureWarning: suggest_loguniform has been deprecated in v3.0.0. This feature will be removed in v6.0.0. See https://github.com/optuna/optuna/releases/tag/v3.0.0. Use suggest_float(..., log=True) instead.\n",
            "  learning_rate = trial.suggest_loguniform('learning_rate', 1e-5, 1e-2)\n",
            "<ipython-input-129-a3dfcc162ab6>:34: FutureWarning: suggest_uniform has been deprecated in v3.0.0. This feature will be removed in v6.0.0. See https://github.com/optuna/optuna/releases/tag/v3.0.0. Use suggest_float instead.\n",
            "  dropout_p = trial.suggest_uniform('dropout_p', 0.2, 0.5)\n",
            "<ipython-input-129-a3dfcc162ab6>:35: FutureWarning: suggest_loguniform has been deprecated in v3.0.0. This feature will be removed in v6.0.0. See https://github.com/optuna/optuna/releases/tag/v3.0.0. Use suggest_float(..., log=True) instead.\n",
            "  l2_reg = trial.suggest_loguniform('l2_reg', 1e-5, 1e-2)\n",
            "[I 2023-11-24 15:13:33,856] Trial 7 finished with value: 0.6831120252609253 and parameters: {'hidden_size': 128, 'learning_rate': 0.00033001661311735927, 'dropout_p': 0.21028930421569014, 'l2_reg': 0.0003518258898845704, 'batch_size': 64}. Best is trial 0 with value: 0.6788504123687744.\n",
            "<ipython-input-129-a3dfcc162ab6>:33: FutureWarning: suggest_loguniform has been deprecated in v3.0.0. This feature will be removed in v6.0.0. See https://github.com/optuna/optuna/releases/tag/v3.0.0. Use suggest_float(..., log=True) instead.\n",
            "  learning_rate = trial.suggest_loguniform('learning_rate', 1e-5, 1e-2)\n",
            "<ipython-input-129-a3dfcc162ab6>:34: FutureWarning: suggest_uniform has been deprecated in v3.0.0. This feature will be removed in v6.0.0. See https://github.com/optuna/optuna/releases/tag/v3.0.0. Use suggest_float instead.\n",
            "  dropout_p = trial.suggest_uniform('dropout_p', 0.2, 0.5)\n",
            "<ipython-input-129-a3dfcc162ab6>:35: FutureWarning: suggest_loguniform has been deprecated in v3.0.0. This feature will be removed in v6.0.0. See https://github.com/optuna/optuna/releases/tag/v3.0.0. Use suggest_float(..., log=True) instead.\n",
            "  l2_reg = trial.suggest_loguniform('l2_reg', 1e-5, 1e-2)\n",
            "[I 2023-11-24 15:13:57,130] Trial 8 finished with value: 0.6792611479759216 and parameters: {'hidden_size': 256, 'learning_rate': 0.0028355928328584914, 'dropout_p': 0.2164886559667676, 'l2_reg': 1.1802737288159595e-05, 'batch_size': 128}. Best is trial 0 with value: 0.6788504123687744.\n",
            "<ipython-input-129-a3dfcc162ab6>:33: FutureWarning: suggest_loguniform has been deprecated in v3.0.0. This feature will be removed in v6.0.0. See https://github.com/optuna/optuna/releases/tag/v3.0.0. Use suggest_float(..., log=True) instead.\n",
            "  learning_rate = trial.suggest_loguniform('learning_rate', 1e-5, 1e-2)\n",
            "<ipython-input-129-a3dfcc162ab6>:34: FutureWarning: suggest_uniform has been deprecated in v3.0.0. This feature will be removed in v6.0.0. See https://github.com/optuna/optuna/releases/tag/v3.0.0. Use suggest_float instead.\n",
            "  dropout_p = trial.suggest_uniform('dropout_p', 0.2, 0.5)\n",
            "<ipython-input-129-a3dfcc162ab6>:35: FutureWarning: suggest_loguniform has been deprecated in v3.0.0. This feature will be removed in v6.0.0. See https://github.com/optuna/optuna/releases/tag/v3.0.0. Use suggest_float(..., log=True) instead.\n",
            "  l2_reg = trial.suggest_loguniform('l2_reg', 1e-5, 1e-2)\n",
            "[I 2023-11-24 15:14:18,209] Trial 9 finished with value: 0.6824013590812683 and parameters: {'hidden_size': 256, 'learning_rate': 0.00038417030149963806, 'dropout_p': 0.3772435648362722, 'l2_reg': 1.1179406795755697e-05, 'batch_size': 128}. Best is trial 0 with value: 0.6788504123687744.\n",
            "<ipython-input-129-a3dfcc162ab6>:33: FutureWarning: suggest_loguniform has been deprecated in v3.0.0. This feature will be removed in v6.0.0. See https://github.com/optuna/optuna/releases/tag/v3.0.0. Use suggest_float(..., log=True) instead.\n",
            "  learning_rate = trial.suggest_loguniform('learning_rate', 1e-5, 1e-2)\n",
            "<ipython-input-129-a3dfcc162ab6>:34: FutureWarning: suggest_uniform has been deprecated in v3.0.0. This feature will be removed in v6.0.0. See https://github.com/optuna/optuna/releases/tag/v3.0.0. Use suggest_float instead.\n",
            "  dropout_p = trial.suggest_uniform('dropout_p', 0.2, 0.5)\n",
            "<ipython-input-129-a3dfcc162ab6>:35: FutureWarning: suggest_loguniform has been deprecated in v3.0.0. This feature will be removed in v6.0.0. See https://github.com/optuna/optuna/releases/tag/v3.0.0. Use suggest_float(..., log=True) instead.\n",
            "  l2_reg = trial.suggest_loguniform('l2_reg', 1e-5, 1e-2)\n",
            "[I 2023-11-24 15:15:48,505] Trial 10 finished with value: 0.6799591183662415 and parameters: {'hidden_size': 256, 'learning_rate': 0.001057399566204871, 'dropout_p': 0.48673743434754524, 'l2_reg': 7.986493338529864e-05, 'batch_size': 32}. Best is trial 0 with value: 0.6788504123687744.\n",
            "<ipython-input-129-a3dfcc162ab6>:33: FutureWarning: suggest_loguniform has been deprecated in v3.0.0. This feature will be removed in v6.0.0. See https://github.com/optuna/optuna/releases/tag/v3.0.0. Use suggest_float(..., log=True) instead.\n",
            "  learning_rate = trial.suggest_loguniform('learning_rate', 1e-5, 1e-2)\n",
            "<ipython-input-129-a3dfcc162ab6>:34: FutureWarning: suggest_uniform has been deprecated in v3.0.0. This feature will be removed in v6.0.0. See https://github.com/optuna/optuna/releases/tag/v3.0.0. Use suggest_float instead.\n",
            "  dropout_p = trial.suggest_uniform('dropout_p', 0.2, 0.5)\n",
            "<ipython-input-129-a3dfcc162ab6>:35: FutureWarning: suggest_loguniform has been deprecated in v3.0.0. This feature will be removed in v6.0.0. See https://github.com/optuna/optuna/releases/tag/v3.0.0. Use suggest_float(..., log=True) instead.\n",
            "  l2_reg = trial.suggest_loguniform('l2_reg', 1e-5, 1e-2)\n",
            "[I 2023-11-24 15:16:11,757] Trial 11 finished with value: 0.6800386905670166 and parameters: {'hidden_size': 256, 'learning_rate': 0.009703117282188891, 'dropout_p': 0.20171421988657298, 'l2_reg': 8.759312588950104e-05, 'batch_size': 128}. Best is trial 0 with value: 0.6788504123687744.\n",
            "<ipython-input-129-a3dfcc162ab6>:33: FutureWarning: suggest_loguniform has been deprecated in v3.0.0. This feature will be removed in v6.0.0. See https://github.com/optuna/optuna/releases/tag/v3.0.0. Use suggest_float(..., log=True) instead.\n",
            "  learning_rate = trial.suggest_loguniform('learning_rate', 1e-5, 1e-2)\n",
            "<ipython-input-129-a3dfcc162ab6>:34: FutureWarning: suggest_uniform has been deprecated in v3.0.0. This feature will be removed in v6.0.0. See https://github.com/optuna/optuna/releases/tag/v3.0.0. Use suggest_float instead.\n",
            "  dropout_p = trial.suggest_uniform('dropout_p', 0.2, 0.5)\n",
            "<ipython-input-129-a3dfcc162ab6>:35: FutureWarning: suggest_loguniform has been deprecated in v3.0.0. This feature will be removed in v6.0.0. See https://github.com/optuna/optuna/releases/tag/v3.0.0. Use suggest_float(..., log=True) instead.\n",
            "  l2_reg = trial.suggest_loguniform('l2_reg', 1e-5, 1e-2)\n",
            "[I 2023-11-24 15:16:33,801] Trial 12 finished with value: 0.6779764294624329 and parameters: {'hidden_size': 256, 'learning_rate': 0.0019228498811240534, 'dropout_p': 0.232604556276863, 'l2_reg': 3.1197060524874534e-05, 'batch_size': 128}. Best is trial 12 with value: 0.6779764294624329.\n",
            "<ipython-input-129-a3dfcc162ab6>:33: FutureWarning: suggest_loguniform has been deprecated in v3.0.0. This feature will be removed in v6.0.0. See https://github.com/optuna/optuna/releases/tag/v3.0.0. Use suggest_float(..., log=True) instead.\n",
            "  learning_rate = trial.suggest_loguniform('learning_rate', 1e-5, 1e-2)\n",
            "<ipython-input-129-a3dfcc162ab6>:34: FutureWarning: suggest_uniform has been deprecated in v3.0.0. This feature will be removed in v6.0.0. See https://github.com/optuna/optuna/releases/tag/v3.0.0. Use suggest_float instead.\n",
            "  dropout_p = trial.suggest_uniform('dropout_p', 0.2, 0.5)\n",
            "<ipython-input-129-a3dfcc162ab6>:35: FutureWarning: suggest_loguniform has been deprecated in v3.0.0. This feature will be removed in v6.0.0. See https://github.com/optuna/optuna/releases/tag/v3.0.0. Use suggest_float(..., log=True) instead.\n",
            "  l2_reg = trial.suggest_loguniform('l2_reg', 1e-5, 1e-2)\n",
            "[I 2023-11-24 15:17:08,442] Trial 13 finished with value: 0.6811283230781555 and parameters: {'hidden_size': 256, 'learning_rate': 0.0017174989983113492, 'dropout_p': 0.24240046924287845, 'l2_reg': 0.006477512718718818, 'batch_size': 32}. Best is trial 12 with value: 0.6779764294624329.\n",
            "<ipython-input-129-a3dfcc162ab6>:33: FutureWarning: suggest_loguniform has been deprecated in v3.0.0. This feature will be removed in v6.0.0. See https://github.com/optuna/optuna/releases/tag/v3.0.0. Use suggest_float(..., log=True) instead.\n",
            "  learning_rate = trial.suggest_loguniform('learning_rate', 1e-5, 1e-2)\n",
            "<ipython-input-129-a3dfcc162ab6>:34: FutureWarning: suggest_uniform has been deprecated in v3.0.0. This feature will be removed in v6.0.0. See https://github.com/optuna/optuna/releases/tag/v3.0.0. Use suggest_float instead.\n",
            "  dropout_p = trial.suggest_uniform('dropout_p', 0.2, 0.5)\n",
            "<ipython-input-129-a3dfcc162ab6>:35: FutureWarning: suggest_loguniform has been deprecated in v3.0.0. This feature will be removed in v6.0.0. See https://github.com/optuna/optuna/releases/tag/v3.0.0. Use suggest_float(..., log=True) instead.\n",
            "  l2_reg = trial.suggest_loguniform('l2_reg', 1e-5, 1e-2)\n",
            "[I 2023-11-24 15:17:34,747] Trial 14 finished with value: 0.6818291544914246 and parameters: {'hidden_size': 256, 'learning_rate': 0.0007317797713374829, 'dropout_p': 0.23931543435621117, 'l2_reg': 0.00014491870758627046, 'batch_size': 128}. Best is trial 12 with value: 0.6779764294624329.\n",
            "<ipython-input-129-a3dfcc162ab6>:33: FutureWarning: suggest_loguniform has been deprecated in v3.0.0. This feature will be removed in v6.0.0. See https://github.com/optuna/optuna/releases/tag/v3.0.0. Use suggest_float(..., log=True) instead.\n",
            "  learning_rate = trial.suggest_loguniform('learning_rate', 1e-5, 1e-2)\n",
            "<ipython-input-129-a3dfcc162ab6>:34: FutureWarning: suggest_uniform has been deprecated in v3.0.0. This feature will be removed in v6.0.0. See https://github.com/optuna/optuna/releases/tag/v3.0.0. Use suggest_float instead.\n",
            "  dropout_p = trial.suggest_uniform('dropout_p', 0.2, 0.5)\n",
            "<ipython-input-129-a3dfcc162ab6>:35: FutureWarning: suggest_loguniform has been deprecated in v3.0.0. This feature will be removed in v6.0.0. See https://github.com/optuna/optuna/releases/tag/v3.0.0. Use suggest_float(..., log=True) instead.\n",
            "  l2_reg = trial.suggest_loguniform('l2_reg', 1e-5, 1e-2)\n",
            "[I 2023-11-24 15:18:15,813] Trial 15 finished with value: 0.6779770851135254 and parameters: {'hidden_size': 256, 'learning_rate': 0.0023825748371432407, 'dropout_p': 0.3052589912760636, 'l2_reg': 3.983257186782102e-05, 'batch_size': 32}. Best is trial 12 with value: 0.6779764294624329.\n",
            "<ipython-input-129-a3dfcc162ab6>:33: FutureWarning: suggest_loguniform has been deprecated in v3.0.0. This feature will be removed in v6.0.0. See https://github.com/optuna/optuna/releases/tag/v3.0.0. Use suggest_float(..., log=True) instead.\n",
            "  learning_rate = trial.suggest_loguniform('learning_rate', 1e-5, 1e-2)\n",
            "<ipython-input-129-a3dfcc162ab6>:34: FutureWarning: suggest_uniform has been deprecated in v3.0.0. This feature will be removed in v6.0.0. See https://github.com/optuna/optuna/releases/tag/v3.0.0. Use suggest_float instead.\n",
            "  dropout_p = trial.suggest_uniform('dropout_p', 0.2, 0.5)\n",
            "<ipython-input-129-a3dfcc162ab6>:35: FutureWarning: suggest_loguniform has been deprecated in v3.0.0. This feature will be removed in v6.0.0. See https://github.com/optuna/optuna/releases/tag/v3.0.0. Use suggest_float(..., log=True) instead.\n",
            "  l2_reg = trial.suggest_loguniform('l2_reg', 1e-5, 1e-2)\n",
            "[I 2023-11-24 15:18:34,287] Trial 16 finished with value: 0.6789455413818359 and parameters: {'hidden_size': 256, 'learning_rate': 0.0024695721136955653, 'dropout_p': 0.3318288743767152, 'l2_reg': 3.14926075369371e-05, 'batch_size': 128}. Best is trial 12 with value: 0.6779764294624329.\n",
            "<ipython-input-129-a3dfcc162ab6>:33: FutureWarning: suggest_loguniform has been deprecated in v3.0.0. This feature will be removed in v6.0.0. See https://github.com/optuna/optuna/releases/tag/v3.0.0. Use suggest_float(..., log=True) instead.\n",
            "  learning_rate = trial.suggest_loguniform('learning_rate', 1e-5, 1e-2)\n",
            "<ipython-input-129-a3dfcc162ab6>:34: FutureWarning: suggest_uniform has been deprecated in v3.0.0. This feature will be removed in v6.0.0. See https://github.com/optuna/optuna/releases/tag/v3.0.0. Use suggest_float instead.\n",
            "  dropout_p = trial.suggest_uniform('dropout_p', 0.2, 0.5)\n",
            "<ipython-input-129-a3dfcc162ab6>:35: FutureWarning: suggest_loguniform has been deprecated in v3.0.0. This feature will be removed in v6.0.0. See https://github.com/optuna/optuna/releases/tag/v3.0.0. Use suggest_float(..., log=True) instead.\n",
            "  l2_reg = trial.suggest_loguniform('l2_reg', 1e-5, 1e-2)\n",
            "[I 2023-11-24 15:18:54,642] Trial 17 finished with value: 0.6843862533569336 and parameters: {'hidden_size': 256, 'learning_rate': 0.00011036858876418901, 'dropout_p': 0.3006921730726168, 'l2_reg': 0.00016746920674665227, 'batch_size': 128}. Best is trial 12 with value: 0.6779764294624329.\n",
            "<ipython-input-129-a3dfcc162ab6>:33: FutureWarning: suggest_loguniform has been deprecated in v3.0.0. This feature will be removed in v6.0.0. See https://github.com/optuna/optuna/releases/tag/v3.0.0. Use suggest_float(..., log=True) instead.\n",
            "  learning_rate = trial.suggest_loguniform('learning_rate', 1e-5, 1e-2)\n",
            "<ipython-input-129-a3dfcc162ab6>:34: FutureWarning: suggest_uniform has been deprecated in v3.0.0. This feature will be removed in v6.0.0. See https://github.com/optuna/optuna/releases/tag/v3.0.0. Use suggest_float instead.\n",
            "  dropout_p = trial.suggest_uniform('dropout_p', 0.2, 0.5)\n",
            "<ipython-input-129-a3dfcc162ab6>:35: FutureWarning: suggest_loguniform has been deprecated in v3.0.0. This feature will be removed in v6.0.0. See https://github.com/optuna/optuna/releases/tag/v3.0.0. Use suggest_float(..., log=True) instead.\n",
            "  l2_reg = trial.suggest_loguniform('l2_reg', 1e-5, 1e-2)\n",
            "[I 2023-11-24 15:19:38,292] Trial 18 finished with value: 0.6801957488059998 and parameters: {'hidden_size': 128, 'learning_rate': 0.0008120787851908785, 'dropout_p': 0.36260727662635167, 'l2_reg': 2.7260781401529636e-05, 'batch_size': 32}. Best is trial 12 with value: 0.6779764294624329.\n",
            "<ipython-input-129-a3dfcc162ab6>:33: FutureWarning: suggest_loguniform has been deprecated in v3.0.0. This feature will be removed in v6.0.0. See https://github.com/optuna/optuna/releases/tag/v3.0.0. Use suggest_float(..., log=True) instead.\n",
            "  learning_rate = trial.suggest_loguniform('learning_rate', 1e-5, 1e-2)\n",
            "<ipython-input-129-a3dfcc162ab6>:34: FutureWarning: suggest_uniform has been deprecated in v3.0.0. This feature will be removed in v6.0.0. See https://github.com/optuna/optuna/releases/tag/v3.0.0. Use suggest_float instead.\n",
            "  dropout_p = trial.suggest_uniform('dropout_p', 0.2, 0.5)\n",
            "<ipython-input-129-a3dfcc162ab6>:35: FutureWarning: suggest_loguniform has been deprecated in v3.0.0. This feature will be removed in v6.0.0. See https://github.com/optuna/optuna/releases/tag/v3.0.0. Use suggest_float(..., log=True) instead.\n",
            "  l2_reg = trial.suggest_loguniform('l2_reg', 1e-5, 1e-2)\n",
            "[I 2023-11-24 15:20:06,754] Trial 19 finished with value: 0.6798310279846191 and parameters: {'hidden_size': 64, 'learning_rate': 0.00281325761058138, 'dropout_p': 0.29116479048746213, 'l2_reg': 2.5221187556505016e-05, 'batch_size': 64}. Best is trial 12 with value: 0.6779764294624329.\n",
            "<ipython-input-129-a3dfcc162ab6>:33: FutureWarning: suggest_loguniform has been deprecated in v3.0.0. This feature will be removed in v6.0.0. See https://github.com/optuna/optuna/releases/tag/v3.0.0. Use suggest_float(..., log=True) instead.\n",
            "  learning_rate = trial.suggest_loguniform('learning_rate', 1e-5, 1e-2)\n",
            "<ipython-input-129-a3dfcc162ab6>:34: FutureWarning: suggest_uniform has been deprecated in v3.0.0. This feature will be removed in v6.0.0. See https://github.com/optuna/optuna/releases/tag/v3.0.0. Use suggest_float instead.\n",
            "  dropout_p = trial.suggest_uniform('dropout_p', 0.2, 0.5)\n",
            "<ipython-input-129-a3dfcc162ab6>:35: FutureWarning: suggest_loguniform has been deprecated in v3.0.0. This feature will be removed in v6.0.0. See https://github.com/optuna/optuna/releases/tag/v3.0.0. Use suggest_float(..., log=True) instead.\n",
            "  l2_reg = trial.suggest_loguniform('l2_reg', 1e-5, 1e-2)\n",
            "[I 2023-11-24 15:20:37,455] Trial 20 finished with value: 0.6819866299629211 and parameters: {'hidden_size': 256, 'learning_rate': 0.0005716346327723301, 'dropout_p': 0.33203740448048485, 'l2_reg': 0.00017299202210110755, 'batch_size': 128}. Best is trial 12 with value: 0.6779764294624329.\n",
            "<ipython-input-129-a3dfcc162ab6>:33: FutureWarning: suggest_loguniform has been deprecated in v3.0.0. This feature will be removed in v6.0.0. See https://github.com/optuna/optuna/releases/tag/v3.0.0. Use suggest_float(..., log=True) instead.\n",
            "  learning_rate = trial.suggest_loguniform('learning_rate', 1e-5, 1e-2)\n",
            "<ipython-input-129-a3dfcc162ab6>:34: FutureWarning: suggest_uniform has been deprecated in v3.0.0. This feature will be removed in v6.0.0. See https://github.com/optuna/optuna/releases/tag/v3.0.0. Use suggest_float instead.\n",
            "  dropout_p = trial.suggest_uniform('dropout_p', 0.2, 0.5)\n",
            "<ipython-input-129-a3dfcc162ab6>:35: FutureWarning: suggest_loguniform has been deprecated in v3.0.0. This feature will be removed in v6.0.0. See https://github.com/optuna/optuna/releases/tag/v3.0.0. Use suggest_float(..., log=True) instead.\n",
            "  l2_reg = trial.suggest_loguniform('l2_reg', 1e-5, 1e-2)\n",
            "[I 2023-11-24 15:21:28,027] Trial 21 finished with value: 0.6790313720703125 and parameters: {'hidden_size': 256, 'learning_rate': 0.004507825023456572, 'dropout_p': 0.24240556754867437, 'l2_reg': 4.813902248644977e-05, 'batch_size': 32}. Best is trial 12 with value: 0.6779764294624329.\n",
            "<ipython-input-129-a3dfcc162ab6>:33: FutureWarning: suggest_loguniform has been deprecated in v3.0.0. This feature will be removed in v6.0.0. See https://github.com/optuna/optuna/releases/tag/v3.0.0. Use suggest_float(..., log=True) instead.\n",
            "  learning_rate = trial.suggest_loguniform('learning_rate', 1e-5, 1e-2)\n",
            "<ipython-input-129-a3dfcc162ab6>:34: FutureWarning: suggest_uniform has been deprecated in v3.0.0. This feature will be removed in v6.0.0. See https://github.com/optuna/optuna/releases/tag/v3.0.0. Use suggest_float instead.\n",
            "  dropout_p = trial.suggest_uniform('dropout_p', 0.2, 0.5)\n",
            "<ipython-input-129-a3dfcc162ab6>:35: FutureWarning: suggest_loguniform has been deprecated in v3.0.0. This feature will be removed in v6.0.0. See https://github.com/optuna/optuna/releases/tag/v3.0.0. Use suggest_float(..., log=True) instead.\n",
            "  l2_reg = trial.suggest_loguniform('l2_reg', 1e-5, 1e-2)\n",
            "[I 2023-11-24 15:22:56,739] Trial 22 finished with value: 0.6803012490272522 and parameters: {'hidden_size': 256, 'learning_rate': 0.009418056312643712, 'dropout_p': 0.25591184877768547, 'l2_reg': 4.843997537421538e-05, 'batch_size': 32}. Best is trial 12 with value: 0.6779764294624329.\n",
            "<ipython-input-129-a3dfcc162ab6>:33: FutureWarning: suggest_loguniform has been deprecated in v3.0.0. This feature will be removed in v6.0.0. See https://github.com/optuna/optuna/releases/tag/v3.0.0. Use suggest_float(..., log=True) instead.\n",
            "  learning_rate = trial.suggest_loguniform('learning_rate', 1e-5, 1e-2)\n",
            "<ipython-input-129-a3dfcc162ab6>:34: FutureWarning: suggest_uniform has been deprecated in v3.0.0. This feature will be removed in v6.0.0. See https://github.com/optuna/optuna/releases/tag/v3.0.0. Use suggest_float instead.\n",
            "  dropout_p = trial.suggest_uniform('dropout_p', 0.2, 0.5)\n",
            "<ipython-input-129-a3dfcc162ab6>:35: FutureWarning: suggest_loguniform has been deprecated in v3.0.0. This feature will be removed in v6.0.0. See https://github.com/optuna/optuna/releases/tag/v3.0.0. Use suggest_float(..., log=True) instead.\n",
            "  l2_reg = trial.suggest_loguniform('l2_reg', 1e-5, 1e-2)\n",
            "[I 2023-11-24 15:24:14,165] Trial 23 finished with value: 0.67768394947052 and parameters: {'hidden_size': 256, 'learning_rate': 0.0016461136330977331, 'dropout_p': 0.2751080154636587, 'l2_reg': 1.6832780835601314e-05, 'batch_size': 32}. Best is trial 23 with value: 0.67768394947052.\n",
            "<ipython-input-129-a3dfcc162ab6>:33: FutureWarning: suggest_loguniform has been deprecated in v3.0.0. This feature will be removed in v6.0.0. See https://github.com/optuna/optuna/releases/tag/v3.0.0. Use suggest_float(..., log=True) instead.\n",
            "  learning_rate = trial.suggest_loguniform('learning_rate', 1e-5, 1e-2)\n",
            "<ipython-input-129-a3dfcc162ab6>:34: FutureWarning: suggest_uniform has been deprecated in v3.0.0. This feature will be removed in v6.0.0. See https://github.com/optuna/optuna/releases/tag/v3.0.0. Use suggest_float instead.\n",
            "  dropout_p = trial.suggest_uniform('dropout_p', 0.2, 0.5)\n",
            "<ipython-input-129-a3dfcc162ab6>:35: FutureWarning: suggest_loguniform has been deprecated in v3.0.0. This feature will be removed in v6.0.0. See https://github.com/optuna/optuna/releases/tag/v3.0.0. Use suggest_float(..., log=True) instead.\n",
            "  l2_reg = trial.suggest_loguniform('l2_reg', 1e-5, 1e-2)\n",
            "[I 2023-11-24 15:25:17,712] Trial 24 finished with value: 0.6788575649261475 and parameters: {'hidden_size': 256, 'learning_rate': 0.0013854661322631632, 'dropout_p': 0.285944050265781, 'l2_reg': 1.7513252420387347e-05, 'batch_size': 32}. Best is trial 23 with value: 0.67768394947052.\n",
            "<ipython-input-129-a3dfcc162ab6>:33: FutureWarning: suggest_loguniform has been deprecated in v3.0.0. This feature will be removed in v6.0.0. See https://github.com/optuna/optuna/releases/tag/v3.0.0. Use suggest_float(..., log=True) instead.\n",
            "  learning_rate = trial.suggest_loguniform('learning_rate', 1e-5, 1e-2)\n",
            "<ipython-input-129-a3dfcc162ab6>:34: FutureWarning: suggest_uniform has been deprecated in v3.0.0. This feature will be removed in v6.0.0. See https://github.com/optuna/optuna/releases/tag/v3.0.0. Use suggest_float instead.\n",
            "  dropout_p = trial.suggest_uniform('dropout_p', 0.2, 0.5)\n",
            "<ipython-input-129-a3dfcc162ab6>:35: FutureWarning: suggest_loguniform has been deprecated in v3.0.0. This feature will be removed in v6.0.0. See https://github.com/optuna/optuna/releases/tag/v3.0.0. Use suggest_float(..., log=True) instead.\n",
            "  l2_reg = trial.suggest_loguniform('l2_reg', 1e-5, 1e-2)\n",
            "[I 2023-11-24 15:25:57,141] Trial 25 finished with value: 0.6780676245689392 and parameters: {'hidden_size': 256, 'learning_rate': 0.002199494931660149, 'dropout_p': 0.22829656171272958, 'l2_reg': 2.0166633923992014e-05, 'batch_size': 32}. Best is trial 23 with value: 0.67768394947052.\n",
            "<ipython-input-129-a3dfcc162ab6>:33: FutureWarning: suggest_loguniform has been deprecated in v3.0.0. This feature will be removed in v6.0.0. See https://github.com/optuna/optuna/releases/tag/v3.0.0. Use suggest_float(..., log=True) instead.\n",
            "  learning_rate = trial.suggest_loguniform('learning_rate', 1e-5, 1e-2)\n",
            "<ipython-input-129-a3dfcc162ab6>:34: FutureWarning: suggest_uniform has been deprecated in v3.0.0. This feature will be removed in v6.0.0. See https://github.com/optuna/optuna/releases/tag/v3.0.0. Use suggest_float instead.\n",
            "  dropout_p = trial.suggest_uniform('dropout_p', 0.2, 0.5)\n",
            "<ipython-input-129-a3dfcc162ab6>:35: FutureWarning: suggest_loguniform has been deprecated in v3.0.0. This feature will be removed in v6.0.0. See https://github.com/optuna/optuna/releases/tag/v3.0.0. Use suggest_float(..., log=True) instead.\n",
            "  l2_reg = trial.suggest_loguniform('l2_reg', 1e-5, 1e-2)\n",
            "[I 2023-11-24 15:27:24,115] Trial 26 finished with value: 0.6791224479675293 and parameters: {'hidden_size': 256, 'learning_rate': 0.0034112501988771814, 'dropout_p': 0.22715298307791468, 'l2_reg': 1.733417651120169e-05, 'batch_size': 32}. Best is trial 23 with value: 0.67768394947052.\n",
            "<ipython-input-129-a3dfcc162ab6>:33: FutureWarning: suggest_loguniform has been deprecated in v3.0.0. This feature will be removed in v6.0.0. See https://github.com/optuna/optuna/releases/tag/v3.0.0. Use suggest_float(..., log=True) instead.\n",
            "  learning_rate = trial.suggest_loguniform('learning_rate', 1e-5, 1e-2)\n",
            "<ipython-input-129-a3dfcc162ab6>:34: FutureWarning: suggest_uniform has been deprecated in v3.0.0. This feature will be removed in v6.0.0. See https://github.com/optuna/optuna/releases/tag/v3.0.0. Use suggest_float instead.\n",
            "  dropout_p = trial.suggest_uniform('dropout_p', 0.2, 0.5)\n",
            "<ipython-input-129-a3dfcc162ab6>:35: FutureWarning: suggest_loguniform has been deprecated in v3.0.0. This feature will be removed in v6.0.0. See https://github.com/optuna/optuna/releases/tag/v3.0.0. Use suggest_float(..., log=True) instead.\n",
            "  l2_reg = trial.suggest_loguniform('l2_reg', 1e-5, 1e-2)\n",
            "[I 2023-11-24 15:28:05,344] Trial 27 finished with value: 0.6803056597709656 and parameters: {'hidden_size': 256, 'learning_rate': 0.00111062700979929, 'dropout_p': 0.2013988849606846, 'l2_reg': 3.501824073624091e-05, 'batch_size': 32}. Best is trial 23 with value: 0.67768394947052.\n",
            "<ipython-input-129-a3dfcc162ab6>:33: FutureWarning: suggest_loguniform has been deprecated in v3.0.0. This feature will be removed in v6.0.0. See https://github.com/optuna/optuna/releases/tag/v3.0.0. Use suggest_float(..., log=True) instead.\n",
            "  learning_rate = trial.suggest_loguniform('learning_rate', 1e-5, 1e-2)\n",
            "<ipython-input-129-a3dfcc162ab6>:34: FutureWarning: suggest_uniform has been deprecated in v3.0.0. This feature will be removed in v6.0.0. See https://github.com/optuna/optuna/releases/tag/v3.0.0. Use suggest_float instead.\n",
            "  dropout_p = trial.suggest_uniform('dropout_p', 0.2, 0.5)\n",
            "<ipython-input-129-a3dfcc162ab6>:35: FutureWarning: suggest_loguniform has been deprecated in v3.0.0. This feature will be removed in v6.0.0. See https://github.com/optuna/optuna/releases/tag/v3.0.0. Use suggest_float(..., log=True) instead.\n",
            "  l2_reg = trial.suggest_loguniform('l2_reg', 1e-5, 1e-2)\n",
            "[I 2023-11-24 15:28:18,414] Trial 28 finished with value: 0.6827949285507202 and parameters: {'hidden_size': 128, 'learning_rate': 0.0017658553121879062, 'dropout_p': 0.28333329271741536, 'l2_reg': 1.796892581663126e-05, 'batch_size': 64}. Best is trial 23 with value: 0.67768394947052.\n",
            "<ipython-input-129-a3dfcc162ab6>:33: FutureWarning: suggest_loguniform has been deprecated in v3.0.0. This feature will be removed in v6.0.0. See https://github.com/optuna/optuna/releases/tag/v3.0.0. Use suggest_float(..., log=True) instead.\n",
            "  learning_rate = trial.suggest_loguniform('learning_rate', 1e-5, 1e-2)\n",
            "<ipython-input-129-a3dfcc162ab6>:34: FutureWarning: suggest_uniform has been deprecated in v3.0.0. This feature will be removed in v6.0.0. See https://github.com/optuna/optuna/releases/tag/v3.0.0. Use suggest_float instead.\n",
            "  dropout_p = trial.suggest_uniform('dropout_p', 0.2, 0.5)\n",
            "<ipython-input-129-a3dfcc162ab6>:35: FutureWarning: suggest_loguniform has been deprecated in v3.0.0. This feature will be removed in v6.0.0. See https://github.com/optuna/optuna/releases/tag/v3.0.0. Use suggest_float(..., log=True) instead.\n",
            "  l2_reg = trial.suggest_loguniform('l2_reg', 1e-5, 1e-2)\n",
            "[I 2023-11-24 15:28:33,620] Trial 29 finished with value: 0.6783864498138428 and parameters: {'hidden_size': 64, 'learning_rate': 0.0037172110957570583, 'dropout_p': 0.25665180987329245, 'l2_reg': 1.0394602822209641e-05, 'batch_size': 128}. Best is trial 23 with value: 0.67768394947052.\n",
            "[I 2023-11-24 15:28:33,623] A new study created in memory with name: no-name-aad28875-667b-4801-80ec-246519a23b14\n",
            "<ipython-input-129-a3dfcc162ab6>:33: FutureWarning: suggest_loguniform has been deprecated in v3.0.0. This feature will be removed in v6.0.0. See https://github.com/optuna/optuna/releases/tag/v3.0.0. Use suggest_float(..., log=True) instead.\n",
            "  learning_rate = trial.suggest_loguniform('learning_rate', 1e-5, 1e-2)\n",
            "<ipython-input-129-a3dfcc162ab6>:34: FutureWarning: suggest_uniform has been deprecated in v3.0.0. This feature will be removed in v6.0.0. See https://github.com/optuna/optuna/releases/tag/v3.0.0. Use suggest_float instead.\n",
            "  dropout_p = trial.suggest_uniform('dropout_p', 0.2, 0.5)\n",
            "<ipython-input-129-a3dfcc162ab6>:35: FutureWarning: suggest_loguniform has been deprecated in v3.0.0. This feature will be removed in v6.0.0. See https://github.com/optuna/optuna/releases/tag/v3.0.0. Use suggest_float(..., log=True) instead.\n",
            "  l2_reg = trial.suggest_loguniform('l2_reg', 1e-5, 1e-2)\n",
            "[I 2023-11-24 15:29:03,955] Trial 0 finished with value: 0.6831746101379395 and parameters: {'hidden_size': 128, 'learning_rate': 0.00023645723334377456, 'dropout_p': 0.3800779488023378, 'l2_reg': 0.00010313995478298113, 'batch_size': 128}. Best is trial 0 with value: 0.6831746101379395.\n",
            "<ipython-input-129-a3dfcc162ab6>:33: FutureWarning: suggest_loguniform has been deprecated in v3.0.0. This feature will be removed in v6.0.0. See https://github.com/optuna/optuna/releases/tag/v3.0.0. Use suggest_float(..., log=True) instead.\n",
            "  learning_rate = trial.suggest_loguniform('learning_rate', 1e-5, 1e-2)\n",
            "<ipython-input-129-a3dfcc162ab6>:34: FutureWarning: suggest_uniform has been deprecated in v3.0.0. This feature will be removed in v6.0.0. See https://github.com/optuna/optuna/releases/tag/v3.0.0. Use suggest_float instead.\n",
            "  dropout_p = trial.suggest_uniform('dropout_p', 0.2, 0.5)\n",
            "<ipython-input-129-a3dfcc162ab6>:35: FutureWarning: suggest_loguniform has been deprecated in v3.0.0. This feature will be removed in v6.0.0. See https://github.com/optuna/optuna/releases/tag/v3.0.0. Use suggest_float(..., log=True) instead.\n",
            "  l2_reg = trial.suggest_loguniform('l2_reg', 1e-5, 1e-2)\n",
            "[I 2023-11-24 15:29:17,438] Trial 1 finished with value: 0.6826903820037842 and parameters: {'hidden_size': 128, 'learning_rate': 0.009465627573840217, 'dropout_p': 0.28643438075795985, 'l2_reg': 0.0007072438334858077, 'batch_size': 64}. Best is trial 1 with value: 0.6826903820037842.\n",
            "<ipython-input-129-a3dfcc162ab6>:33: FutureWarning: suggest_loguniform has been deprecated in v3.0.0. This feature will be removed in v6.0.0. See https://github.com/optuna/optuna/releases/tag/v3.0.0. Use suggest_float(..., log=True) instead.\n",
            "  learning_rate = trial.suggest_loguniform('learning_rate', 1e-5, 1e-2)\n",
            "<ipython-input-129-a3dfcc162ab6>:34: FutureWarning: suggest_uniform has been deprecated in v3.0.0. This feature will be removed in v6.0.0. See https://github.com/optuna/optuna/releases/tag/v3.0.0. Use suggest_float instead.\n",
            "  dropout_p = trial.suggest_uniform('dropout_p', 0.2, 0.5)\n",
            "<ipython-input-129-a3dfcc162ab6>:35: FutureWarning: suggest_loguniform has been deprecated in v3.0.0. This feature will be removed in v6.0.0. See https://github.com/optuna/optuna/releases/tag/v3.0.0. Use suggest_float(..., log=True) instead.\n",
            "  l2_reg = trial.suggest_loguniform('l2_reg', 1e-5, 1e-2)\n",
            "[I 2023-11-24 15:29:59,331] Trial 2 finished with value: 0.6817327737808228 and parameters: {'hidden_size': 256, 'learning_rate': 0.0015892813498759124, 'dropout_p': 0.3043275467567283, 'l2_reg': 0.00037165623096466324, 'batch_size': 64}. Best is trial 2 with value: 0.6817327737808228.\n",
            "<ipython-input-129-a3dfcc162ab6>:33: FutureWarning: suggest_loguniform has been deprecated in v3.0.0. This feature will be removed in v6.0.0. See https://github.com/optuna/optuna/releases/tag/v3.0.0. Use suggest_float(..., log=True) instead.\n",
            "  learning_rate = trial.suggest_loguniform('learning_rate', 1e-5, 1e-2)\n",
            "<ipython-input-129-a3dfcc162ab6>:34: FutureWarning: suggest_uniform has been deprecated in v3.0.0. This feature will be removed in v6.0.0. See https://github.com/optuna/optuna/releases/tag/v3.0.0. Use suggest_float instead.\n",
            "  dropout_p = trial.suggest_uniform('dropout_p', 0.2, 0.5)\n",
            "<ipython-input-129-a3dfcc162ab6>:35: FutureWarning: suggest_loguniform has been deprecated in v3.0.0. This feature will be removed in v6.0.0. See https://github.com/optuna/optuna/releases/tag/v3.0.0. Use suggest_float(..., log=True) instead.\n",
            "  l2_reg = trial.suggest_loguniform('l2_reg', 1e-5, 1e-2)\n",
            "[I 2023-11-24 15:30:18,787] Trial 3 finished with value: 0.6828851699829102 and parameters: {'hidden_size': 256, 'learning_rate': 0.00024024357756322526, 'dropout_p': 0.31685835372834353, 'l2_reg': 0.00012952359335290274, 'batch_size': 128}. Best is trial 2 with value: 0.6817327737808228.\n",
            "<ipython-input-129-a3dfcc162ab6>:33: FutureWarning: suggest_loguniform has been deprecated in v3.0.0. This feature will be removed in v6.0.0. See https://github.com/optuna/optuna/releases/tag/v3.0.0. Use suggest_float(..., log=True) instead.\n",
            "  learning_rate = trial.suggest_loguniform('learning_rate', 1e-5, 1e-2)\n",
            "<ipython-input-129-a3dfcc162ab6>:34: FutureWarning: suggest_uniform has been deprecated in v3.0.0. This feature will be removed in v6.0.0. See https://github.com/optuna/optuna/releases/tag/v3.0.0. Use suggest_float instead.\n",
            "  dropout_p = trial.suggest_uniform('dropout_p', 0.2, 0.5)\n",
            "<ipython-input-129-a3dfcc162ab6>:35: FutureWarning: suggest_loguniform has been deprecated in v3.0.0. This feature will be removed in v6.0.0. See https://github.com/optuna/optuna/releases/tag/v3.0.0. Use suggest_float(..., log=True) instead.\n",
            "  l2_reg = trial.suggest_loguniform('l2_reg', 1e-5, 1e-2)\n",
            "[I 2023-11-24 15:31:05,836] Trial 4 finished with value: 0.6898621320724487 and parameters: {'hidden_size': 64, 'learning_rate': 7.225575189213845e-05, 'dropout_p': 0.45175264820042477, 'l2_reg': 0.005074472238242532, 'batch_size': 128}. Best is trial 2 with value: 0.6817327737808228.\n",
            "<ipython-input-129-a3dfcc162ab6>:33: FutureWarning: suggest_loguniform has been deprecated in v3.0.0. This feature will be removed in v6.0.0. See https://github.com/optuna/optuna/releases/tag/v3.0.0. Use suggest_float(..., log=True) instead.\n",
            "  learning_rate = trial.suggest_loguniform('learning_rate', 1e-5, 1e-2)\n",
            "<ipython-input-129-a3dfcc162ab6>:34: FutureWarning: suggest_uniform has been deprecated in v3.0.0. This feature will be removed in v6.0.0. See https://github.com/optuna/optuna/releases/tag/v3.0.0. Use suggest_float instead.\n",
            "  dropout_p = trial.suggest_uniform('dropout_p', 0.2, 0.5)\n",
            "<ipython-input-129-a3dfcc162ab6>:35: FutureWarning: suggest_loguniform has been deprecated in v3.0.0. This feature will be removed in v6.0.0. See https://github.com/optuna/optuna/releases/tag/v3.0.0. Use suggest_float(..., log=True) instead.\n",
            "  l2_reg = trial.suggest_loguniform('l2_reg', 1e-5, 1e-2)\n",
            "[I 2023-11-24 15:32:02,489] Trial 5 finished with value: 0.6832616329193115 and parameters: {'hidden_size': 256, 'learning_rate': 0.00042113818598400987, 'dropout_p': 0.27454594629211954, 'l2_reg': 0.0008480508390370438, 'batch_size': 64}. Best is trial 2 with value: 0.6817327737808228.\n",
            "<ipython-input-129-a3dfcc162ab6>:33: FutureWarning: suggest_loguniform has been deprecated in v3.0.0. This feature will be removed in v6.0.0. See https://github.com/optuna/optuna/releases/tag/v3.0.0. Use suggest_float(..., log=True) instead.\n",
            "  learning_rate = trial.suggest_loguniform('learning_rate', 1e-5, 1e-2)\n",
            "<ipython-input-129-a3dfcc162ab6>:34: FutureWarning: suggest_uniform has been deprecated in v3.0.0. This feature will be removed in v6.0.0. See https://github.com/optuna/optuna/releases/tag/v3.0.0. Use suggest_float instead.\n",
            "  dropout_p = trial.suggest_uniform('dropout_p', 0.2, 0.5)\n",
            "<ipython-input-129-a3dfcc162ab6>:35: FutureWarning: suggest_loguniform has been deprecated in v3.0.0. This feature will be removed in v6.0.0. See https://github.com/optuna/optuna/releases/tag/v3.0.0. Use suggest_float(..., log=True) instead.\n",
            "  l2_reg = trial.suggest_loguniform('l2_reg', 1e-5, 1e-2)\n",
            "[I 2023-11-24 15:32:41,309] Trial 6 finished with value: 0.6876888275146484 and parameters: {'hidden_size': 128, 'learning_rate': 2.7084651578855266e-05, 'dropout_p': 0.3250936559204839, 'l2_reg': 0.00021205800089497783, 'batch_size': 32}. Best is trial 2 with value: 0.6817327737808228.\n",
            "<ipython-input-129-a3dfcc162ab6>:33: FutureWarning: suggest_loguniform has been deprecated in v3.0.0. This feature will be removed in v6.0.0. See https://github.com/optuna/optuna/releases/tag/v3.0.0. Use suggest_float(..., log=True) instead.\n",
            "  learning_rate = trial.suggest_loguniform('learning_rate', 1e-5, 1e-2)\n",
            "<ipython-input-129-a3dfcc162ab6>:34: FutureWarning: suggest_uniform has been deprecated in v3.0.0. This feature will be removed in v6.0.0. See https://github.com/optuna/optuna/releases/tag/v3.0.0. Use suggest_float instead.\n",
            "  dropout_p = trial.suggest_uniform('dropout_p', 0.2, 0.5)\n",
            "<ipython-input-129-a3dfcc162ab6>:35: FutureWarning: suggest_loguniform has been deprecated in v3.0.0. This feature will be removed in v6.0.0. See https://github.com/optuna/optuna/releases/tag/v3.0.0. Use suggest_float(..., log=True) instead.\n",
            "  l2_reg = trial.suggest_loguniform('l2_reg', 1e-5, 1e-2)\n",
            "[I 2023-11-24 15:33:29,487] Trial 7 finished with value: 0.6806758642196655 and parameters: {'hidden_size': 128, 'learning_rate': 0.0006612657375080791, 'dropout_p': 0.39203129042974283, 'l2_reg': 0.00010771997273056552, 'batch_size': 64}. Best is trial 7 with value: 0.6806758642196655.\n",
            "<ipython-input-129-a3dfcc162ab6>:33: FutureWarning: suggest_loguniform has been deprecated in v3.0.0. This feature will be removed in v6.0.0. See https://github.com/optuna/optuna/releases/tag/v3.0.0. Use suggest_float(..., log=True) instead.\n",
            "  learning_rate = trial.suggest_loguniform('learning_rate', 1e-5, 1e-2)\n",
            "<ipython-input-129-a3dfcc162ab6>:34: FutureWarning: suggest_uniform has been deprecated in v3.0.0. This feature will be removed in v6.0.0. See https://github.com/optuna/optuna/releases/tag/v3.0.0. Use suggest_float instead.\n",
            "  dropout_p = trial.suggest_uniform('dropout_p', 0.2, 0.5)\n",
            "<ipython-input-129-a3dfcc162ab6>:35: FutureWarning: suggest_loguniform has been deprecated in v3.0.0. This feature will be removed in v6.0.0. See https://github.com/optuna/optuna/releases/tag/v3.0.0. Use suggest_float(..., log=True) instead.\n",
            "  l2_reg = trial.suggest_loguniform('l2_reg', 1e-5, 1e-2)\n",
            "[I 2023-11-24 15:34:14,922] Trial 8 finished with value: 0.6799878478050232 and parameters: {'hidden_size': 256, 'learning_rate': 0.0013448930136563647, 'dropout_p': 0.266655281161976, 'l2_reg': 6.389996549011474e-05, 'batch_size': 128}. Best is trial 8 with value: 0.6799878478050232.\n",
            "<ipython-input-129-a3dfcc162ab6>:33: FutureWarning: suggest_loguniform has been deprecated in v3.0.0. This feature will be removed in v6.0.0. See https://github.com/optuna/optuna/releases/tag/v3.0.0. Use suggest_float(..., log=True) instead.\n",
            "  learning_rate = trial.suggest_loguniform('learning_rate', 1e-5, 1e-2)\n",
            "<ipython-input-129-a3dfcc162ab6>:34: FutureWarning: suggest_uniform has been deprecated in v3.0.0. This feature will be removed in v6.0.0. See https://github.com/optuna/optuna/releases/tag/v3.0.0. Use suggest_float instead.\n",
            "  dropout_p = trial.suggest_uniform('dropout_p', 0.2, 0.5)\n",
            "<ipython-input-129-a3dfcc162ab6>:35: FutureWarning: suggest_loguniform has been deprecated in v3.0.0. This feature will be removed in v6.0.0. See https://github.com/optuna/optuna/releases/tag/v3.0.0. Use suggest_float(..., log=True) instead.\n",
            "  l2_reg = trial.suggest_loguniform('l2_reg', 1e-5, 1e-2)\n",
            "[I 2023-11-24 15:34:38,843] Trial 9 finished with value: 0.6878678798675537 and parameters: {'hidden_size': 128, 'learning_rate': 0.0003471373709200324, 'dropout_p': 0.491967662679831, 'l2_reg': 0.004816580519321805, 'batch_size': 32}. Best is trial 8 with value: 0.6799878478050232.\n",
            "<ipython-input-129-a3dfcc162ab6>:33: FutureWarning: suggest_loguniform has been deprecated in v3.0.0. This feature will be removed in v6.0.0. See https://github.com/optuna/optuna/releases/tag/v3.0.0. Use suggest_float(..., log=True) instead.\n",
            "  learning_rate = trial.suggest_loguniform('learning_rate', 1e-5, 1e-2)\n",
            "<ipython-input-129-a3dfcc162ab6>:34: FutureWarning: suggest_uniform has been deprecated in v3.0.0. This feature will be removed in v6.0.0. See https://github.com/optuna/optuna/releases/tag/v3.0.0. Use suggest_float instead.\n",
            "  dropout_p = trial.suggest_uniform('dropout_p', 0.2, 0.5)\n",
            "<ipython-input-129-a3dfcc162ab6>:35: FutureWarning: suggest_loguniform has been deprecated in v3.0.0. This feature will be removed in v6.0.0. See https://github.com/optuna/optuna/releases/tag/v3.0.0. Use suggest_float(..., log=True) instead.\n",
            "  l2_reg = trial.suggest_loguniform('l2_reg', 1e-5, 1e-2)\n",
            "[I 2023-11-24 15:36:14,471] Trial 10 finished with value: 0.6860077977180481 and parameters: {'hidden_size': 64, 'learning_rate': 4.761895016683321e-05, 'dropout_p': 0.26147090702084713, 'l2_reg': 0.00039296346012507983, 'batch_size': 32}. Best is trial 8 with value: 0.6799878478050232.\n",
            "<ipython-input-129-a3dfcc162ab6>:33: FutureWarning: suggest_loguniform has been deprecated in v3.0.0. This feature will be removed in v6.0.0. See https://github.com/optuna/optuna/releases/tag/v3.0.0. Use suggest_float(..., log=True) instead.\n",
            "  learning_rate = trial.suggest_loguniform('learning_rate', 1e-5, 1e-2)\n",
            "<ipython-input-129-a3dfcc162ab6>:34: FutureWarning: suggest_uniform has been deprecated in v3.0.0. This feature will be removed in v6.0.0. See https://github.com/optuna/optuna/releases/tag/v3.0.0. Use suggest_float instead.\n",
            "  dropout_p = trial.suggest_uniform('dropout_p', 0.2, 0.5)\n",
            "<ipython-input-129-a3dfcc162ab6>:35: FutureWarning: suggest_loguniform has been deprecated in v3.0.0. This feature will be removed in v6.0.0. See https://github.com/optuna/optuna/releases/tag/v3.0.0. Use suggest_float(..., log=True) instead.\n",
            "  l2_reg = trial.suggest_loguniform('l2_reg', 1e-5, 1e-2)\n",
            "[I 2023-11-24 15:38:07,545] Trial 11 finished with value: 0.6874951124191284 and parameters: {'hidden_size': 64, 'learning_rate': 2.0942795449561146e-05, 'dropout_p': 0.2628301601666251, 'l2_reg': 0.0006147813081584253, 'batch_size': 64}. Best is trial 8 with value: 0.6799878478050232.\n",
            "<ipython-input-129-a3dfcc162ab6>:33: FutureWarning: suggest_loguniform has been deprecated in v3.0.0. This feature will be removed in v6.0.0. See https://github.com/optuna/optuna/releases/tag/v3.0.0. Use suggest_float(..., log=True) instead.\n",
            "  learning_rate = trial.suggest_loguniform('learning_rate', 1e-5, 1e-2)\n",
            "<ipython-input-129-a3dfcc162ab6>:34: FutureWarning: suggest_uniform has been deprecated in v3.0.0. This feature will be removed in v6.0.0. See https://github.com/optuna/optuna/releases/tag/v3.0.0. Use suggest_float instead.\n",
            "  dropout_p = trial.suggest_uniform('dropout_p', 0.2, 0.5)\n",
            "<ipython-input-129-a3dfcc162ab6>:35: FutureWarning: suggest_loguniform has been deprecated in v3.0.0. This feature will be removed in v6.0.0. See https://github.com/optuna/optuna/releases/tag/v3.0.0. Use suggest_float(..., log=True) instead.\n",
            "  l2_reg = trial.suggest_loguniform('l2_reg', 1e-5, 1e-2)\n",
            "[I 2023-11-24 15:39:18,710] Trial 12 finished with value: 0.6837906837463379 and parameters: {'hidden_size': 64, 'learning_rate': 0.00014147030953575603, 'dropout_p': 0.2913255359676684, 'l2_reg': 0.00011166120045635361, 'batch_size': 32}. Best is trial 8 with value: 0.6799878478050232.\n",
            "<ipython-input-129-a3dfcc162ab6>:33: FutureWarning: suggest_loguniform has been deprecated in v3.0.0. This feature will be removed in v6.0.0. See https://github.com/optuna/optuna/releases/tag/v3.0.0. Use suggest_float(..., log=True) instead.\n",
            "  learning_rate = trial.suggest_loguniform('learning_rate', 1e-5, 1e-2)\n",
            "<ipython-input-129-a3dfcc162ab6>:34: FutureWarning: suggest_uniform has been deprecated in v3.0.0. This feature will be removed in v6.0.0. See https://github.com/optuna/optuna/releases/tag/v3.0.0. Use suggest_float instead.\n",
            "  dropout_p = trial.suggest_uniform('dropout_p', 0.2, 0.5)\n",
            "<ipython-input-129-a3dfcc162ab6>:35: FutureWarning: suggest_loguniform has been deprecated in v3.0.0. This feature will be removed in v6.0.0. See https://github.com/optuna/optuna/releases/tag/v3.0.0. Use suggest_float(..., log=True) instead.\n",
            "  l2_reg = trial.suggest_loguniform('l2_reg', 1e-5, 1e-2)\n",
            "[I 2023-11-24 15:39:56,599] Trial 13 finished with value: 0.682174801826477 and parameters: {'hidden_size': 256, 'learning_rate': 0.0008078674479581944, 'dropout_p': 0.3850494515776489, 'l2_reg': 0.0004413591582404041, 'batch_size': 32}. Best is trial 8 with value: 0.6799878478050232.\n",
            "<ipython-input-129-a3dfcc162ab6>:33: FutureWarning: suggest_loguniform has been deprecated in v3.0.0. This feature will be removed in v6.0.0. See https://github.com/optuna/optuna/releases/tag/v3.0.0. Use suggest_float(..., log=True) instead.\n",
            "  learning_rate = trial.suggest_loguniform('learning_rate', 1e-5, 1e-2)\n",
            "<ipython-input-129-a3dfcc162ab6>:34: FutureWarning: suggest_uniform has been deprecated in v3.0.0. This feature will be removed in v6.0.0. See https://github.com/optuna/optuna/releases/tag/v3.0.0. Use suggest_float instead.\n",
            "  dropout_p = trial.suggest_uniform('dropout_p', 0.2, 0.5)\n",
            "<ipython-input-129-a3dfcc162ab6>:35: FutureWarning: suggest_loguniform has been deprecated in v3.0.0. This feature will be removed in v6.0.0. See https://github.com/optuna/optuna/releases/tag/v3.0.0. Use suggest_float(..., log=True) instead.\n",
            "  l2_reg = trial.suggest_loguniform('l2_reg', 1e-5, 1e-2)\n",
            "[I 2023-11-24 15:40:29,234] Trial 14 finished with value: 0.6891779899597168 and parameters: {'hidden_size': 64, 'learning_rate': 7.494540417615959e-05, 'dropout_p': 0.43854006769719955, 'l2_reg': 0.002940648822678531, 'batch_size': 128}. Best is trial 8 with value: 0.6799878478050232.\n",
            "<ipython-input-129-a3dfcc162ab6>:33: FutureWarning: suggest_loguniform has been deprecated in v3.0.0. This feature will be removed in v6.0.0. See https://github.com/optuna/optuna/releases/tag/v3.0.0. Use suggest_float(..., log=True) instead.\n",
            "  learning_rate = trial.suggest_loguniform('learning_rate', 1e-5, 1e-2)\n",
            "<ipython-input-129-a3dfcc162ab6>:34: FutureWarning: suggest_uniform has been deprecated in v3.0.0. This feature will be removed in v6.0.0. See https://github.com/optuna/optuna/releases/tag/v3.0.0. Use suggest_float instead.\n",
            "  dropout_p = trial.suggest_uniform('dropout_p', 0.2, 0.5)\n",
            "<ipython-input-129-a3dfcc162ab6>:35: FutureWarning: suggest_loguniform has been deprecated in v3.0.0. This feature will be removed in v6.0.0. See https://github.com/optuna/optuna/releases/tag/v3.0.0. Use suggest_float(..., log=True) instead.\n",
            "  l2_reg = trial.suggest_loguniform('l2_reg', 1e-5, 1e-2)\n",
            "[I 2023-11-24 15:41:26,059] Trial 15 finished with value: 0.6944591999053955 and parameters: {'hidden_size': 64, 'learning_rate': 2.0051771944228156e-05, 'dropout_p': 0.3066602347218355, 'l2_reg': 0.008655717330396022, 'batch_size': 64}. Best is trial 8 with value: 0.6799878478050232.\n",
            "<ipython-input-129-a3dfcc162ab6>:33: FutureWarning: suggest_loguniform has been deprecated in v3.0.0. This feature will be removed in v6.0.0. See https://github.com/optuna/optuna/releases/tag/v3.0.0. Use suggest_float(..., log=True) instead.\n",
            "  learning_rate = trial.suggest_loguniform('learning_rate', 1e-5, 1e-2)\n",
            "<ipython-input-129-a3dfcc162ab6>:34: FutureWarning: suggest_uniform has been deprecated in v3.0.0. This feature will be removed in v6.0.0. See https://github.com/optuna/optuna/releases/tag/v3.0.0. Use suggest_float instead.\n",
            "  dropout_p = trial.suggest_uniform('dropout_p', 0.2, 0.5)\n",
            "<ipython-input-129-a3dfcc162ab6>:35: FutureWarning: suggest_loguniform has been deprecated in v3.0.0. This feature will be removed in v6.0.0. See https://github.com/optuna/optuna/releases/tag/v3.0.0. Use suggest_float(..., log=True) instead.\n",
            "  l2_reg = trial.suggest_loguniform('l2_reg', 1e-5, 1e-2)\n",
            "[I 2023-11-24 15:41:56,115] Trial 16 finished with value: 0.690602719783783 and parameters: {'hidden_size': 64, 'learning_rate': 9.249249140729723e-05, 'dropout_p': 0.4918195551591822, 'l2_reg': 0.005038403429260556, 'batch_size': 64}. Best is trial 8 with value: 0.6799878478050232.\n",
            "<ipython-input-129-a3dfcc162ab6>:33: FutureWarning: suggest_loguniform has been deprecated in v3.0.0. This feature will be removed in v6.0.0. See https://github.com/optuna/optuna/releases/tag/v3.0.0. Use suggest_float(..., log=True) instead.\n",
            "  learning_rate = trial.suggest_loguniform('learning_rate', 1e-5, 1e-2)\n",
            "<ipython-input-129-a3dfcc162ab6>:34: FutureWarning: suggest_uniform has been deprecated in v3.0.0. This feature will be removed in v6.0.0. See https://github.com/optuna/optuna/releases/tag/v3.0.0. Use suggest_float instead.\n",
            "  dropout_p = trial.suggest_uniform('dropout_p', 0.2, 0.5)\n",
            "<ipython-input-129-a3dfcc162ab6>:35: FutureWarning: suggest_loguniform has been deprecated in v3.0.0. This feature will be removed in v6.0.0. See https://github.com/optuna/optuna/releases/tag/v3.0.0. Use suggest_float(..., log=True) instead.\n",
            "  l2_reg = trial.suggest_loguniform('l2_reg', 1e-5, 1e-2)\n",
            "[I 2023-11-24 15:43:10,746] Trial 17 finished with value: 0.680001437664032 and parameters: {'hidden_size': 64, 'learning_rate': 0.00029833291555946744, 'dropout_p': 0.2018779241854648, 'l2_reg': 1.2326488052910787e-05, 'batch_size': 32}. Best is trial 8 with value: 0.6799878478050232.\n",
            "<ipython-input-129-a3dfcc162ab6>:33: FutureWarning: suggest_loguniform has been deprecated in v3.0.0. This feature will be removed in v6.0.0. See https://github.com/optuna/optuna/releases/tag/v3.0.0. Use suggest_float(..., log=True) instead.\n",
            "  learning_rate = trial.suggest_loguniform('learning_rate', 1e-5, 1e-2)\n",
            "<ipython-input-129-a3dfcc162ab6>:34: FutureWarning: suggest_uniform has been deprecated in v3.0.0. This feature will be removed in v6.0.0. See https://github.com/optuna/optuna/releases/tag/v3.0.0. Use suggest_float instead.\n",
            "  dropout_p = trial.suggest_uniform('dropout_p', 0.2, 0.5)\n",
            "<ipython-input-129-a3dfcc162ab6>:35: FutureWarning: suggest_loguniform has been deprecated in v3.0.0. This feature will be removed in v6.0.0. See https://github.com/optuna/optuna/releases/tag/v3.0.0. Use suggest_float(..., log=True) instead.\n",
            "  l2_reg = trial.suggest_loguniform('l2_reg', 1e-5, 1e-2)\n",
            "[I 2023-11-24 15:44:39,667] Trial 18 finished with value: 0.6872453689575195 and parameters: {'hidden_size': 128, 'learning_rate': 1.1938599330865057e-05, 'dropout_p': 0.24677357745829076, 'l2_reg': 1.5131201915692855e-05, 'batch_size': 64}. Best is trial 8 with value: 0.6799878478050232.\n",
            "<ipython-input-129-a3dfcc162ab6>:33: FutureWarning: suggest_loguniform has been deprecated in v3.0.0. This feature will be removed in v6.0.0. See https://github.com/optuna/optuna/releases/tag/v3.0.0. Use suggest_float(..., log=True) instead.\n",
            "  learning_rate = trial.suggest_loguniform('learning_rate', 1e-5, 1e-2)\n",
            "<ipython-input-129-a3dfcc162ab6>:34: FutureWarning: suggest_uniform has been deprecated in v3.0.0. This feature will be removed in v6.0.0. See https://github.com/optuna/optuna/releases/tag/v3.0.0. Use suggest_float instead.\n",
            "  dropout_p = trial.suggest_uniform('dropout_p', 0.2, 0.5)\n",
            "<ipython-input-129-a3dfcc162ab6>:35: FutureWarning: suggest_loguniform has been deprecated in v3.0.0. This feature will be removed in v6.0.0. See https://github.com/optuna/optuna/releases/tag/v3.0.0. Use suggest_float(..., log=True) instead.\n",
            "  l2_reg = trial.suggest_loguniform('l2_reg', 1e-5, 1e-2)\n",
            "[I 2023-11-24 15:45:14,357] Trial 19 finished with value: 0.6892625689506531 and parameters: {'hidden_size': 64, 'learning_rate': 0.00010742148344849169, 'dropout_p': 0.35457733820785586, 'l2_reg': 0.004687100964066377, 'batch_size': 128}. Best is trial 8 with value: 0.6799878478050232.\n",
            "<ipython-input-129-a3dfcc162ab6>:33: FutureWarning: suggest_loguniform has been deprecated in v3.0.0. This feature will be removed in v6.0.0. See https://github.com/optuna/optuna/releases/tag/v3.0.0. Use suggest_float(..., log=True) instead.\n",
            "  learning_rate = trial.suggest_loguniform('learning_rate', 1e-5, 1e-2)\n",
            "<ipython-input-129-a3dfcc162ab6>:34: FutureWarning: suggest_uniform has been deprecated in v3.0.0. This feature will be removed in v6.0.0. See https://github.com/optuna/optuna/releases/tag/v3.0.0. Use suggest_float instead.\n",
            "  dropout_p = trial.suggest_uniform('dropout_p', 0.2, 0.5)\n",
            "<ipython-input-129-a3dfcc162ab6>:35: FutureWarning: suggest_loguniform has been deprecated in v3.0.0. This feature will be removed in v6.0.0. See https://github.com/optuna/optuna/releases/tag/v3.0.0. Use suggest_float(..., log=True) instead.\n",
            "  l2_reg = trial.suggest_loguniform('l2_reg', 1e-5, 1e-2)\n",
            "[I 2023-11-24 15:46:29,583] Trial 20 finished with value: 0.6850107908248901 and parameters: {'hidden_size': 256, 'learning_rate': 2.9169846324887228e-05, 'dropout_p': 0.33758321835796445, 'l2_reg': 3.7389090459259594e-05, 'batch_size': 128}. Best is trial 8 with value: 0.6799878478050232.\n",
            "<ipython-input-129-a3dfcc162ab6>:33: FutureWarning: suggest_loguniform has been deprecated in v3.0.0. This feature will be removed in v6.0.0. See https://github.com/optuna/optuna/releases/tag/v3.0.0. Use suggest_float(..., log=True) instead.\n",
            "  learning_rate = trial.suggest_loguniform('learning_rate', 1e-5, 1e-2)\n",
            "<ipython-input-129-a3dfcc162ab6>:34: FutureWarning: suggest_uniform has been deprecated in v3.0.0. This feature will be removed in v6.0.0. See https://github.com/optuna/optuna/releases/tag/v3.0.0. Use suggest_float instead.\n",
            "  dropout_p = trial.suggest_uniform('dropout_p', 0.2, 0.5)\n",
            "<ipython-input-129-a3dfcc162ab6>:35: FutureWarning: suggest_loguniform has been deprecated in v3.0.0. This feature will be removed in v6.0.0. See https://github.com/optuna/optuna/releases/tag/v3.0.0. Use suggest_float(..., log=True) instead.\n",
            "  l2_reg = trial.suggest_loguniform('l2_reg', 1e-5, 1e-2)\n",
            "[I 2023-11-24 15:47:00,903] Trial 21 finished with value: 0.687488317489624 and parameters: {'hidden_size': 64, 'learning_rate': 7.507395555831797e-05, 'dropout_p': 0.4935438441767904, 'l2_reg': 0.00016624562527114202, 'batch_size': 64}. Best is trial 8 with value: 0.6799878478050232.\n",
            "<ipython-input-129-a3dfcc162ab6>:33: FutureWarning: suggest_loguniform has been deprecated in v3.0.0. This feature will be removed in v6.0.0. See https://github.com/optuna/optuna/releases/tag/v3.0.0. Use suggest_float(..., log=True) instead.\n",
            "  learning_rate = trial.suggest_loguniform('learning_rate', 1e-5, 1e-2)\n",
            "<ipython-input-129-a3dfcc162ab6>:34: FutureWarning: suggest_uniform has been deprecated in v3.0.0. This feature will be removed in v6.0.0. See https://github.com/optuna/optuna/releases/tag/v3.0.0. Use suggest_float instead.\n",
            "  dropout_p = trial.suggest_uniform('dropout_p', 0.2, 0.5)\n",
            "<ipython-input-129-a3dfcc162ab6>:35: FutureWarning: suggest_loguniform has been deprecated in v3.0.0. This feature will be removed in v6.0.0. See https://github.com/optuna/optuna/releases/tag/v3.0.0. Use suggest_float(..., log=True) instead.\n",
            "  l2_reg = trial.suggest_loguniform('l2_reg', 1e-5, 1e-2)\n",
            "[I 2023-11-24 15:47:19,417] Trial 22 finished with value: 0.6869770288467407 and parameters: {'hidden_size': 128, 'learning_rate': 0.0007054124829722945, 'dropout_p': 0.2801152531178237, 'l2_reg': 0.008476385561590465, 'batch_size': 64}. Best is trial 8 with value: 0.6799878478050232.\n",
            "<ipython-input-129-a3dfcc162ab6>:33: FutureWarning: suggest_loguniform has been deprecated in v3.0.0. This feature will be removed in v6.0.0. See https://github.com/optuna/optuna/releases/tag/v3.0.0. Use suggest_float(..., log=True) instead.\n",
            "  learning_rate = trial.suggest_loguniform('learning_rate', 1e-5, 1e-2)\n",
            "<ipython-input-129-a3dfcc162ab6>:34: FutureWarning: suggest_uniform has been deprecated in v3.0.0. This feature will be removed in v6.0.0. See https://github.com/optuna/optuna/releases/tag/v3.0.0. Use suggest_float instead.\n",
            "  dropout_p = trial.suggest_uniform('dropout_p', 0.2, 0.5)\n",
            "<ipython-input-129-a3dfcc162ab6>:35: FutureWarning: suggest_loguniform has been deprecated in v3.0.0. This feature will be removed in v6.0.0. See https://github.com/optuna/optuna/releases/tag/v3.0.0. Use suggest_float(..., log=True) instead.\n",
            "  l2_reg = trial.suggest_loguniform('l2_reg', 1e-5, 1e-2)\n",
            "[I 2023-11-24 15:47:48,994] Trial 23 finished with value: 0.6844664812088013 and parameters: {'hidden_size': 256, 'learning_rate': 0.00012801844048963712, 'dropout_p': 0.43181567685218836, 'l2_reg': 0.00013931828397602237, 'batch_size': 64}. Best is trial 8 with value: 0.6799878478050232.\n",
            "<ipython-input-129-a3dfcc162ab6>:33: FutureWarning: suggest_loguniform has been deprecated in v3.0.0. This feature will be removed in v6.0.0. See https://github.com/optuna/optuna/releases/tag/v3.0.0. Use suggest_float(..., log=True) instead.\n",
            "  learning_rate = trial.suggest_loguniform('learning_rate', 1e-5, 1e-2)\n",
            "<ipython-input-129-a3dfcc162ab6>:34: FutureWarning: suggest_uniform has been deprecated in v3.0.0. This feature will be removed in v6.0.0. See https://github.com/optuna/optuna/releases/tag/v3.0.0. Use suggest_float instead.\n",
            "  dropout_p = trial.suggest_uniform('dropout_p', 0.2, 0.5)\n",
            "<ipython-input-129-a3dfcc162ab6>:35: FutureWarning: suggest_loguniform has been deprecated in v3.0.0. This feature will be removed in v6.0.0. See https://github.com/optuna/optuna/releases/tag/v3.0.0. Use suggest_float(..., log=True) instead.\n",
            "  l2_reg = trial.suggest_loguniform('l2_reg', 1e-5, 1e-2)\n",
            "[I 2023-11-24 15:49:17,277] Trial 24 finished with value: 0.6789748668670654 and parameters: {'hidden_size': 256, 'learning_rate': 0.006815123775948322, 'dropout_p': 0.3653593089629452, 'l2_reg': 6.611694572526029e-05, 'batch_size': 32}. Best is trial 24 with value: 0.6789748668670654.\n",
            "<ipython-input-129-a3dfcc162ab6>:33: FutureWarning: suggest_loguniform has been deprecated in v3.0.0. This feature will be removed in v6.0.0. See https://github.com/optuna/optuna/releases/tag/v3.0.0. Use suggest_float(..., log=True) instead.\n",
            "  learning_rate = trial.suggest_loguniform('learning_rate', 1e-5, 1e-2)\n",
            "<ipython-input-129-a3dfcc162ab6>:34: FutureWarning: suggest_uniform has been deprecated in v3.0.0. This feature will be removed in v6.0.0. See https://github.com/optuna/optuna/releases/tag/v3.0.0. Use suggest_float instead.\n",
            "  dropout_p = trial.suggest_uniform('dropout_p', 0.2, 0.5)\n",
            "<ipython-input-129-a3dfcc162ab6>:35: FutureWarning: suggest_loguniform has been deprecated in v3.0.0. This feature will be removed in v6.0.0. See https://github.com/optuna/optuna/releases/tag/v3.0.0. Use suggest_float(..., log=True) instead.\n",
            "  l2_reg = trial.suggest_loguniform('l2_reg', 1e-5, 1e-2)\n",
            "[I 2023-11-24 15:50:15,295] Trial 25 finished with value: 0.6851250529289246 and parameters: {'hidden_size': 128, 'learning_rate': 4.8774987796141186e-05, 'dropout_p': 0.21656130205651225, 'l2_reg': 1.8733470501949438e-05, 'batch_size': 64}. Best is trial 24 with value: 0.6789748668670654.\n",
            "<ipython-input-129-a3dfcc162ab6>:33: FutureWarning: suggest_loguniform has been deprecated in v3.0.0. This feature will be removed in v6.0.0. See https://github.com/optuna/optuna/releases/tag/v3.0.0. Use suggest_float(..., log=True) instead.\n",
            "  learning_rate = trial.suggest_loguniform('learning_rate', 1e-5, 1e-2)\n",
            "<ipython-input-129-a3dfcc162ab6>:34: FutureWarning: suggest_uniform has been deprecated in v3.0.0. This feature will be removed in v6.0.0. See https://github.com/optuna/optuna/releases/tag/v3.0.0. Use suggest_float instead.\n",
            "  dropout_p = trial.suggest_uniform('dropout_p', 0.2, 0.5)\n",
            "<ipython-input-129-a3dfcc162ab6>:35: FutureWarning: suggest_loguniform has been deprecated in v3.0.0. This feature will be removed in v6.0.0. See https://github.com/optuna/optuna/releases/tag/v3.0.0. Use suggest_float(..., log=True) instead.\n",
            "  l2_reg = trial.suggest_loguniform('l2_reg', 1e-5, 1e-2)\n",
            "[I 2023-11-24 15:51:09,701] Trial 26 finished with value: 0.6829867362976074 and parameters: {'hidden_size': 64, 'learning_rate': 0.0014346941682117185, 'dropout_p': 0.4119764250061083, 'l2_reg': 0.0006491656452757424, 'batch_size': 32}. Best is trial 24 with value: 0.6789748668670654.\n",
            "<ipython-input-129-a3dfcc162ab6>:33: FutureWarning: suggest_loguniform has been deprecated in v3.0.0. This feature will be removed in v6.0.0. See https://github.com/optuna/optuna/releases/tag/v3.0.0. Use suggest_float(..., log=True) instead.\n",
            "  learning_rate = trial.suggest_loguniform('learning_rate', 1e-5, 1e-2)\n",
            "<ipython-input-129-a3dfcc162ab6>:34: FutureWarning: suggest_uniform has been deprecated in v3.0.0. This feature will be removed in v6.0.0. See https://github.com/optuna/optuna/releases/tag/v3.0.0. Use suggest_float instead.\n",
            "  dropout_p = trial.suggest_uniform('dropout_p', 0.2, 0.5)\n",
            "<ipython-input-129-a3dfcc162ab6>:35: FutureWarning: suggest_loguniform has been deprecated in v3.0.0. This feature will be removed in v6.0.0. See https://github.com/optuna/optuna/releases/tag/v3.0.0. Use suggest_float(..., log=True) instead.\n",
            "  l2_reg = trial.suggest_loguniform('l2_reg', 1e-5, 1e-2)\n",
            "[I 2023-11-24 15:51:27,791] Trial 27 finished with value: 0.6787195205688477 and parameters: {'hidden_size': 64, 'learning_rate': 0.0032472076000228368, 'dropout_p': 0.27169348652668956, 'l2_reg': 0.0005246843633665318, 'batch_size': 64}. Best is trial 27 with value: 0.6787195205688477.\n",
            "<ipython-input-129-a3dfcc162ab6>:33: FutureWarning: suggest_loguniform has been deprecated in v3.0.0. This feature will be removed in v6.0.0. See https://github.com/optuna/optuna/releases/tag/v3.0.0. Use suggest_float(..., log=True) instead.\n",
            "  learning_rate = trial.suggest_loguniform('learning_rate', 1e-5, 1e-2)\n",
            "<ipython-input-129-a3dfcc162ab6>:34: FutureWarning: suggest_uniform has been deprecated in v3.0.0. This feature will be removed in v6.0.0. See https://github.com/optuna/optuna/releases/tag/v3.0.0. Use suggest_float instead.\n",
            "  dropout_p = trial.suggest_uniform('dropout_p', 0.2, 0.5)\n",
            "<ipython-input-129-a3dfcc162ab6>:35: FutureWarning: suggest_loguniform has been deprecated in v3.0.0. This feature will be removed in v6.0.0. See https://github.com/optuna/optuna/releases/tag/v3.0.0. Use suggest_float(..., log=True) instead.\n",
            "  l2_reg = trial.suggest_loguniform('l2_reg', 1e-5, 1e-2)\n",
            "[I 2023-11-24 15:52:33,366] Trial 28 finished with value: 0.6891186237335205 and parameters: {'hidden_size': 256, 'learning_rate': 4.405636991256418e-05, 'dropout_p': 0.3993953768960965, 'l2_reg': 0.004740201044820586, 'batch_size': 32}. Best is trial 27 with value: 0.6787195205688477.\n",
            "<ipython-input-129-a3dfcc162ab6>:33: FutureWarning: suggest_loguniform has been deprecated in v3.0.0. This feature will be removed in v6.0.0. See https://github.com/optuna/optuna/releases/tag/v3.0.0. Use suggest_float(..., log=True) instead.\n",
            "  learning_rate = trial.suggest_loguniform('learning_rate', 1e-5, 1e-2)\n",
            "<ipython-input-129-a3dfcc162ab6>:34: FutureWarning: suggest_uniform has been deprecated in v3.0.0. This feature will be removed in v6.0.0. See https://github.com/optuna/optuna/releases/tag/v3.0.0. Use suggest_float instead.\n",
            "  dropout_p = trial.suggest_uniform('dropout_p', 0.2, 0.5)\n",
            "<ipython-input-129-a3dfcc162ab6>:35: FutureWarning: suggest_loguniform has been deprecated in v3.0.0. This feature will be removed in v6.0.0. See https://github.com/optuna/optuna/releases/tag/v3.0.0. Use suggest_float(..., log=True) instead.\n",
            "  l2_reg = trial.suggest_loguniform('l2_reg', 1e-5, 1e-2)\n",
            "[I 2023-11-24 15:52:51,124] Trial 29 finished with value: 0.6834245920181274 and parameters: {'hidden_size': 64, 'learning_rate': 0.006338160905295465, 'dropout_p': 0.4769959773091909, 'l2_reg': 3.349760278404854e-05, 'batch_size': 32}. Best is trial 27 with value: 0.6787195205688477.\n"
          ]
        },
        {
          "output_type": "stream",
          "name": "stdout",
          "text": [
            "Best hyperparameters (TPE): {'hidden_size': 256, 'learning_rate': 0.0016461136330977331, 'dropout_p': 0.2751080154636587, 'l2_reg': 1.6832780835601314e-05, 'batch_size': 32}\n",
            "Best hyperparameters (Random): {'hidden_size': 64, 'learning_rate': 0.0032472076000228368, 'dropout_p': 0.27169348652668956, 'l2_reg': 0.0005246843633665318, 'batch_size': 64}\n"
          ]
        }
      ],
      "source": [
        "!pip install optuna\n",
        "\n",
        "import optuna\n",
        "import torch\n",
        "import torch.nn as nn\n",
        "import torch.optim as optim\n",
        "\n",
        "class MyMLP(nn.Module):\n",
        "    def __init__(self, input_size, hidden_size, dropout_p):\n",
        "        super().__init__()\n",
        "        self.model = nn.Sequential(\n",
        "            nn.Linear(input_size, hidden_size),\n",
        "            nn.ReLU(),\n",
        "            nn.Dropout(dropout_p),\n",
        "            nn.Linear(hidden_size, hidden_size // 2),\n",
        "            nn.ReLU(),\n",
        "            nn.Dropout(dropout_p),\n",
        "            nn.Linear(hidden_size // 2, 1)\n",
        "        )\n",
        "\n",
        "    def forward(self, x):\n",
        "        return self.model(x)\n",
        "\n",
        "    def predict_proba(self, x):\n",
        "        return sigmoid(self(x))\n",
        "\n",
        "    def predict(self, x, threshold: float = 0.5):\n",
        "        y_pred_score = self.predict_proba(x)\n",
        "        return (y_pred_score > threshold).to(torch.int32)\n",
        "\n",
        "def objective(trial):\n",
        "    hidden_size = trial.suggest_categorical('hidden_size', [64, 128, 256])\n",
        "    learning_rate = trial.suggest_loguniform('learning_rate', 1e-5, 1e-2)\n",
        "    dropout_p = trial.suggest_uniform('dropout_p', 0.2, 0.5)\n",
        "    l2_reg = trial.suggest_loguniform('l2_reg', 1e-5, 1e-2)\n",
        "    batch_size = trial.suggest_categorical('batch_size', [32, 64, 128])\n",
        "    input_size = X_train.shape[1]\n",
        "\n",
        "    model = MyMLP(input_size, hidden_size, dropout_p)\n",
        "    optimizer = optim.Adam(model.parameters(), lr=learning_rate, weight_decay=l2_reg)\n",
        "    loss_fn = nn.BCEWithLogitsLoss()\n",
        "\n",
        "    train_dataset = MyDataset(X_train, y_train)\n",
        "    train_loader = DataLoader(train_dataset, batch_size=batch_size, shuffle=True)\n",
        "\n",
        "    early_stopping_patience = 10\n",
        "    steps_without_improvement = 0\n",
        "    best_val_loss = float('inf')\n",
        "\n",
        "    # Training loop\n",
        "    for epoch in range(300):\n",
        "        model.train()\n",
        "        for X_batch, y_batch in train_loader:\n",
        "            y_pred = model(X_batch)\n",
        "            loss = loss_fn(y_pred, y_batch)\n",
        "\n",
        "            optimizer.zero_grad()\n",
        "            loss.backward()\n",
        "            optimizer.step()\n",
        "\n",
        "        valid_loss = evaluate_model(model, X_valid, y_valid, loss_fn)['loss_value']\n",
        "        if valid_loss < best_val_loss:\n",
        "            best_val_loss = valid_loss\n",
        "            steps_without_improvement = 0\n",
        "        else:\n",
        "            steps_without_improvement += 1\n",
        "            if steps_without_improvement >= early_stopping_patience:\n",
        "                break\n",
        "\n",
        "    return best_val_loss\n",
        "\n",
        "\n",
        "study = optuna.create_study(direction='minimize', sampler=optuna.samplers.TPESampler())\n",
        "study.optimize(objective, n_trials=30)\n",
        "\n",
        "study_random = optuna.create_study(direction='minimize', sampler=optuna.samplers.RandomSampler())\n",
        "study_random.optimize(objective, n_trials=30)\n",
        "\n",
        "print(\"Best hyperparameters (TPE):\", study.best_trial.params)\n",
        "print(\"Best hyperparameters (Random):\", study_random.best_trial.params)\n"
      ]
    },
    {
      "cell_type": "code",
      "source": [],
      "metadata": {
        "id": "GXgO-U2K2cqv"
      },
      "execution_count": null,
      "outputs": []
    }
  ],
  "metadata": {
    "colab": {
      "provenance": []
    },
    "kernelspec": {
      "display_name": "Python 3 (ipykernel)",
      "language": "python",
      "name": "python3"
    },
    "language_info": {
      "codemirror_mode": {
        "name": "ipython",
        "version": 3
      },
      "file_extension": ".py",
      "mimetype": "text/x-python",
      "name": "python",
      "nbconvert_exporter": "python",
      "pygments_lexer": "ipython3",
      "version": "3.10.6"
    },
    "vscode": {
      "interpreter": {
        "hash": "a5d7af91182035c53be6efb3f9b18ffc3e259c9c524705249407647c970de949"
      }
    }
  },
  "nbformat": 4,
  "nbformat_minor": 0
}